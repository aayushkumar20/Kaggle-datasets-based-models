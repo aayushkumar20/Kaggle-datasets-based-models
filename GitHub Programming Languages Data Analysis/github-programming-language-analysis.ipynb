{
 "cells": [
  {
   "cell_type": "code",
   "execution_count": 1,
   "id": "07a225b2",
   "metadata": {
    "_cell_guid": "b1076dfc-b9ad-4769-8c92-a6c4dae69d19",
    "_uuid": "8f2839f25d086af736a60e9eeb907d3b93b6e0e5",
    "execution": {
     "iopub.execute_input": "2022-02-24T18:08:04.703532Z",
     "iopub.status.busy": "2022-02-24T18:08:04.702136Z",
     "iopub.status.idle": "2022-02-24T18:08:04.720316Z",
     "shell.execute_reply": "2022-02-24T18:08:04.720818Z",
     "shell.execute_reply.started": "2022-02-24T17:31:13.115769Z"
    },
    "papermill": {
     "duration": 0.064114,
     "end_time": "2022-02-24T18:08:04.721311",
     "exception": false,
     "start_time": "2022-02-24T18:08:04.657197",
     "status": "completed"
    },
    "tags": []
   },
   "outputs": [
    {
     "name": "stdout",
     "output_type": "stream",
     "text": [
      "/kaggle/input/github-programming-languages-data/issues.csv\n",
      "/kaggle/input/github-programming-languages-data/prs.csv\n",
      "/kaggle/input/github-programming-languages-data/repos.csv\n"
     ]
    }
   ],
   "source": [
    "# This Python 3 environment comes with many helpful analytics libraries installed\n",
    "# It is defined by the kaggle/python Docker image: https://github.com/kaggle/docker-python\n",
    "# For example, here's several helpful packages to load\n",
    "\n",
    "import numpy as np # linear algebra\n",
    "import pandas as pd # data processing, CSV file I/O (e.g. pd.read_csv)\n",
    "\n",
    "# Input data files are available in the read-only \"../input/\" directory\n",
    "# For example, running this (by clicking run or pressing Shift+Enter) will list all files under the input directory\n",
    "\n",
    "import os\n",
    "for dirname, _, filenames in os.walk('/kaggle/input'):\n",
    "    for filename in filenames:\n",
    "        print(os.path.join(dirname, filename))\n",
    "\n",
    "# You can write up to 20GB to the current directory (/kaggle/working/) that gets preserved as output when you create a version using \"Save & Run All\" \n",
    "# You can also write temporary files to /kaggle/temp/, but they won't be saved outside of the current session"
   ]
  },
  {
   "cell_type": "code",
   "execution_count": 2,
   "id": "4aae04f7",
   "metadata": {
    "execution": {
     "iopub.execute_input": "2022-02-24T18:08:04.807148Z",
     "iopub.status.busy": "2022-02-24T18:08:04.806416Z",
     "iopub.status.idle": "2022-02-24T18:08:07.182842Z",
     "shell.execute_reply": "2022-02-24T18:08:07.183394Z",
     "shell.execute_reply.started": "2022-02-24T17:31:16.950285Z"
    },
    "papermill": {
     "duration": 2.420972,
     "end_time": "2022-02-24T18:08:07.183600",
     "exception": false,
     "start_time": "2022-02-24T18:08:04.762628",
     "status": "completed"
    },
    "tags": []
   },
   "outputs": [
    {
     "data": {
      "text/html": [
       "        <script type=\"text/javascript\">\n",
       "        window.PlotlyConfig = {MathJaxConfig: 'local'};\n",
       "        if (window.MathJax) {MathJax.Hub.Config({SVG: {font: \"STIX-Web\"}});}\n",
       "        if (typeof require !== 'undefined') {\n",
       "        require.undef(\"plotly\");\n",
       "        requirejs.config({\n",
       "            paths: {\n",
       "                'plotly': ['https://cdn.plot.ly/plotly-2.8.3.min']\n",
       "            }\n",
       "        });\n",
       "        require(['plotly'], function(Plotly) {\n",
       "            window._Plotly = Plotly;\n",
       "        });\n",
       "        }\n",
       "        </script>\n",
       "        "
      ]
     },
     "metadata": {},
     "output_type": "display_data"
    }
   ],
   "source": [
    "import plotly as py\n",
    "import plotly.express as px\n",
    "import plotly.graph_objs as go\n",
    "from plotly.subplots import make_subplots\n",
    "from plotly.offline import download_plotlyjs, init_notebook_mode, plot, iplot\n",
    "init_notebook_mode(connected=True)\n",
    "import seaborn as sns\n",
    "import matplotlib.pyplot as plt"
   ]
  },
  {
   "cell_type": "markdown",
   "id": "3df66d20",
   "metadata": {
    "papermill": {
     "duration": 0.041154,
     "end_time": "2022-02-24T18:08:07.266540",
     "exception": false,
     "start_time": "2022-02-24T18:08:07.225386",
     "status": "completed"
    },
    "tags": []
   },
   "source": [
    "## Importing issues files from dataset."
   ]
  },
  {
   "cell_type": "code",
   "execution_count": 3,
   "id": "7d7b6681",
   "metadata": {
    "execution": {
     "iopub.execute_input": "2022-02-24T18:08:07.353709Z",
     "iopub.status.busy": "2022-02-24T18:08:07.352667Z",
     "iopub.status.idle": "2022-02-24T18:08:07.387594Z",
     "shell.execute_reply": "2022-02-24T18:08:07.386846Z",
     "shell.execute_reply.started": "2022-02-24T17:31:22.971578Z"
    },
    "papermill": {
     "duration": 0.079173,
     "end_time": "2022-02-24T18:08:07.387756",
     "exception": false,
     "start_time": "2022-02-24T18:08:07.308583",
     "status": "completed"
    },
    "tags": []
   },
   "outputs": [
    {
     "data": {
      "text/html": [
       "<div>\n",
       "<style scoped>\n",
       "    .dataframe tbody tr th:only-of-type {\n",
       "        vertical-align: middle;\n",
       "    }\n",
       "\n",
       "    .dataframe tbody tr th {\n",
       "        vertical-align: top;\n",
       "    }\n",
       "\n",
       "    .dataframe thead th {\n",
       "        text-align: right;\n",
       "    }\n",
       "</style>\n",
       "<table border=\"1\" class=\"dataframe\">\n",
       "  <thead>\n",
       "    <tr style=\"text-align: right;\">\n",
       "      <th></th>\n",
       "      <th>name</th>\n",
       "      <th>year</th>\n",
       "      <th>quarter</th>\n",
       "      <th>count</th>\n",
       "    </tr>\n",
       "  </thead>\n",
       "  <tbody>\n",
       "    <tr>\n",
       "      <th>0</th>\n",
       "      <td>Ruby</td>\n",
       "      <td>2011</td>\n",
       "      <td>3</td>\n",
       "      <td>965</td>\n",
       "    </tr>\n",
       "    <tr>\n",
       "      <th>1</th>\n",
       "      <td>JavaScript</td>\n",
       "      <td>2011</td>\n",
       "      <td>3</td>\n",
       "      <td>694</td>\n",
       "    </tr>\n",
       "    <tr>\n",
       "      <th>2</th>\n",
       "      <td>Python</td>\n",
       "      <td>2011</td>\n",
       "      <td>3</td>\n",
       "      <td>619</td>\n",
       "    </tr>\n",
       "    <tr>\n",
       "      <th>3</th>\n",
       "      <td>PHP</td>\n",
       "      <td>2011</td>\n",
       "      <td>3</td>\n",
       "      <td>560</td>\n",
       "    </tr>\n",
       "    <tr>\n",
       "      <th>4</th>\n",
       "      <td>Java</td>\n",
       "      <td>2011</td>\n",
       "      <td>3</td>\n",
       "      <td>420</td>\n",
       "    </tr>\n",
       "    <tr>\n",
       "      <th>...</th>\n",
       "      <td>...</td>\n",
       "      <td>...</td>\n",
       "      <td>...</td>\n",
       "      <td>...</td>\n",
       "    </tr>\n",
       "    <tr>\n",
       "      <th>3370</th>\n",
       "      <td>Go</td>\n",
       "      <td>2022</td>\n",
       "      <td>1</td>\n",
       "      <td>204</td>\n",
       "    </tr>\n",
       "    <tr>\n",
       "      <th>3371</th>\n",
       "      <td>PHP</td>\n",
       "      <td>2022</td>\n",
       "      <td>1</td>\n",
       "      <td>173</td>\n",
       "    </tr>\n",
       "    <tr>\n",
       "      <th>3372</th>\n",
       "      <td>TypeScript</td>\n",
       "      <td>2022</td>\n",
       "      <td>1</td>\n",
       "      <td>169</td>\n",
       "    </tr>\n",
       "    <tr>\n",
       "      <th>3373</th>\n",
       "      <td>C</td>\n",
       "      <td>2022</td>\n",
       "      <td>1</td>\n",
       "      <td>151</td>\n",
       "    </tr>\n",
       "    <tr>\n",
       "      <th>3374</th>\n",
       "      <td>C#</td>\n",
       "      <td>2022</td>\n",
       "      <td>1</td>\n",
       "      <td>148</td>\n",
       "    </tr>\n",
       "  </tbody>\n",
       "</table>\n",
       "<p>3375 rows × 4 columns</p>\n",
       "</div>"
      ],
      "text/plain": [
       "            name  year  quarter  count\n",
       "0           Ruby  2011        3    965\n",
       "1     JavaScript  2011        3    694\n",
       "2         Python  2011        3    619\n",
       "3            PHP  2011        3    560\n",
       "4           Java  2011        3    420\n",
       "...          ...   ...      ...    ...\n",
       "3370          Go  2022        1    204\n",
       "3371         PHP  2022        1    173\n",
       "3372  TypeScript  2022        1    169\n",
       "3373           C  2022        1    151\n",
       "3374          C#  2022        1    148\n",
       "\n",
       "[3375 rows x 4 columns]"
      ]
     },
     "execution_count": 3,
     "metadata": {},
     "output_type": "execute_result"
    }
   ],
   "source": [
    "language=pd.read_csv('/kaggle/input/github-programming-languages-data/issues.csv')\n",
    "language"
   ]
  },
  {
   "cell_type": "markdown",
   "id": "e3a93b72",
   "metadata": {
    "papermill": {
     "duration": 0.041554,
     "end_time": "2022-02-24T18:08:07.473256",
     "exception": false,
     "start_time": "2022-02-24T18:08:07.431702",
     "status": "completed"
    },
    "tags": []
   },
   "source": [
    "## Checking for Null Values."
   ]
  },
  {
   "cell_type": "code",
   "execution_count": 4,
   "id": "aa46c39f",
   "metadata": {
    "execution": {
     "iopub.execute_input": "2022-02-24T18:08:07.560511Z",
     "iopub.status.busy": "2022-02-24T18:08:07.559459Z",
     "iopub.status.idle": "2022-02-24T18:08:07.568238Z",
     "shell.execute_reply": "2022-02-24T18:08:07.568712Z",
     "shell.execute_reply.started": "2022-02-24T17:31:32.201048Z"
    },
    "papermill": {
     "duration": 0.054118,
     "end_time": "2022-02-24T18:08:07.568910",
     "exception": false,
     "start_time": "2022-02-24T18:08:07.514792",
     "status": "completed"
    },
    "tags": []
   },
   "outputs": [
    {
     "data": {
      "text/plain": [
       "name       0\n",
       "year       0\n",
       "quarter    0\n",
       "count      0\n",
       "dtype: int64"
      ]
     },
     "execution_count": 4,
     "metadata": {},
     "output_type": "execute_result"
    }
   ],
   "source": [
    "language.isnull().sum()"
   ]
  },
  {
   "cell_type": "markdown",
   "id": "493d3a3f",
   "metadata": {
    "papermill": {
     "duration": 0.041786,
     "end_time": "2022-02-24T18:08:07.652799",
     "exception": false,
     "start_time": "2022-02-24T18:08:07.611013",
     "status": "completed"
    },
    "tags": []
   },
   "source": [
    "##### It shows that, there's 0 null values."
   ]
  },
  {
   "cell_type": "code",
   "execution_count": 5,
   "id": "2ecfba8d",
   "metadata": {
    "execution": {
     "iopub.execute_input": "2022-02-24T18:08:07.741517Z",
     "iopub.status.busy": "2022-02-24T18:08:07.740451Z",
     "iopub.status.idle": "2022-02-24T18:08:07.746363Z",
     "shell.execute_reply": "2022-02-24T18:08:07.746843Z",
     "shell.execute_reply.started": "2022-02-24T17:32:18.506834Z"
    },
    "papermill": {
     "duration": 0.051947,
     "end_time": "2022-02-24T18:08:07.747058",
     "exception": false,
     "start_time": "2022-02-24T18:08:07.695111",
     "status": "completed"
    },
    "tags": []
   },
   "outputs": [
    {
     "data": {
      "text/plain": [
       "Index(['name', 'year', 'quarter', 'count'], dtype='object')"
      ]
     },
     "execution_count": 5,
     "metadata": {},
     "output_type": "execute_result"
    }
   ],
   "source": [
    "language.columns"
   ]
  },
  {
   "cell_type": "code",
   "execution_count": 6,
   "id": "379f4f20",
   "metadata": {
    "execution": {
     "iopub.execute_input": "2022-02-24T18:08:07.836966Z",
     "iopub.status.busy": "2022-02-24T18:08:07.835828Z",
     "iopub.status.idle": "2022-02-24T18:08:07.843030Z",
     "shell.execute_reply": "2022-02-24T18:08:07.843527Z",
     "shell.execute_reply.started": "2022-02-24T17:32:21.862379Z"
    },
    "papermill": {
     "duration": 0.054004,
     "end_time": "2022-02-24T18:08:07.843714",
     "exception": false,
     "start_time": "2022-02-24T18:08:07.789710",
     "status": "completed"
    },
    "tags": []
   },
   "outputs": [
    {
     "data": {
      "text/plain": [
       "(3375, 4)"
      ]
     },
     "execution_count": 6,
     "metadata": {},
     "output_type": "execute_result"
    }
   ],
   "source": [
    "language.shape"
   ]
  },
  {
   "cell_type": "markdown",
   "id": "591216e6",
   "metadata": {
    "papermill": {
     "duration": 0.042294,
     "end_time": "2022-02-24T18:08:07.930259",
     "exception": false,
     "start_time": "2022-02-24T18:08:07.887965",
     "status": "completed"
    },
    "tags": []
   },
   "source": [
    "### Counting the repeated data from given dataset."
   ]
  },
  {
   "cell_type": "code",
   "execution_count": 7,
   "id": "691df1ef",
   "metadata": {
    "execution": {
     "iopub.execute_input": "2022-02-24T18:08:08.021278Z",
     "iopub.status.busy": "2022-02-24T18:08:08.020240Z",
     "iopub.status.idle": "2022-02-24T18:08:08.037498Z",
     "shell.execute_reply": "2022-02-24T18:08:08.037979Z",
     "shell.execute_reply.started": "2022-02-24T17:32:25.377843Z"
    },
    "papermill": {
     "duration": 0.064759,
     "end_time": "2022-02-24T18:08:08.038173",
     "exception": false,
     "start_time": "2022-02-24T18:08:07.973414",
     "status": "completed"
    },
    "tags": []
   },
   "outputs": [
    {
     "data": {
      "text/plain": [
       "name       0\n",
       "year       0\n",
       "quarter    0\n",
       "count      0\n",
       "dtype: int64"
      ]
     },
     "execution_count": 7,
     "metadata": {},
     "output_type": "execute_result"
    }
   ],
   "source": [
    "language[language.duplicated()].count()"
   ]
  },
  {
   "cell_type": "markdown",
   "id": "ee3239f8",
   "metadata": {
    "papermill": {
     "duration": 0.042771,
     "end_time": "2022-02-24T18:08:08.124380",
     "exception": false,
     "start_time": "2022-02-24T18:08:08.081609",
     "status": "completed"
    },
    "tags": []
   },
   "source": [
    "# Representing data and sorting the data."
   ]
  },
  {
   "cell_type": "code",
   "execution_count": 8,
   "id": "e8196f1d",
   "metadata": {
    "execution": {
     "iopub.execute_input": "2022-02-24T18:08:08.215990Z",
     "iopub.status.busy": "2022-02-24T18:08:08.215256Z",
     "iopub.status.idle": "2022-02-24T18:08:08.229746Z",
     "shell.execute_reply": "2022-02-24T18:08:08.230331Z",
     "shell.execute_reply.started": "2022-02-24T17:32:29.510965Z"
    },
    "papermill": {
     "duration": 0.063242,
     "end_time": "2022-02-24T18:08:08.230515",
     "exception": false,
     "start_time": "2022-02-24T18:08:08.167273",
     "status": "completed"
    },
    "tags": []
   },
   "outputs": [
    {
     "data": {
      "text/html": [
       "<div>\n",
       "<style scoped>\n",
       "    .dataframe tbody tr th:only-of-type {\n",
       "        vertical-align: middle;\n",
       "    }\n",
       "\n",
       "    .dataframe tbody tr th {\n",
       "        vertical-align: top;\n",
       "    }\n",
       "\n",
       "    .dataframe thead th {\n",
       "        text-align: right;\n",
       "    }\n",
       "</style>\n",
       "<table border=\"1\" class=\"dataframe\">\n",
       "  <thead>\n",
       "    <tr style=\"text-align: right;\">\n",
       "      <th></th>\n",
       "      <th>name</th>\n",
       "      <th>year</th>\n",
       "      <th>quarter</th>\n",
       "      <th>count</th>\n",
       "    </tr>\n",
       "  </thead>\n",
       "  <tbody>\n",
       "    <tr>\n",
       "      <th>3212</th>\n",
       "      <td>xBase</td>\n",
       "      <td>2021</td>\n",
       "      <td>2</td>\n",
       "      <td>227</td>\n",
       "    </tr>\n",
       "    <tr>\n",
       "      <th>2976</th>\n",
       "      <td>xBase</td>\n",
       "      <td>2020</td>\n",
       "      <td>3</td>\n",
       "      <td>160</td>\n",
       "    </tr>\n",
       "    <tr>\n",
       "      <th>2719</th>\n",
       "      <td>xBase</td>\n",
       "      <td>2019</td>\n",
       "      <td>4</td>\n",
       "      <td>171</td>\n",
       "    </tr>\n",
       "    <tr>\n",
       "      <th>3074</th>\n",
       "      <td>xBase</td>\n",
       "      <td>2020</td>\n",
       "      <td>4</td>\n",
       "      <td>104</td>\n",
       "    </tr>\n",
       "    <tr>\n",
       "      <th>2552</th>\n",
       "      <td>xBase</td>\n",
       "      <td>2019</td>\n",
       "      <td>2</td>\n",
       "      <td>128</td>\n",
       "    </tr>\n",
       "    <tr>\n",
       "      <th>...</th>\n",
       "      <td>...</td>\n",
       "      <td>...</td>\n",
       "      <td>...</td>\n",
       "      <td>...</td>\n",
       "    </tr>\n",
       "    <tr>\n",
       "      <th>1760</th>\n",
       "      <td>1C Enterprise</td>\n",
       "      <td>2017</td>\n",
       "      <td>2</td>\n",
       "      <td>160</td>\n",
       "    </tr>\n",
       "    <tr>\n",
       "      <th>1640</th>\n",
       "      <td>1C Enterprise</td>\n",
       "      <td>2017</td>\n",
       "      <td>1</td>\n",
       "      <td>187</td>\n",
       "    </tr>\n",
       "    <tr>\n",
       "      <th>2374</th>\n",
       "      <td>1C Enterprise</td>\n",
       "      <td>2018</td>\n",
       "      <td>4</td>\n",
       "      <td>100</td>\n",
       "    </tr>\n",
       "    <tr>\n",
       "      <th>2282</th>\n",
       "      <td>1C Enterprise</td>\n",
       "      <td>2018</td>\n",
       "      <td>3</td>\n",
       "      <td>109</td>\n",
       "    </tr>\n",
       "    <tr>\n",
       "      <th>1281</th>\n",
       "      <td>1C Enterprise</td>\n",
       "      <td>2016</td>\n",
       "      <td>2</td>\n",
       "      <td>277</td>\n",
       "    </tr>\n",
       "  </tbody>\n",
       "</table>\n",
       "<p>3375 rows × 4 columns</p>\n",
       "</div>"
      ],
      "text/plain": [
       "               name  year  quarter  count\n",
       "3212          xBase  2021        2    227\n",
       "2976          xBase  2020        3    160\n",
       "2719          xBase  2019        4    171\n",
       "3074          xBase  2020        4    104\n",
       "2552          xBase  2019        2    128\n",
       "...             ...   ...      ...    ...\n",
       "1760  1C Enterprise  2017        2    160\n",
       "1640  1C Enterprise  2017        1    187\n",
       "2374  1C Enterprise  2018        4    100\n",
       "2282  1C Enterprise  2018        3    109\n",
       "1281  1C Enterprise  2016        2    277\n",
       "\n",
       "[3375 rows x 4 columns]"
      ]
     },
     "execution_count": 8,
     "metadata": {},
     "output_type": "execute_result"
    }
   ],
   "source": [
    "sort1 = language.sort_values('name',ascending=False)\n",
    "sort1"
   ]
  },
  {
   "cell_type": "code",
   "execution_count": 9,
   "id": "e9b15b1f",
   "metadata": {
    "execution": {
     "iopub.execute_input": "2022-02-24T18:08:08.328141Z",
     "iopub.status.busy": "2022-02-24T18:08:08.324675Z",
     "iopub.status.idle": "2022-02-24T18:08:08.337530Z",
     "shell.execute_reply": "2022-02-24T18:08:08.338054Z",
     "shell.execute_reply.started": "2022-02-24T17:32:33.480917Z"
    },
    "papermill": {
     "duration": 0.063774,
     "end_time": "2022-02-24T18:08:08.338236",
     "exception": false,
     "start_time": "2022-02-24T18:08:08.274462",
     "status": "completed"
    },
    "tags": []
   },
   "outputs": [
    {
     "data": {
      "text/plain": [
       "name\n",
       "JavaScript    6500226\n",
       "Python        4192481\n",
       "Java          3536070\n",
       "PHP           2240585\n",
       "C++           1941004\n",
       "TypeScript    1741593\n",
       "Go            1645358\n",
       "C#            1407859\n",
       "Ruby          1292627\n",
       "C             1003056\n",
       "Name: count, dtype: int64"
      ]
     },
     "execution_count": 9,
     "metadata": {},
     "output_type": "execute_result"
    }
   ],
   "source": [
    "language.groupby('name')['count'].sum().nlargest(10)"
   ]
  },
  {
   "cell_type": "markdown",
   "id": "d27e8f47",
   "metadata": {
    "papermill": {
     "duration": 0.04338,
     "end_time": "2022-02-24T18:08:08.427438",
     "exception": false,
     "start_time": "2022-02-24T18:08:08.384058",
     "status": "completed"
    },
    "tags": []
   },
   "source": [
    "## It shows that JavaScript is the most popular language and it is followed up by Python by securing the place of 2nd most popular lanaguage."
   ]
  },
  {
   "cell_type": "markdown",
   "id": "e4bf5e94",
   "metadata": {
    "papermill": {
     "duration": 0.043809,
     "end_time": "2022-02-24T18:08:08.515601",
     "exception": false,
     "start_time": "2022-02-24T18:08:08.471792",
     "status": "completed"
    },
    "tags": []
   },
   "source": [
    "### Plotting the graph."
   ]
  },
  {
   "cell_type": "code",
   "execution_count": 10,
   "id": "c5a24974",
   "metadata": {
    "execution": {
     "iopub.execute_input": "2022-02-24T18:08:08.607154Z",
     "iopub.status.busy": "2022-02-24T18:08:08.606434Z",
     "iopub.status.idle": "2022-02-24T18:08:08.812232Z",
     "shell.execute_reply": "2022-02-24T18:08:08.811278Z",
     "shell.execute_reply.started": "2022-02-24T17:32:38.413555Z"
    },
    "papermill": {
     "duration": 0.252626,
     "end_time": "2022-02-24T18:08:08.812397",
     "exception": false,
     "start_time": "2022-02-24T18:08:08.559771",
     "status": "completed"
    },
    "tags": []
   },
   "outputs": [
    {
     "data": {
      "text/plain": [
       "[<matplotlib.lines.Line2D at 0x7f4cea50b410>]"
      ]
     },
     "execution_count": 10,
     "metadata": {},
     "output_type": "execute_result"
    },
    {
     "data": {
      "image/png": "[encoded data removed]",
      "text/plain": [
       "<Figure size 432x288 with 1 Axes>"
      ]
     },
     "metadata": {
      "needs_background": "light"
     },
     "output_type": "display_data"
    }
   ],
   "source": [
    "plt.plot(language['year'],language['count'])"
   ]
  },
  {
   "cell_type": "code",
   "execution_count": 11,
   "id": "a118c2b0",
   "metadata": {
    "execution": {
     "iopub.execute_input": "2022-02-24T18:08:09.057299Z",
     "iopub.status.busy": "2022-02-24T18:08:09.052437Z",
     "iopub.status.idle": "2022-02-24T18:08:09.233575Z",
     "shell.execute_reply": "2022-02-24T18:08:09.234102Z",
     "shell.execute_reply.started": "2022-02-24T17:32:42.582245Z"
    },
    "papermill": {
     "duration": 0.375821,
     "end_time": "2022-02-24T18:08:09.234286",
     "exception": false,
     "start_time": "2022-02-24T18:08:08.858465",
     "status": "completed"
    },
    "tags": []
   },
   "outputs": [
    {
     "data": {
      "text/plain": [
       "[<matplotlib.lines.Line2D at 0x7f4cea41ee90>]"
      ]
     },
     "execution_count": 11,
     "metadata": {},
     "output_type": "execute_result"
    },
    {
     "data": {
      "image/png": "[encoded data removed]",
      "text/plain": [
       "<Figure size 432x288 with 1 Axes>"
      ]
     },
     "metadata": {
      "needs_background": "light"
     },
     "output_type": "display_data"
    }
   ],
   "source": [
    "plt.plot(language['quarter'],language['count'])"
   ]
  },
  {
   "cell_type": "code",
   "execution_count": 12,
   "id": "411e254f",
   "metadata": {
    "execution": {
     "iopub.execute_input": "2022-02-24T18:08:09.336309Z",
     "iopub.status.busy": "2022-02-24T18:08:09.335319Z",
     "iopub.status.idle": "2022-02-24T18:08:11.465488Z",
     "shell.execute_reply": "2022-02-24T18:08:11.466023Z",
     "shell.execute_reply.started": "2022-02-24T17:32:48.244032Z"
    },
    "papermill": {
     "duration": 2.18303,
     "end_time": "2022-02-24T18:08:11.466212",
     "exception": false,
     "start_time": "2022-02-24T18:08:09.283182",
     "status": "completed"
    },
    "tags": []
   },
   "outputs": [
    {
     "data": {
      "text/plain": [
       "[<matplotlib.lines.Line2D at 0x7f4ce8b818d0>]"
      ]
     },
     "execution_count": 12,
     "metadata": {},
     "output_type": "execute_result"
    },
    {
     "data": {
      "image/png": "[encoded data removed]",
      "text/plain": [
       "<Figure size 432x288 with 1 Axes>"
      ]
     },
     "metadata": {
      "needs_background": "light"
     },
     "output_type": "display_data"
    }
   ],
   "source": [
    "plt.plot(language['name'],language['count'])"
   ]
  },
  {
   "cell_type": "markdown",
   "id": "a07720ad",
   "metadata": {
    "papermill": {
     "duration": 0.051357,
     "end_time": "2022-02-24T18:08:11.568941",
     "exception": false,
     "start_time": "2022-02-24T18:08:11.517584",
     "status": "completed"
    },
    "tags": []
   },
   "source": [
    "#### Finding mean, count, Standard deviations and max values in the given dataset."
   ]
  },
  {
   "cell_type": "code",
   "execution_count": 13,
   "id": "e58839fa",
   "metadata": {
    "execution": {
     "iopub.execute_input": "2022-02-24T18:08:11.684546Z",
     "iopub.status.busy": "2022-02-24T18:08:11.683814Z",
     "iopub.status.idle": "2022-02-24T18:08:11.701317Z",
     "shell.execute_reply": "2022-02-24T18:08:11.700697Z",
     "shell.execute_reply.started": "2022-02-24T17:32:54.460763Z"
    },
    "papermill": {
     "duration": 0.080005,
     "end_time": "2022-02-24T18:08:11.701476",
     "exception": false,
     "start_time": "2022-02-24T18:08:11.621471",
     "status": "completed"
    },
    "tags": []
   },
   "outputs": [
    {
     "data": {
      "text/html": [
       "<div>\n",
       "<style scoped>\n",
       "    .dataframe tbody tr th:only-of-type {\n",
       "        vertical-align: middle;\n",
       "    }\n",
       "\n",
       "    .dataframe tbody tr th {\n",
       "        vertical-align: top;\n",
       "    }\n",
       "\n",
       "    .dataframe thead th {\n",
       "        text-align: right;\n",
       "    }\n",
       "</style>\n",
       "<table border=\"1\" class=\"dataframe\">\n",
       "  <thead>\n",
       "    <tr style=\"text-align: right;\">\n",
       "      <th></th>\n",
       "      <th>year</th>\n",
       "      <th>quarter</th>\n",
       "      <th>count</th>\n",
       "    </tr>\n",
       "  </thead>\n",
       "  <tbody>\n",
       "    <tr>\n",
       "      <th>count</th>\n",
       "      <td>3375.000000</td>\n",
       "      <td>3375.000000</td>\n",
       "      <td>3375.000000</td>\n",
       "    </tr>\n",
       "    <tr>\n",
       "      <th>mean</th>\n",
       "      <td>2016.833481</td>\n",
       "      <td>2.510222</td>\n",
       "      <td>9210.374815</td>\n",
       "    </tr>\n",
       "    <tr>\n",
       "      <th>std</th>\n",
       "      <td>2.574464</td>\n",
       "      <td>1.119345</td>\n",
       "      <td>28680.099075</td>\n",
       "    </tr>\n",
       "    <tr>\n",
       "      <th>min</th>\n",
       "      <td>2011.000000</td>\n",
       "      <td>1.000000</td>\n",
       "      <td>100.000000</td>\n",
       "    </tr>\n",
       "    <tr>\n",
       "      <th>25%</th>\n",
       "      <td>2015.000000</td>\n",
       "      <td>2.000000</td>\n",
       "      <td>222.500000</td>\n",
       "    </tr>\n",
       "    <tr>\n",
       "      <th>50%</th>\n",
       "      <td>2017.000000</td>\n",
       "      <td>3.000000</td>\n",
       "      <td>567.000000</td>\n",
       "    </tr>\n",
       "    <tr>\n",
       "      <th>75%</th>\n",
       "      <td>2019.000000</td>\n",
       "      <td>4.000000</td>\n",
       "      <td>2989.500000</td>\n",
       "    </tr>\n",
       "    <tr>\n",
       "      <th>max</th>\n",
       "      <td>2022.000000</td>\n",
       "      <td>4.000000</td>\n",
       "      <td>341480.000000</td>\n",
       "    </tr>\n",
       "  </tbody>\n",
       "</table>\n",
       "</div>"
      ],
      "text/plain": [
       "              year      quarter          count\n",
       "count  3375.000000  3375.000000    3375.000000\n",
       "mean   2016.833481     2.510222    9210.374815\n",
       "std       2.574464     1.119345   28680.099075\n",
       "min    2011.000000     1.000000     100.000000\n",
       "25%    2015.000000     2.000000     222.500000\n",
       "50%    2017.000000     3.000000     567.000000\n",
       "75%    2019.000000     4.000000    2989.500000\n",
       "max    2022.000000     4.000000  341480.000000"
      ]
     },
     "execution_count": 13,
     "metadata": {},
     "output_type": "execute_result"
    }
   ],
   "source": [
    "language.describe()"
   ]
  },
  {
   "cell_type": "markdown",
   "id": "f849d165",
   "metadata": {
    "papermill": {
     "duration": 0.052365,
     "end_time": "2022-02-24T18:08:11.806377",
     "exception": false,
     "start_time": "2022-02-24T18:08:11.754012",
     "status": "completed"
    },
    "tags": []
   },
   "source": [
    "# Visualizing and loading prs.csv."
   ]
  },
  {
   "cell_type": "code",
   "execution_count": 14,
   "id": "d53065eb",
   "metadata": {
    "execution": {
     "iopub.execute_input": "2022-02-24T18:08:11.914773Z",
     "iopub.status.busy": "2022-02-24T18:08:11.914080Z",
     "iopub.status.idle": "2022-02-24T18:08:11.935088Z",
     "shell.execute_reply": "2022-02-24T18:08:11.935647Z",
     "shell.execute_reply.started": "2022-02-24T17:35:06.052399Z"
    },
    "papermill": {
     "duration": 0.077723,
     "end_time": "2022-02-24T18:08:11.935821",
     "exception": false,
     "start_time": "2022-02-24T18:08:11.858098",
     "status": "completed"
    },
    "tags": []
   },
   "outputs": [
    {
     "data": {
      "text/html": [
       "<div>\n",
       "<style scoped>\n",
       "    .dataframe tbody tr th:only-of-type {\n",
       "        vertical-align: middle;\n",
       "    }\n",
       "\n",
       "    .dataframe tbody tr th {\n",
       "        vertical-align: top;\n",
       "    }\n",
       "\n",
       "    .dataframe thead th {\n",
       "        text-align: right;\n",
       "    }\n",
       "</style>\n",
       "<table border=\"1\" class=\"dataframe\">\n",
       "  <thead>\n",
       "    <tr style=\"text-align: right;\">\n",
       "      <th></th>\n",
       "      <th>name</th>\n",
       "      <th>year</th>\n",
       "      <th>quarter</th>\n",
       "      <th>count</th>\n",
       "    </tr>\n",
       "  </thead>\n",
       "  <tbody>\n",
       "    <tr>\n",
       "      <th>0</th>\n",
       "      <td>Ruby</td>\n",
       "      <td>2011</td>\n",
       "      <td>3</td>\n",
       "      <td>632</td>\n",
       "    </tr>\n",
       "    <tr>\n",
       "      <th>1</th>\n",
       "      <td>PHP</td>\n",
       "      <td>2011</td>\n",
       "      <td>3</td>\n",
       "      <td>484</td>\n",
       "    </tr>\n",
       "    <tr>\n",
       "      <th>2</th>\n",
       "      <td>Python</td>\n",
       "      <td>2011</td>\n",
       "      <td>3</td>\n",
       "      <td>423</td>\n",
       "    </tr>\n",
       "    <tr>\n",
       "      <th>3</th>\n",
       "      <td>JavaScript</td>\n",
       "      <td>2011</td>\n",
       "      <td>3</td>\n",
       "      <td>367</td>\n",
       "    </tr>\n",
       "    <tr>\n",
       "      <th>4</th>\n",
       "      <td>Java</td>\n",
       "      <td>2011</td>\n",
       "      <td>3</td>\n",
       "      <td>216</td>\n",
       "    </tr>\n",
       "    <tr>\n",
       "      <th>...</th>\n",
       "      <td>...</td>\n",
       "      <td>...</td>\n",
       "      <td>...</td>\n",
       "      <td>...</td>\n",
       "    </tr>\n",
       "    <tr>\n",
       "      <th>3457</th>\n",
       "      <td>C#</td>\n",
       "      <td>2022</td>\n",
       "      <td>1</td>\n",
       "      <td>187</td>\n",
       "    </tr>\n",
       "    <tr>\n",
       "      <th>3458</th>\n",
       "      <td>C</td>\n",
       "      <td>2022</td>\n",
       "      <td>1</td>\n",
       "      <td>152</td>\n",
       "    </tr>\n",
       "    <tr>\n",
       "      <th>3459</th>\n",
       "      <td>HTML</td>\n",
       "      <td>2022</td>\n",
       "      <td>1</td>\n",
       "      <td>134</td>\n",
       "    </tr>\n",
       "    <tr>\n",
       "      <th>3460</th>\n",
       "      <td>Scala</td>\n",
       "      <td>2022</td>\n",
       "      <td>1</td>\n",
       "      <td>110</td>\n",
       "    </tr>\n",
       "    <tr>\n",
       "      <th>3461</th>\n",
       "      <td>Shell</td>\n",
       "      <td>2022</td>\n",
       "      <td>1</td>\n",
       "      <td>103</td>\n",
       "    </tr>\n",
       "  </tbody>\n",
       "</table>\n",
       "<p>3462 rows × 4 columns</p>\n",
       "</div>"
      ],
      "text/plain": [
       "            name  year  quarter  count\n",
       "0           Ruby  2011        3    632\n",
       "1            PHP  2011        3    484\n",
       "2         Python  2011        3    423\n",
       "3     JavaScript  2011        3    367\n",
       "4           Java  2011        3    216\n",
       "...          ...   ...      ...    ...\n",
       "3457          C#  2022        1    187\n",
       "3458           C  2022        1    152\n",
       "3459        HTML  2022        1    134\n",
       "3460       Scala  2022        1    110\n",
       "3461       Shell  2022        1    103\n",
       "\n",
       "[3462 rows x 4 columns]"
      ]
     },
     "execution_count": 14,
     "metadata": {},
     "output_type": "execute_result"
    }
   ],
   "source": [
    "data=pd.read_csv('/kaggle/input/github-programming-languages-data/prs.csv')\n",
    "data"
   ]
  },
  {
   "cell_type": "code",
   "execution_count": 15,
   "id": "fb90957f",
   "metadata": {
    "execution": {
     "iopub.execute_input": "2022-02-24T18:08:12.050905Z",
     "iopub.status.busy": "2022-02-24T18:08:12.050058Z",
     "iopub.status.idle": "2022-02-24T18:08:12.053420Z",
     "shell.execute_reply": "2022-02-24T18:08:12.053926Z",
     "shell.execute_reply.started": "2022-02-24T17:35:33.757770Z"
    },
    "papermill": {
     "duration": 0.065811,
     "end_time": "2022-02-24T18:08:12.054098",
     "exception": false,
     "start_time": "2022-02-24T18:08:11.988287",
     "status": "completed"
    },
    "tags": []
   },
   "outputs": [
    {
     "data": {
      "text/plain": [
       "name       0\n",
       "year       0\n",
       "quarter    0\n",
       "count      0\n",
       "dtype: int64"
      ]
     },
     "execution_count": 15,
     "metadata": {},
     "output_type": "execute_result"
    }
   ],
   "source": [
    "data.isnull().sum()"
   ]
  },
  {
   "cell_type": "markdown",
   "id": "b99f708a",
   "metadata": {
    "papermill": {
     "duration": 0.0523,
     "end_time": "2022-02-24T18:08:12.160900",
     "exception": false,
     "start_time": "2022-02-24T18:08:12.108600",
     "status": "completed"
    },
    "tags": []
   },
   "source": [
    "### Analysis"
   ]
  },
  {
   "cell_type": "code",
   "execution_count": 16,
   "id": "c01043c9",
   "metadata": {
    "execution": {
     "iopub.execute_input": "2022-02-24T18:08:12.269978Z",
     "iopub.status.busy": "2022-02-24T18:08:12.268931Z",
     "iopub.status.idle": "2022-02-24T18:08:12.278669Z",
     "shell.execute_reply": "2022-02-24T18:08:12.279158Z",
     "shell.execute_reply.started": "2022-02-24T17:43:00.150629Z"
    },
    "papermill": {
     "duration": 0.06559,
     "end_time": "2022-02-24T18:08:12.279346",
     "exception": false,
     "start_time": "2022-02-24T18:08:12.213756",
     "status": "completed"
    },
    "tags": []
   },
   "outputs": [
    {
     "data": {
      "text/html": [
       "<div>\n",
       "<style scoped>\n",
       "    .dataframe tbody tr th:only-of-type {\n",
       "        vertical-align: middle;\n",
       "    }\n",
       "\n",
       "    .dataframe tbody tr th {\n",
       "        vertical-align: top;\n",
       "    }\n",
       "\n",
       "    .dataframe thead th {\n",
       "        text-align: right;\n",
       "    }\n",
       "</style>\n",
       "<table border=\"1\" class=\"dataframe\">\n",
       "  <thead>\n",
       "    <tr style=\"text-align: right;\">\n",
       "      <th></th>\n",
       "      <th>name</th>\n",
       "      <th>year</th>\n",
       "      <th>quarter</th>\n",
       "      <th>count</th>\n",
       "    </tr>\n",
       "  </thead>\n",
       "  <tbody>\n",
       "    <tr>\n",
       "      <th>0</th>\n",
       "      <td>Ruby</td>\n",
       "      <td>2011</td>\n",
       "      <td>3</td>\n",
       "      <td>632</td>\n",
       "    </tr>\n",
       "    <tr>\n",
       "      <th>1</th>\n",
       "      <td>PHP</td>\n",
       "      <td>2011</td>\n",
       "      <td>3</td>\n",
       "      <td>484</td>\n",
       "    </tr>\n",
       "    <tr>\n",
       "      <th>2</th>\n",
       "      <td>Python</td>\n",
       "      <td>2011</td>\n",
       "      <td>3</td>\n",
       "      <td>423</td>\n",
       "    </tr>\n",
       "    <tr>\n",
       "      <th>3</th>\n",
       "      <td>JavaScript</td>\n",
       "      <td>2011</td>\n",
       "      <td>3</td>\n",
       "      <td>367</td>\n",
       "    </tr>\n",
       "    <tr>\n",
       "      <th>4</th>\n",
       "      <td>Java</td>\n",
       "      <td>2011</td>\n",
       "      <td>3</td>\n",
       "      <td>216</td>\n",
       "    </tr>\n",
       "  </tbody>\n",
       "</table>\n",
       "</div>"
      ],
      "text/plain": [
       "         name  year  quarter  count\n",
       "0        Ruby  2011        3    632\n",
       "1         PHP  2011        3    484\n",
       "2      Python  2011        3    423\n",
       "3  JavaScript  2011        3    367\n",
       "4        Java  2011        3    216"
      ]
     },
     "execution_count": 16,
     "metadata": {},
     "output_type": "execute_result"
    }
   ],
   "source": [
    "data.head()"
   ]
  },
  {
   "cell_type": "code",
   "execution_count": 17,
   "id": "52418cbf",
   "metadata": {
    "execution": {
     "iopub.execute_input": "2022-02-24T18:08:12.389120Z",
     "iopub.status.busy": "2022-02-24T18:08:12.388106Z",
     "iopub.status.idle": "2022-02-24T18:08:12.393335Z",
     "shell.execute_reply": "2022-02-24T18:08:12.393802Z",
     "shell.execute_reply.started": "2022-02-24T17:43:47.537622Z"
    },
    "papermill": {
     "duration": 0.061604,
     "end_time": "2022-02-24T18:08:12.394007",
     "exception": false,
     "start_time": "2022-02-24T18:08:12.332403",
     "status": "completed"
    },
    "tags": []
   },
   "outputs": [
    {
     "data": {
      "text/plain": [
       "(3462, 4)"
      ]
     },
     "execution_count": 17,
     "metadata": {},
     "output_type": "execute_result"
    }
   ],
   "source": [
    "data.shape"
   ]
  },
  {
   "cell_type": "code",
   "execution_count": 18,
   "id": "4a7fa334",
   "metadata": {
    "execution": {
     "iopub.execute_input": "2022-02-24T18:08:12.507293Z",
     "iopub.status.busy": "2022-02-24T18:08:12.506259Z",
     "iopub.status.idle": "2022-02-24T18:08:12.509936Z",
     "shell.execute_reply": "2022-02-24T18:08:12.510458Z",
     "shell.execute_reply.started": "2022-02-24T17:43:14.533095Z"
    },
    "papermill": {
     "duration": 0.063336,
     "end_time": "2022-02-24T18:08:12.510651",
     "exception": false,
     "start_time": "2022-02-24T18:08:12.447315",
     "status": "completed"
    },
    "tags": []
   },
   "outputs": [
    {
     "data": {
      "text/plain": [
       "Index(['name', 'year', 'quarter', 'count'], dtype='object')"
      ]
     },
     "execution_count": 18,
     "metadata": {},
     "output_type": "execute_result"
    }
   ],
   "source": [
    "data.columns"
   ]
  },
  {
   "cell_type": "code",
   "execution_count": 19,
   "id": "81a25c84",
   "metadata": {
    "execution": {
     "iopub.execute_input": "2022-02-24T18:08:12.624731Z",
     "iopub.status.busy": "2022-02-24T18:08:12.623722Z",
     "iopub.status.idle": "2022-02-24T18:08:12.633254Z",
     "shell.execute_reply": "2022-02-24T18:08:12.632725Z",
     "shell.execute_reply.started": "2022-02-24T17:43:17.586397Z"
    },
    "papermill": {
     "duration": 0.066126,
     "end_time": "2022-02-24T18:08:12.633402",
     "exception": false,
     "start_time": "2022-02-24T18:08:12.567276",
     "status": "completed"
    },
    "tags": []
   },
   "outputs": [
    {
     "data": {
      "text/plain": [
       "name\n",
       "JavaScript    7512246\n",
       "Python        5904273\n",
       "Java          3731712\n",
       "Ruby          2887567\n",
       "PHP           2474738\n",
       "Go            2401902\n",
       "C++           2145920\n",
       "TypeScript    1994032\n",
       "C#            1181788\n",
       "HTML          1180280\n",
       "Name: count, dtype: int64"
      ]
     },
     "execution_count": 19,
     "metadata": {},
     "output_type": "execute_result"
    }
   ],
   "source": [
    "data.groupby('name')['count'].sum().nlargest(10)"
   ]
  },
  {
   "cell_type": "code",
   "execution_count": 20,
   "id": "af3ab330",
   "metadata": {
    "execution": {
     "iopub.execute_input": "2022-02-24T18:08:12.745831Z",
     "iopub.status.busy": "2022-02-24T18:08:12.744797Z",
     "iopub.status.idle": "2022-02-24T18:08:12.754013Z",
     "shell.execute_reply": "2022-02-24T18:08:12.754473Z",
     "shell.execute_reply.started": "2022-02-24T17:44:04.151810Z"
    },
    "papermill": {
     "duration": 0.06719,
     "end_time": "2022-02-24T18:08:12.754664",
     "exception": false,
     "start_time": "2022-02-24T18:08:12.687474",
     "status": "completed"
    },
    "tags": []
   },
   "outputs": [
    {
     "data": {
      "text/plain": [
       "name       0\n",
       "year       0\n",
       "quarter    0\n",
       "count      0\n",
       "dtype: int64"
      ]
     },
     "execution_count": 20,
     "metadata": {},
     "output_type": "execute_result"
    }
   ],
   "source": [
    "data[data.duplicated()].count()"
   ]
  },
  {
   "cell_type": "markdown",
   "id": "5430d683",
   "metadata": {
    "papermill": {
     "duration": 0.054722,
     "end_time": "2022-02-24T18:08:12.865478",
     "exception": false,
     "start_time": "2022-02-24T18:08:12.810756",
     "status": "completed"
    },
    "tags": []
   },
   "source": [
    "# Graph plotting."
   ]
  },
  {
   "cell_type": "code",
   "execution_count": 21,
   "id": "6428ab61",
   "metadata": {
    "execution": {
     "iopub.execute_input": "2022-02-24T18:08:12.979734Z",
     "iopub.status.busy": "2022-02-24T18:08:12.978661Z",
     "iopub.status.idle": "2022-02-24T18:08:13.196458Z",
     "shell.execute_reply": "2022-02-24T18:08:13.196959Z",
     "shell.execute_reply.started": "2022-02-24T17:44:46.501380Z"
    },
    "papermill": {
     "duration": 0.277196,
     "end_time": "2022-02-24T18:08:13.197181",
     "exception": false,
     "start_time": "2022-02-24T18:08:12.919985",
     "status": "completed"
    },
    "tags": []
   },
   "outputs": [
    {
     "data": {
      "text/plain": [
       "[<matplotlib.lines.Line2D at 0x7f4ce8815d90>]"
      ]
     },
     "execution_count": 21,
     "metadata": {},
     "output_type": "execute_result"
    },
    {
     "data": {
      "image/png": "[encoded data removed]",
      "text/plain": [
       "<Figure size 432x288 with 1 Axes>"
      ]
     },
     "metadata": {
      "needs_background": "light"
     },
     "output_type": "display_data"
    }
   ],
   "source": [
    "plt.plot(data['year'],data['count'])"
   ]
  },
  {
   "cell_type": "code",
   "execution_count": 22,
   "id": "62fc193d",
   "metadata": {
    "execution": {
     "iopub.execute_input": "2022-02-24T18:08:13.315128Z",
     "iopub.status.busy": "2022-02-24T18:08:13.314079Z",
     "iopub.status.idle": "2022-02-24T18:08:13.541284Z",
     "shell.execute_reply": "2022-02-24T18:08:13.541807Z",
     "shell.execute_reply.started": "2022-02-24T17:45:26.174171Z"
    },
    "papermill": {
     "duration": 0.288156,
     "end_time": "2022-02-24T18:08:13.542002",
     "exception": false,
     "start_time": "2022-02-24T18:08:13.253846",
     "status": "completed"
    },
    "tags": []
   },
   "outputs": [
    {
     "data": {
      "text/plain": [
       "[<matplotlib.lines.Line2D at 0x7f4ce8793a50>]"
      ]
     },
     "execution_count": 22,
     "metadata": {},
     "output_type": "execute_result"
    },
    {
     "data": {
      "image/png": "[encoded data removed]",
      "text/plain": [
       "<Figure size 432x288 with 1 Axes>"
      ]
     },
     "metadata": {
      "needs_background": "light"
     },
     "output_type": "display_data"
    }
   ],
   "source": [
    "plt.plot(data['quarter'],data['count'])"
   ]
  },
  {
   "cell_type": "code",
   "execution_count": 23,
   "id": "7afeba48",
   "metadata": {
    "execution": {
     "iopub.execute_input": "2022-02-24T18:08:13.663202Z",
     "iopub.status.busy": "2022-02-24T18:08:13.662475Z",
     "iopub.status.idle": "2022-02-24T18:08:13.670835Z",
     "shell.execute_reply": "2022-02-24T18:08:13.671443Z",
     "shell.execute_reply.started": "2022-02-24T17:55:15.537064Z"
    },
    "papermill": {
     "duration": 0.070506,
     "end_time": "2022-02-24T18:08:13.671619",
     "exception": false,
     "start_time": "2022-02-24T18:08:13.601113",
     "status": "completed"
    },
    "tags": []
   },
   "outputs": [
    {
     "data": {
      "text/plain": [
       "year\n",
       "2017    6636621\n",
       "2016    5987402\n",
       "2020    5055278\n",
       "2019    4637549\n",
       "2018    4511395\n",
       "2021    4144760\n",
       "2015    4112878\n",
       "2014    2048373\n",
       "2013     952269\n",
       "2012     430350\n",
       "Name: count, dtype: int64"
      ]
     },
     "execution_count": 23,
     "metadata": {},
     "output_type": "execute_result"
    }
   ],
   "source": [
    "data.groupby('year')['count'].sum().nlargest(10)"
   ]
  },
  {
   "cell_type": "code",
   "execution_count": 24,
   "id": "815923c0",
   "metadata": {
    "execution": {
     "iopub.execute_input": "2022-02-24T18:08:13.793203Z",
     "iopub.status.busy": "2022-02-24T18:08:13.792537Z",
     "iopub.status.idle": "2022-02-24T18:08:13.812926Z",
     "shell.execute_reply": "2022-02-24T18:08:13.812233Z",
     "shell.execute_reply.started": "2022-02-24T18:01:09.268639Z"
    },
    "papermill": {
     "duration": 0.082306,
     "end_time": "2022-02-24T18:08:13.813081",
     "exception": false,
     "start_time": "2022-02-24T18:08:13.730775",
     "status": "completed"
    },
    "tags": []
   },
   "outputs": [
    {
     "data": {
      "text/html": [
       "<div>\n",
       "<style scoped>\n",
       "    .dataframe tbody tr th:only-of-type {\n",
       "        vertical-align: middle;\n",
       "    }\n",
       "\n",
       "    .dataframe tbody tr th {\n",
       "        vertical-align: top;\n",
       "    }\n",
       "\n",
       "    .dataframe thead th {\n",
       "        text-align: right;\n",
       "    }\n",
       "</style>\n",
       "<table border=\"1\" class=\"dataframe\">\n",
       "  <thead>\n",
       "    <tr style=\"text-align: right;\">\n",
       "      <th></th>\n",
       "      <th>year</th>\n",
       "      <th>quarter</th>\n",
       "      <th>count</th>\n",
       "    </tr>\n",
       "  </thead>\n",
       "  <tbody>\n",
       "    <tr>\n",
       "      <th>count</th>\n",
       "      <td>3462.000000</td>\n",
       "      <td>3462.000000</td>\n",
       "      <td>3462.000000</td>\n",
       "    </tr>\n",
       "    <tr>\n",
       "      <th>mean</th>\n",
       "      <td>2017.013576</td>\n",
       "      <td>2.502022</td>\n",
       "      <td>11131.740901</td>\n",
       "    </tr>\n",
       "    <tr>\n",
       "      <th>std</th>\n",
       "      <td>2.552447</td>\n",
       "      <td>1.122835</td>\n",
       "      <td>34686.780996</td>\n",
       "    </tr>\n",
       "    <tr>\n",
       "      <th>min</th>\n",
       "      <td>2011.000000</td>\n",
       "      <td>1.000000</td>\n",
       "      <td>100.000000</td>\n",
       "    </tr>\n",
       "    <tr>\n",
       "      <th>25%</th>\n",
       "      <td>2015.000000</td>\n",
       "      <td>1.000000</td>\n",
       "      <td>230.000000</td>\n",
       "    </tr>\n",
       "    <tr>\n",
       "      <th>50%</th>\n",
       "      <td>2017.000000</td>\n",
       "      <td>2.000000</td>\n",
       "      <td>616.500000</td>\n",
       "    </tr>\n",
       "    <tr>\n",
       "      <th>75%</th>\n",
       "      <td>2019.000000</td>\n",
       "      <td>4.000000</td>\n",
       "      <td>3380.500000</td>\n",
       "    </tr>\n",
       "    <tr>\n",
       "      <th>max</th>\n",
       "      <td>2022.000000</td>\n",
       "      <td>4.000000</td>\n",
       "      <td>397530.000000</td>\n",
       "    </tr>\n",
       "  </tbody>\n",
       "</table>\n",
       "</div>"
      ],
      "text/plain": [
       "              year      quarter          count\n",
       "count  3462.000000  3462.000000    3462.000000\n",
       "mean   2017.013576     2.502022   11131.740901\n",
       "std       2.552447     1.122835   34686.780996\n",
       "min    2011.000000     1.000000     100.000000\n",
       "25%    2015.000000     1.000000     230.000000\n",
       "50%    2017.000000     2.000000     616.500000\n",
       "75%    2019.000000     4.000000    3380.500000\n",
       "max    2022.000000     4.000000  397530.000000"
      ]
     },
     "execution_count": 24,
     "metadata": {},
     "output_type": "execute_result"
    }
   ],
   "source": [
    "data.describe()"
   ]
  },
  {
   "cell_type": "markdown",
   "id": "eea45e62",
   "metadata": {
    "papermill": {
     "duration": 0.060551,
     "end_time": "2022-02-24T18:08:13.934748",
     "exception": false,
     "start_time": "2022-02-24T18:08:13.874197",
     "status": "completed"
    },
    "tags": []
   },
   "source": [
    "# Loading repos.csv."
   ]
  },
  {
   "cell_type": "code",
   "execution_count": 25,
   "id": "39577766",
   "metadata": {
    "execution": {
     "iopub.execute_input": "2022-02-24T18:08:14.062964Z",
     "iopub.status.busy": "2022-02-24T18:08:14.062117Z",
     "iopub.status.idle": "2022-02-24T18:08:14.078519Z",
     "shell.execute_reply": "2022-02-24T18:08:14.079090Z",
     "shell.execute_reply.started": "2022-02-24T17:58:22.955877Z"
    },
    "papermill": {
     "duration": 0.083021,
     "end_time": "2022-02-24T18:08:14.079282",
     "exception": false,
     "start_time": "2022-02-24T18:08:13.996261",
     "status": "completed"
    },
    "tags": []
   },
   "outputs": [
    {
     "data": {
      "text/html": [
       "<div>\n",
       "<style scoped>\n",
       "    .dataframe tbody tr th:only-of-type {\n",
       "        vertical-align: middle;\n",
       "    }\n",
       "\n",
       "    .dataframe tbody tr th {\n",
       "        vertical-align: top;\n",
       "    }\n",
       "\n",
       "    .dataframe thead th {\n",
       "        text-align: right;\n",
       "    }\n",
       "</style>\n",
       "<table border=\"1\" class=\"dataframe\">\n",
       "  <thead>\n",
       "    <tr style=\"text-align: right;\">\n",
       "      <th></th>\n",
       "      <th>language</th>\n",
       "      <th>num_repos</th>\n",
       "    </tr>\n",
       "  </thead>\n",
       "  <tbody>\n",
       "    <tr>\n",
       "      <th>0</th>\n",
       "      <td>JavaScript</td>\n",
       "      <td>1100421</td>\n",
       "    </tr>\n",
       "    <tr>\n",
       "      <th>1</th>\n",
       "      <td>CSS</td>\n",
       "      <td>813443</td>\n",
       "    </tr>\n",
       "    <tr>\n",
       "      <th>2</th>\n",
       "      <td>HTML</td>\n",
       "      <td>779549</td>\n",
       "    </tr>\n",
       "    <tr>\n",
       "      <th>3</th>\n",
       "      <td>Shell</td>\n",
       "      <td>638068</td>\n",
       "    </tr>\n",
       "    <tr>\n",
       "      <th>4</th>\n",
       "      <td>Python</td>\n",
       "      <td>548870</td>\n",
       "    </tr>\n",
       "    <tr>\n",
       "      <th>...</th>\n",
       "      <td>...</td>\n",
       "      <td>...</td>\n",
       "    </tr>\n",
       "    <tr>\n",
       "      <th>448</th>\n",
       "      <td>Beef</td>\n",
       "      <td>1</td>\n",
       "    </tr>\n",
       "    <tr>\n",
       "      <th>449</th>\n",
       "      <td>Org</td>\n",
       "      <td>1</td>\n",
       "    </tr>\n",
       "    <tr>\n",
       "      <th>450</th>\n",
       "      <td>Q#</td>\n",
       "      <td>1</td>\n",
       "    </tr>\n",
       "    <tr>\n",
       "      <th>451</th>\n",
       "      <td>Motoko</td>\n",
       "      <td>1</td>\n",
       "    </tr>\n",
       "    <tr>\n",
       "      <th>452</th>\n",
       "      <td>Boogie</td>\n",
       "      <td>1</td>\n",
       "    </tr>\n",
       "  </tbody>\n",
       "</table>\n",
       "<p>453 rows × 2 columns</p>\n",
       "</div>"
      ],
      "text/plain": [
       "       language  num_repos\n",
       "0    JavaScript    1100421\n",
       "1           CSS     813443\n",
       "2          HTML     779549\n",
       "3         Shell     638068\n",
       "4        Python     548870\n",
       "..          ...        ...\n",
       "448        Beef          1\n",
       "449         Org          1\n",
       "450          Q#          1\n",
       "451      Motoko          1\n",
       "452      Boogie          1\n",
       "\n",
       "[453 rows x 2 columns]"
      ]
     },
     "execution_count": 25,
     "metadata": {},
     "output_type": "execute_result"
    }
   ],
   "source": [
    "repo=pd.read_csv('/kaggle/input/github-programming-languages-data/repos.csv')\n",
    "repo"
   ]
  },
  {
   "cell_type": "code",
   "execution_count": 26,
   "id": "988dc7fc",
   "metadata": {
    "execution": {
     "iopub.execute_input": "2022-02-24T18:08:14.205212Z",
     "iopub.status.busy": "2022-02-24T18:08:14.204536Z",
     "iopub.status.idle": "2022-02-24T18:08:14.211218Z",
     "shell.execute_reply": "2022-02-24T18:08:14.211714Z",
     "shell.execute_reply.started": "2022-02-24T17:58:58.303023Z"
    },
    "papermill": {
     "duration": 0.071365,
     "end_time": "2022-02-24T18:08:14.211912",
     "exception": false,
     "start_time": "2022-02-24T18:08:14.140547",
     "status": "completed"
    },
    "tags": []
   },
   "outputs": [
    {
     "data": {
      "text/plain": [
       "language     0\n",
       "num_repos    0\n",
       "dtype: int64"
      ]
     },
     "execution_count": 26,
     "metadata": {},
     "output_type": "execute_result"
    }
   ],
   "source": [
    "repo.isnull().sum()"
   ]
  },
  {
   "cell_type": "code",
   "execution_count": 27,
   "id": "93d3b089",
   "metadata": {
    "execution": {
     "iopub.execute_input": "2022-02-24T18:08:14.339830Z",
     "iopub.status.busy": "2022-02-24T18:08:14.339117Z",
     "iopub.status.idle": "2022-02-24T18:08:14.342055Z",
     "shell.execute_reply": "2022-02-24T18:08:14.342579Z",
     "shell.execute_reply.started": "2022-02-24T17:59:09.544920Z"
    },
    "papermill": {
     "duration": 0.070362,
     "end_time": "2022-02-24T18:08:14.342770",
     "exception": false,
     "start_time": "2022-02-24T18:08:14.272408",
     "status": "completed"
    },
    "tags": []
   },
   "outputs": [
    {
     "data": {
      "text/plain": [
       "Index(['language', 'num_repos'], dtype='object')"
      ]
     },
     "execution_count": 27,
     "metadata": {},
     "output_type": "execute_result"
    }
   ],
   "source": [
    "repo.columns"
   ]
  },
  {
   "cell_type": "code",
   "execution_count": 28,
   "id": "84f16494",
   "metadata": {
    "execution": {
     "iopub.execute_input": "2022-02-24T18:08:14.474343Z",
     "iopub.status.busy": "2022-02-24T18:08:14.470072Z",
     "iopub.status.idle": "2022-02-24T18:08:14.477244Z",
     "shell.execute_reply": "2022-02-24T18:08:14.477797Z",
     "shell.execute_reply.started": "2022-02-24T18:00:28.784831Z"
    },
    "papermill": {
     "duration": 0.074232,
     "end_time": "2022-02-24T18:08:14.477989",
     "exception": false,
     "start_time": "2022-02-24T18:08:14.403757",
     "status": "completed"
    },
    "tags": []
   },
   "outputs": [
    {
     "data": {
      "text/html": [
       "<div>\n",
       "<style scoped>\n",
       "    .dataframe tbody tr th:only-of-type {\n",
       "        vertical-align: middle;\n",
       "    }\n",
       "\n",
       "    .dataframe tbody tr th {\n",
       "        vertical-align: top;\n",
       "    }\n",
       "\n",
       "    .dataframe thead th {\n",
       "        text-align: right;\n",
       "    }\n",
       "</style>\n",
       "<table border=\"1\" class=\"dataframe\">\n",
       "  <thead>\n",
       "    <tr style=\"text-align: right;\">\n",
       "      <th></th>\n",
       "      <th>language</th>\n",
       "      <th>num_repos</th>\n",
       "    </tr>\n",
       "  </thead>\n",
       "  <tbody>\n",
       "    <tr>\n",
       "      <th>0</th>\n",
       "      <td>JavaScript</td>\n",
       "      <td>1100421</td>\n",
       "    </tr>\n",
       "    <tr>\n",
       "      <th>1</th>\n",
       "      <td>CSS</td>\n",
       "      <td>813443</td>\n",
       "    </tr>\n",
       "    <tr>\n",
       "      <th>2</th>\n",
       "      <td>HTML</td>\n",
       "      <td>779549</td>\n",
       "    </tr>\n",
       "    <tr>\n",
       "      <th>3</th>\n",
       "      <td>Shell</td>\n",
       "      <td>638068</td>\n",
       "    </tr>\n",
       "    <tr>\n",
       "      <th>4</th>\n",
       "      <td>Python</td>\n",
       "      <td>548870</td>\n",
       "    </tr>\n",
       "  </tbody>\n",
       "</table>\n",
       "</div>"
      ],
      "text/plain": [
       "     language  num_repos\n",
       "0  JavaScript    1100421\n",
       "1         CSS     813443\n",
       "2        HTML     779549\n",
       "3       Shell     638068\n",
       "4      Python     548870"
      ]
     },
     "execution_count": 28,
     "metadata": {},
     "output_type": "execute_result"
    }
   ],
   "source": [
    "repo.head()"
   ]
  },
  {
   "cell_type": "code",
   "execution_count": 29,
   "id": "975f0812",
   "metadata": {
    "execution": {
     "iopub.execute_input": "2022-02-24T18:08:14.605360Z",
     "iopub.status.busy": "2022-02-24T18:08:14.604696Z",
     "iopub.status.idle": "2022-02-24T18:08:14.618730Z",
     "shell.execute_reply": "2022-02-24T18:08:14.618203Z",
     "shell.execute_reply.started": "2022-02-24T18:00:41.744844Z"
    },
    "papermill": {
     "duration": 0.078774,
     "end_time": "2022-02-24T18:08:14.618897",
     "exception": false,
     "start_time": "2022-02-24T18:08:14.540123",
     "status": "completed"
    },
    "tags": []
   },
   "outputs": [
    {
     "data": {
      "text/html": [
       "<div>\n",
       "<style scoped>\n",
       "    .dataframe tbody tr th:only-of-type {\n",
       "        vertical-align: middle;\n",
       "    }\n",
       "\n",
       "    .dataframe tbody tr th {\n",
       "        vertical-align: top;\n",
       "    }\n",
       "\n",
       "    .dataframe thead th {\n",
       "        text-align: right;\n",
       "    }\n",
       "</style>\n",
       "<table border=\"1\" class=\"dataframe\">\n",
       "  <thead>\n",
       "    <tr style=\"text-align: right;\">\n",
       "      <th></th>\n",
       "      <th>num_repos</th>\n",
       "    </tr>\n",
       "  </thead>\n",
       "  <tbody>\n",
       "    <tr>\n",
       "      <th>count</th>\n",
       "      <td>4.530000e+02</td>\n",
       "    </tr>\n",
       "    <tr>\n",
       "      <th>mean</th>\n",
       "      <td>1.724180e+04</td>\n",
       "    </tr>\n",
       "    <tr>\n",
       "      <th>std</th>\n",
       "      <td>9.147605e+04</td>\n",
       "    </tr>\n",
       "    <tr>\n",
       "      <th>min</th>\n",
       "      <td>1.000000e+00</td>\n",
       "    </tr>\n",
       "    <tr>\n",
       "      <th>25%</th>\n",
       "      <td>3.700000e+01</td>\n",
       "    </tr>\n",
       "    <tr>\n",
       "      <th>50%</th>\n",
       "      <td>2.640000e+02</td>\n",
       "    </tr>\n",
       "    <tr>\n",
       "      <th>75%</th>\n",
       "      <td>2.563000e+03</td>\n",
       "    </tr>\n",
       "    <tr>\n",
       "      <th>max</th>\n",
       "      <td>1.100421e+06</td>\n",
       "    </tr>\n",
       "  </tbody>\n",
       "</table>\n",
       "</div>"
      ],
      "text/plain": [
       "          num_repos\n",
       "count  4.530000e+02\n",
       "mean   1.724180e+04\n",
       "std    9.147605e+04\n",
       "min    1.000000e+00\n",
       "25%    3.700000e+01\n",
       "50%    2.640000e+02\n",
       "75%    2.563000e+03\n",
       "max    1.100421e+06"
      ]
     },
     "execution_count": 29,
     "metadata": {},
     "output_type": "execute_result"
    }
   ],
   "source": [
    "repo.describe()"
   ]
  },
  {
   "cell_type": "markdown",
   "id": "4c0d0afa",
   "metadata": {
    "papermill": {
     "duration": 0.063957,
     "end_time": "2022-02-24T18:08:14.746740",
     "exception": false,
     "start_time": "2022-02-24T18:08:14.682783",
     "status": "completed"
    },
    "tags": []
   },
   "source": [
    "# Visualizing."
   ]
  },
  {
   "cell_type": "code",
   "execution_count": 30,
   "id": "283462cb",
   "metadata": {
    "execution": {
     "iopub.execute_input": "2022-02-24T18:08:14.878815Z",
     "iopub.status.busy": "2022-02-24T18:08:14.875883Z",
     "iopub.status.idle": "2022-02-24T18:08:14.885150Z",
     "shell.execute_reply": "2022-02-24T18:08:14.885649Z",
     "shell.execute_reply.started": "2022-02-24T18:05:58.787676Z"
    },
    "papermill": {
     "duration": 0.074862,
     "end_time": "2022-02-24T18:08:14.885833",
     "exception": false,
     "start_time": "2022-02-24T18:08:14.810971",
     "status": "completed"
    },
    "tags": []
   },
   "outputs": [
    {
     "data": {
      "text/plain": [
       "language\n",
       "JavaScript    1100421\n",
       "CSS            813443\n",
       "HTML           779549\n",
       "Shell          638068\n",
       "Python         548870\n",
       "Ruby           374802\n",
       "Java           369282\n",
       "PHP            339901\n",
       "C              292000\n",
       "C++            278066\n",
       "Name: num_repos, dtype: int64"
      ]
     },
     "execution_count": 30,
     "metadata": {},
     "output_type": "execute_result"
    }
   ],
   "source": [
    "repo.groupby('language')['num_repos'].sum().nlargest(10)"
   ]
  },
  {
   "cell_type": "code",
   "execution_count": 31,
   "id": "8837139e",
   "metadata": {
    "execution": {
     "iopub.execute_input": "2022-02-24T18:08:15.015149Z",
     "iopub.status.busy": "2022-02-24T18:08:15.014425Z",
     "iopub.status.idle": "2022-02-24T18:08:20.308096Z",
     "shell.execute_reply": "2022-02-24T18:08:20.308557Z",
     "shell.execute_reply.started": "2022-02-24T18:02:48.818662Z"
    },
    "papermill": {
     "duration": 5.360068,
     "end_time": "2022-02-24T18:08:20.308749",
     "exception": false,
     "start_time": "2022-02-24T18:08:14.948681",
     "status": "completed"
    },
    "tags": []
   },
   "outputs": [
    {
     "data": {
      "text/plain": [
       "[<matplotlib.lines.Line2D at 0x7f4ce8772510>]"
      ]
     },
     "execution_count": 31,
     "metadata": {},
     "output_type": "execute_result"
    },
    {
     "data": {
      "image/png": "[encoded data removed]",
      "text/plain": [
       "<Figure size 432x288 with 1 Axes>"
      ]
     },
     "metadata": {
      "needs_background": "light"
     },
     "output_type": "display_data"
    }
   ],
   "source": [
    "plt.plot(repo['language'],repo['num_repos'])"
   ]
  },
  {
   "cell_type": "markdown",
   "id": "8a01b1fe",
   "metadata": {
    "papermill": {
     "duration": 0.063733,
     "end_time": "2022-02-24T18:08:20.436404",
     "exception": false,
     "start_time": "2022-02-24T18:08:20.372671",
     "status": "completed"
    },
    "tags": []
   },
   "source": [
    "# Thank You."
   ]
  },
  {
   "cell_type": "code",
   "execution_count": null,
   "id": "c212f725",
   "metadata": {
    "papermill": {
     "duration": 0.064003,
     "end_time": "2022-02-24T18:08:20.564423",
     "exception": false,
     "start_time": "2022-02-24T18:08:20.500420",
     "status": "completed"
    },
    "tags": []
   },
   "outputs": [],
   "source": []
  }
 ],
 "metadata": {
  "kernelspec": {
   "display_name": "Python 3",
   "language": "python",
   "name": "python3"
  },
  "language_info": {
   "codemirror_mode": {
    "name": "ipython",
    "version": 3
   },
   "file_extension": ".py",
   "mimetype": "text/x-python",
   "name": "python",
   "nbconvert_exporter": "python",
   "pygments_lexer": "ipython3",
   "version": "3.7.12"
  },
  "papermill": {
   "default_parameters": {},
   "duration": 27.150031,
   "end_time": "2022-02-24T18:08:21.539509",
   "environment_variables": {},
   "exception": null,
   "input_path": "__notebook__.ipynb",
   "output_path": "__notebook__.ipynb",
   "parameters": {},
   "start_time": "2022-02-24T18:07:54.389478",
   "version": "2.3.3"
  }
 },
 "nbformat": 4,
 "nbformat_minor": 5
}
