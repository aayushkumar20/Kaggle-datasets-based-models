{
 "cells": [
  {
   "cell_type": "markdown",
   "id": "cd2f2a98",
   "metadata": {
    "papermill": {
     "duration": 0.035708,
     "end_time": "2022-05-14T06:55:12.985874",
     "exception": false,
     "start_time": "2022-05-14T06:55:12.950166",
     "status": "completed"
    },
    "tags": []
   },
   "source": [
    "## Importing required modules."
   ]
  },
  {
   "cell_type": "code",
   "execution_count": 1,
   "id": "7d8504bd",
   "metadata": {
    "execution": {
     "iopub.execute_input": "2022-05-14T06:55:13.071036Z",
     "iopub.status.busy": "2022-05-14T06:55:13.070616Z",
     "iopub.status.idle": "2022-05-14T06:55:19.176559Z",
     "shell.execute_reply": "2022-05-14T06:55:19.175789Z"
    },
    "papermill": {
     "duration": 6.15718,
     "end_time": "2022-05-14T06:55:19.178776",
     "exception": false,
     "start_time": "2022-05-14T06:55:13.021596",
     "status": "completed"
    },
    "tags": []
   },
   "outputs": [],
   "source": [
    "import numpy as np\n",
    "import pandas as pd\n",
    "import matplotlib.pyplot as plt\n",
    "import seaborn as sns\n",
    "import os\n",
    "import scipy as sp\n",
    "import warnings\n",
    "import tensorflow as tf\n",
    "import string\n",
    "import datetime\n",
    "warnings.filterwarnings(\"ignore\")\n",
    "%matplotlib inline\n",
    "from sklearn.preprocessing import LabelEncoder\n",
    "from sklearn.model_selection import train_test_split\n",
    "from tensorflow import keras\n",
    "from tensorflow.keras import layers\n",
    "from tensorflow.keras.utils import plot_model\n",
    "from tensorflow.keras.callbacks import EarlyStopping"
   ]
  },
  {
   "cell_type": "markdown",
   "id": "1af1dde4",
   "metadata": {
    "papermill": {
     "duration": 0.036555,
     "end_time": "2022-05-14T06:55:19.252514",
     "exception": false,
     "start_time": "2022-05-14T06:55:19.215959",
     "status": "completed"
    },
    "tags": []
   },
   "source": [
    "## Importing datasets."
   ]
  },
  {
   "cell_type": "code",
   "execution_count": 2,
   "id": "08c3c0a8",
   "metadata": {
    "execution": {
     "iopub.execute_input": "2022-05-14T06:55:19.325908Z",
     "iopub.status.busy": "2022-05-14T06:55:19.325658Z",
     "iopub.status.idle": "2022-05-14T06:55:19.704835Z",
     "shell.execute_reply": "2022-05-14T06:55:19.704098Z"
    },
    "papermill": {
     "duration": 0.418443,
     "end_time": "2022-05-14T06:55:19.707032",
     "exception": false,
     "start_time": "2022-05-14T06:55:19.288589",
     "status": "completed"
    },
    "tags": []
   },
   "outputs": [],
   "source": [
    "train = pd.read_csv('/kaggle/input/handwriting-recognition/written_name_train_v2.csv')\n",
    "valid = pd.read_csv('/kaggle/input/handwriting-recognition/written_name_validation_v2.csv')"
   ]
  },
  {
   "cell_type": "code",
   "execution_count": 3,
   "id": "0a609733",
   "metadata": {
    "execution": {
     "iopub.execute_input": "2022-05-14T06:55:19.776744Z",
     "iopub.status.busy": "2022-05-14T06:55:19.776012Z",
     "iopub.status.idle": "2022-05-14T06:55:20.206793Z",
     "shell.execute_reply": "2022-05-14T06:55:20.205908Z"
    },
    "papermill": {
     "duration": 0.468976,
     "end_time": "2022-05-14T06:55:20.210029",
     "exception": false,
     "start_time": "2022-05-14T06:55:19.741053",
     "status": "completed"
    },
    "tags": []
   },
   "outputs": [
    {
     "name": "stdout",
     "output_type": "stream",
     "text": [
      "               FILENAME IDENTITY\n",
      "count            330961   330396\n",
      "unique           330961   100539\n",
      "top     TRAIN_00001.jpg   THOMAS\n",
      "freq                  1     1825\n",
      "<class 'pandas.core.frame.DataFrame'>\n",
      "RangeIndex: 330961 entries, 0 to 330960\n",
      "Data columns (total 2 columns):\n",
      " #   Column    Non-Null Count   Dtype \n",
      "---  ------    --------------   ----- \n",
      " 0   FILENAME  330961 non-null  object\n",
      " 1   IDENTITY  330396 non-null  object\n",
      "dtypes: object(2)\n",
      "memory usage: 5.1+ MB\n",
      "None\n"
     ]
    }
   ],
   "source": [
    "print(train.describe())\n",
    "print(train.info())"
   ]
  },
  {
   "cell_type": "code",
   "execution_count": 4,
   "id": "7dce9863",
   "metadata": {
    "execution": {
     "iopub.execute_input": "2022-05-14T06:55:20.283528Z",
     "iopub.status.busy": "2022-05-14T06:55:20.283142Z",
     "iopub.status.idle": "2022-05-14T06:55:20.344884Z",
     "shell.execute_reply": "2022-05-14T06:55:20.343042Z"
    },
    "papermill": {
     "duration": 0.099375,
     "end_time": "2022-05-14T06:55:20.346954",
     "exception": false,
     "start_time": "2022-05-14T06:55:20.247579",
     "status": "completed"
    },
    "tags": []
   },
   "outputs": [
    {
     "name": "stdout",
     "output_type": "stream",
     "text": [
      "                   FILENAME IDENTITY\n",
      "count                 41370    41292\n",
      "unique                41370    20227\n",
      "top     VALIDATION_0001.jpg   THOMAS\n",
      "freq                      1      219\n",
      "<class 'pandas.core.frame.DataFrame'>\n",
      "RangeIndex: 41370 entries, 0 to 41369\n",
      "Data columns (total 2 columns):\n",
      " #   Column    Non-Null Count  Dtype \n",
      "---  ------    --------------  ----- \n",
      " 0   FILENAME  41370 non-null  object\n",
      " 1   IDENTITY  41292 non-null  object\n",
      "dtypes: object(2)\n",
      "memory usage: 646.5+ KB\n",
      "None\n"
     ]
    }
   ],
   "source": [
    "print(valid.describe())\n",
    "print(valid.info())"
   ]
  },
  {
   "cell_type": "code",
   "execution_count": 5,
   "id": "e7f121f9",
   "metadata": {
    "execution": {
     "iopub.execute_input": "2022-05-14T06:55:20.421990Z",
     "iopub.status.busy": "2022-05-14T06:55:20.421749Z",
     "iopub.status.idle": "2022-05-14T06:55:20.426459Z",
     "shell.execute_reply": "2022-05-14T06:55:20.425735Z"
    },
    "papermill": {
     "duration": 0.04424,
     "end_time": "2022-05-14T06:55:20.429075",
     "exception": false,
     "start_time": "2022-05-14T06:55:20.384835",
     "status": "completed"
    },
    "tags": []
   },
   "outputs": [
    {
     "name": "stdout",
     "output_type": "stream",
     "text": [
      "Index(['FILENAME', 'IDENTITY'], dtype='object')\n",
      "Index(['FILENAME', 'IDENTITY'], dtype='object')\n"
     ]
    }
   ],
   "source": [
    "print(train.columns)\n",
    "print(valid.columns)"
   ]
  },
  {
   "cell_type": "code",
   "execution_count": 6,
   "id": "5ddb2598",
   "metadata": {
    "execution": {
     "iopub.execute_input": "2022-05-14T06:55:20.500490Z",
     "iopub.status.busy": "2022-05-14T06:55:20.499767Z",
     "iopub.status.idle": "2022-05-14T06:55:20.506471Z",
     "shell.execute_reply": "2022-05-14T06:55:20.505655Z"
    },
    "papermill": {
     "duration": 0.044316,
     "end_time": "2022-05-14T06:55:20.508635",
     "exception": false,
     "start_time": "2022-05-14T06:55:20.464319",
     "status": "completed"
    },
    "tags": []
   },
   "outputs": [
    {
     "name": "stdout",
     "output_type": "stream",
     "text": [
      "Data types: \n",
      "FILENAME    object\n",
      "IDENTITY    object\n",
      "dtype: object\n",
      "Data types: \n",
      "FILENAME    object\n",
      "IDENTITY    object\n",
      "dtype: object\n"
     ]
    }
   ],
   "source": [
    "print(\"Data types: \\n{}\".format(train.dtypes))\n",
    "print(\"Data types: \\n{}\".format(valid.dtypes))"
   ]
  },
  {
   "cell_type": "code",
   "execution_count": 7,
   "id": "96c28954",
   "metadata": {
    "execution": {
     "iopub.execute_input": "2022-05-14T06:55:20.582532Z",
     "iopub.status.busy": "2022-05-14T06:55:20.581859Z",
     "iopub.status.idle": "2022-05-14T06:55:20.732544Z",
     "shell.execute_reply": "2022-05-14T06:55:20.731799Z"
    },
    "papermill": {
     "duration": 0.189644,
     "end_time": "2022-05-14T06:55:20.734612",
     "exception": false,
     "start_time": "2022-05-14T06:55:20.544968",
     "status": "completed"
    },
    "tags": []
   },
   "outputs": [],
   "source": [
    "train.isnull().sum()\n",
    "train=train.dropna()"
   ]
  },
  {
   "cell_type": "code",
   "execution_count": 8,
   "id": "affa1bcb",
   "metadata": {
    "execution": {
     "iopub.execute_input": "2022-05-14T06:55:20.806986Z",
     "iopub.status.busy": "2022-05-14T06:55:20.806385Z",
     "iopub.status.idle": "2022-05-14T06:55:20.829431Z",
     "shell.execute_reply": "2022-05-14T06:55:20.828742Z"
    },
    "papermill": {
     "duration": 0.061183,
     "end_time": "2022-05-14T06:55:20.831181",
     "exception": false,
     "start_time": "2022-05-14T06:55:20.769998",
     "status": "completed"
    },
    "tags": []
   },
   "outputs": [],
   "source": [
    "valid.isnull().sum()\n",
    "valid=valid.dropna()"
   ]
  },
  {
   "cell_type": "code",
   "execution_count": 9,
   "id": "c4d5c4ac",
   "metadata": {
    "execution": {
     "iopub.execute_input": "2022-05-14T06:55:20.903680Z",
     "iopub.status.busy": "2022-05-14T06:55:20.903121Z",
     "iopub.status.idle": "2022-05-14T06:55:20.907731Z",
     "shell.execute_reply": "2022-05-14T06:55:20.907051Z"
    },
    "papermill": {
     "duration": 0.043253,
     "end_time": "2022-05-14T06:55:20.910260",
     "exception": false,
     "start_time": "2022-05-14T06:55:20.867007",
     "status": "completed"
    },
    "tags": []
   },
   "outputs": [
    {
     "name": "stdout",
     "output_type": "stream",
     "text": [
      "(330396, 2)\n",
      "(41292, 2)\n"
     ]
    }
   ],
   "source": [
    "print(train.shape)\n",
    "print(valid.shape)"
   ]
  },
  {
   "cell_type": "code",
   "execution_count": 10,
   "id": "f75718e4",
   "metadata": {
    "execution": {
     "iopub.execute_input": "2022-05-14T06:55:20.985351Z",
     "iopub.status.busy": "2022-05-14T06:55:20.984648Z",
     "iopub.status.idle": "2022-05-14T06:55:21.789183Z",
     "shell.execute_reply": "2022-05-14T06:55:21.788394Z"
    },
    "papermill": {
     "duration": 0.844672,
     "end_time": "2022-05-14T06:55:21.791769",
     "exception": false,
     "start_time": "2022-05-14T06:55:20.947097",
     "status": "completed"
    },
    "tags": []
   },
   "outputs": [
    {
     "name": "stdout",
     "output_type": "stream",
     "text": [
      "FILENAME          IDENTITY \n",
      "TRAIN_00001.jpg   BALTHAZAR    1\n",
      "TRAIN_291526.jpg  CAMPOURCY    1\n",
      "TRAIN_291506.jpg  BELLO        1\n",
      "TRAIN_291505.jpg  BOISSIERE    1\n",
      "TRAIN_291504.jpg  LOUNA        1\n",
      "                              ..\n",
      "TRAIN_191201.jpg  CHOMEL       1\n",
      "TRAIN_191200.jpg  BARDIN       1\n",
      "TRAIN_19120.jpg   LAURI-ANN    1\n",
      "TRAIN_191199.jpg  TILLEMAN     1\n",
      "TRAIN_99999.jpg   DIMITRI      1\n",
      "Length: 330396, dtype: int64\n"
     ]
    }
   ],
   "source": [
    "print(train.value_counts())"
   ]
  },
  {
   "cell_type": "code",
   "execution_count": 11,
   "id": "f135d401",
   "metadata": {
    "execution": {
     "iopub.execute_input": "2022-05-14T06:55:21.873241Z",
     "iopub.status.busy": "2022-05-14T06:55:21.872941Z",
     "iopub.status.idle": "2022-05-14T06:55:21.974366Z",
     "shell.execute_reply": "2022-05-14T06:55:21.973647Z"
    },
    "papermill": {
     "duration": 0.144994,
     "end_time": "2022-05-14T06:55:21.976691",
     "exception": false,
     "start_time": "2022-05-14T06:55:21.831697",
     "status": "completed"
    },
    "tags": []
   },
   "outputs": [
    {
     "name": "stdout",
     "output_type": "stream",
     "text": [
      "FILENAME              IDENTITY        \n",
      "VALIDATION_0001.jpg   BILEL               1\n",
      "VALIDATION_34138.jpg  GLI                 1\n",
      "VALIDATION_34158.jpg  GILLES              1\n",
      "VALIDATION_34159.jpg  VINCENT             1\n",
      "VALIDATION_3416.jpg   NATHAN              1\n",
      "                                         ..\n",
      "VALIDATION_21627.jpg  HAMEAU              1\n",
      "VALIDATION_21628.jpg  FIGUERES CAUMONT    1\n",
      "VALIDATION_21629.jpg  XU                  1\n",
      "VALIDATION_2163.jpg   MENDES              1\n",
      "VALIDATION_9999.jpg   BABIN-PELTIER       1\n",
      "Length: 41292, dtype: int64\n"
     ]
    }
   ],
   "source": [
    "print(valid.value_counts())"
   ]
  },
  {
   "cell_type": "markdown",
   "id": "376f9e44",
   "metadata": {
    "papermill": {
     "duration": 0.042024,
     "end_time": "2022-05-14T06:55:22.060562",
     "exception": false,
     "start_time": "2022-05-14T06:55:22.018538",
     "status": "completed"
    },
    "tags": []
   },
   "source": [
    "#### Verifying."
   ]
  },
  {
   "cell_type": "code",
   "execution_count": 12,
   "id": "7d3fbb83",
   "metadata": {
    "execution": {
     "iopub.execute_input": "2022-05-14T06:55:22.144823Z",
     "iopub.status.busy": "2022-05-14T06:55:22.144551Z",
     "iopub.status.idle": "2022-05-14T06:55:22.220854Z",
     "shell.execute_reply": "2022-05-14T06:55:22.220018Z"
    },
    "papermill": {
     "duration": 0.120492,
     "end_time": "2022-05-14T06:55:22.223114",
     "exception": false,
     "start_time": "2022-05-14T06:55:22.102622",
     "status": "completed"
    },
    "tags": []
   },
   "outputs": [
    {
     "data": {
      "text/plain": [
       "FILENAME    False\n",
       "IDENTITY    False\n",
       "dtype: bool"
      ]
     },
     "execution_count": 12,
     "metadata": {},
     "output_type": "execute_result"
    }
   ],
   "source": [
    "train.isnull().any()"
   ]
  },
  {
   "cell_type": "code",
   "execution_count": 13,
   "id": "667d11e9",
   "metadata": {
    "execution": {
     "iopub.execute_input": "2022-05-14T06:55:22.307060Z",
     "iopub.status.busy": "2022-05-14T06:55:22.306406Z",
     "iopub.status.idle": "2022-05-14T06:55:22.323522Z",
     "shell.execute_reply": "2022-05-14T06:55:22.322720Z"
    },
    "papermill": {
     "duration": 0.061108,
     "end_time": "2022-05-14T06:55:22.325371",
     "exception": false,
     "start_time": "2022-05-14T06:55:22.264263",
     "status": "completed"
    },
    "tags": []
   },
   "outputs": [
    {
     "data": {
      "text/plain": [
       "FILENAME    False\n",
       "IDENTITY    False\n",
       "dtype: bool"
      ]
     },
     "execution_count": 13,
     "metadata": {},
     "output_type": "execute_result"
    }
   ],
   "source": [
    "valid.isnull().any()"
   ]
  },
  {
   "cell_type": "markdown",
   "id": "e9753dd0",
   "metadata": {
    "papermill": {
     "duration": 0.040892,
     "end_time": "2022-05-14T06:55:22.407994",
     "exception": false,
     "start_time": "2022-05-14T06:55:22.367102",
     "status": "completed"
    },
    "tags": []
   },
   "source": [
    "## Pre processing and modifying the data for further use."
   ]
  },
  {
   "cell_type": "code",
   "execution_count": 14,
   "id": "57e57ea0",
   "metadata": {
    "execution": {
     "iopub.execute_input": "2022-05-14T06:55:22.493410Z",
     "iopub.status.busy": "2022-05-14T06:55:22.493121Z",
     "iopub.status.idle": "2022-05-14T06:55:22.497058Z",
     "shell.execute_reply": "2022-05-14T06:55:22.496282Z"
    },
    "papermill": {
     "duration": 0.048818,
     "end_time": "2022-05-14T06:55:22.498929",
     "exception": false,
     "start_time": "2022-05-14T06:55:22.450111",
     "status": "completed"
    },
    "tags": []
   },
   "outputs": [],
   "source": [
    "list_a=list(train.columns)"
   ]
  },
  {
   "cell_type": "code",
   "execution_count": 15,
   "id": "a5c726dc",
   "metadata": {
    "execution": {
     "iopub.execute_input": "2022-05-14T06:55:22.584902Z",
     "iopub.status.busy": "2022-05-14T06:55:22.584164Z",
     "iopub.status.idle": "2022-05-14T06:55:22.588686Z",
     "shell.execute_reply": "2022-05-14T06:55:22.587973Z"
    },
    "papermill": {
     "duration": 0.049397,
     "end_time": "2022-05-14T06:55:22.590394",
     "exception": false,
     "start_time": "2022-05-14T06:55:22.540997",
     "status": "completed"
    },
    "tags": []
   },
   "outputs": [],
   "source": [
    "list_cate=[]\n",
    "for i in list_a:\n",
    "    if train[i].dtype=='object':\n",
    "        list_cate.append(i)"
   ]
  },
  {
   "cell_type": "code",
   "execution_count": 16,
   "id": "9f4f8106",
   "metadata": {
    "execution": {
     "iopub.execute_input": "2022-05-14T06:55:22.675185Z",
     "iopub.status.busy": "2022-05-14T06:55:22.674284Z",
     "iopub.status.idle": "2022-05-14T06:55:22.678527Z",
     "shell.execute_reply": "2022-05-14T06:55:22.677650Z"
    },
    "papermill": {
     "duration": 0.048704,
     "end_time": "2022-05-14T06:55:22.680383",
     "exception": false,
     "start_time": "2022-05-14T06:55:22.631679",
     "status": "completed"
    },
    "tags": []
   },
   "outputs": [],
   "source": [
    "le=LabelEncoder()"
   ]
  },
  {
   "cell_type": "code",
   "execution_count": 17,
   "id": "ef95aa42",
   "metadata": {
    "execution": {
     "iopub.execute_input": "2022-05-14T06:55:22.765747Z",
     "iopub.status.busy": "2022-05-14T06:55:22.765472Z",
     "iopub.status.idle": "2022-05-14T06:55:24.174939Z",
     "shell.execute_reply": "2022-05-14T06:55:24.174109Z"
    },
    "papermill": {
     "duration": 1.455304,
     "end_time": "2022-05-14T06:55:24.177233",
     "exception": false,
     "start_time": "2022-05-14T06:55:22.721929",
     "status": "completed"
    },
    "tags": []
   },
   "outputs": [],
   "source": [
    "for i in list_cate:\n",
    "    train[i]=le.fit_transform(train[i])"
   ]
  },
  {
   "cell_type": "code",
   "execution_count": 18,
   "id": "35888168",
   "metadata": {
    "execution": {
     "iopub.execute_input": "2022-05-14T06:55:24.261754Z",
     "iopub.status.busy": "2022-05-14T06:55:24.261512Z",
     "iopub.status.idle": "2022-05-14T06:55:24.273545Z",
     "shell.execute_reply": "2022-05-14T06:55:24.272651Z"
    },
    "papermill": {
     "duration": 0.058782,
     "end_time": "2022-05-14T06:55:24.276945",
     "exception": false,
     "start_time": "2022-05-14T06:55:24.218163",
     "status": "completed"
    },
    "tags": []
   },
   "outputs": [
    {
     "name": "stdout",
     "output_type": "stream",
     "text": [
      "<class 'pandas.core.frame.DataFrame'>\n",
      "Int64Index: 330396 entries, 0 to 330960\n",
      "Data columns (total 2 columns):\n",
      " #   Column    Non-Null Count   Dtype\n",
      "---  ------    --------------   -----\n",
      " 0   FILENAME  330396 non-null  int64\n",
      " 1   IDENTITY  330396 non-null  int64\n",
      "dtypes: int64(2)\n",
      "memory usage: 7.6 MB\n"
     ]
    }
   ],
   "source": [
    "train.info()"
   ]
  },
  {
   "cell_type": "code",
   "execution_count": 19,
   "id": "7dca68bc",
   "metadata": {
    "execution": {
     "iopub.execute_input": "2022-05-14T06:55:24.364816Z",
     "iopub.status.busy": "2022-05-14T06:55:24.364562Z",
     "iopub.status.idle": "2022-05-14T06:55:24.402636Z",
     "shell.execute_reply": "2022-05-14T06:55:24.401929Z"
    },
    "papermill": {
     "duration": 0.081742,
     "end_time": "2022-05-14T06:55:24.404336",
     "exception": false,
     "start_time": "2022-05-14T06:55:24.322594",
     "status": "completed"
    },
    "tags": []
   },
   "outputs": [
    {
     "data": {
      "text/html": [
       "<div>\n",
       "<style scoped>\n",
       "    .dataframe tbody tr th:only-of-type {\n",
       "        vertical-align: middle;\n",
       "    }\n",
       "\n",
       "    .dataframe tbody tr th {\n",
       "        vertical-align: top;\n",
       "    }\n",
       "\n",
       "    .dataframe thead th {\n",
       "        text-align: right;\n",
       "    }\n",
       "</style>\n",
       "<table border=\"1\" class=\"dataframe\">\n",
       "  <thead>\n",
       "    <tr style=\"text-align: right;\">\n",
       "      <th></th>\n",
       "      <th>FILENAME</th>\n",
       "      <th>IDENTITY</th>\n",
       "    </tr>\n",
       "  </thead>\n",
       "  <tbody>\n",
       "    <tr>\n",
       "      <th>count</th>\n",
       "      <td>330396.000000</td>\n",
       "      <td>330396.000000</td>\n",
       "    </tr>\n",
       "    <tr>\n",
       "      <th>mean</th>\n",
       "      <td>165197.500000</td>\n",
       "      <td>50140.602256</td>\n",
       "    </tr>\n",
       "    <tr>\n",
       "      <th>std</th>\n",
       "      <td>95377.254107</td>\n",
       "      <td>28615.108748</td>\n",
       "    </tr>\n",
       "    <tr>\n",
       "      <th>min</th>\n",
       "      <td>0.000000</td>\n",
       "      <td>0.000000</td>\n",
       "    </tr>\n",
       "    <tr>\n",
       "      <th>25%</th>\n",
       "      <td>82598.750000</td>\n",
       "      <td>25295.750000</td>\n",
       "    </tr>\n",
       "    <tr>\n",
       "      <th>50%</th>\n",
       "      <td>165197.500000</td>\n",
       "      <td>51699.000000</td>\n",
       "    </tr>\n",
       "    <tr>\n",
       "      <th>75%</th>\n",
       "      <td>247796.250000</td>\n",
       "      <td>72625.000000</td>\n",
       "    </tr>\n",
       "    <tr>\n",
       "      <th>max</th>\n",
       "      <td>330395.000000</td>\n",
       "      <td>100538.000000</td>\n",
       "    </tr>\n",
       "  </tbody>\n",
       "</table>\n",
       "</div>"
      ],
      "text/plain": [
       "            FILENAME       IDENTITY\n",
       "count  330396.000000  330396.000000\n",
       "mean   165197.500000   50140.602256\n",
       "std     95377.254107   28615.108748\n",
       "min         0.000000       0.000000\n",
       "25%     82598.750000   25295.750000\n",
       "50%    165197.500000   51699.000000\n",
       "75%    247796.250000   72625.000000\n",
       "max    330395.000000  100538.000000"
      ]
     },
     "execution_count": 19,
     "metadata": {},
     "output_type": "execute_result"
    }
   ],
   "source": [
    "train.describe()"
   ]
  },
  {
   "cell_type": "code",
   "execution_count": 20,
   "id": "9502cdf6",
   "metadata": {
    "execution": {
     "iopub.execute_input": "2022-05-14T06:55:24.493436Z",
     "iopub.status.busy": "2022-05-14T06:55:24.493110Z",
     "iopub.status.idle": "2022-05-14T06:55:24.503841Z",
     "shell.execute_reply": "2022-05-14T06:55:24.503102Z"
    },
    "papermill": {
     "duration": 0.055924,
     "end_time": "2022-05-14T06:55:24.505833",
     "exception": false,
     "start_time": "2022-05-14T06:55:24.449909",
     "status": "completed"
    },
    "tags": []
   },
   "outputs": [
    {
     "data": {
      "text/html": [
       "<div>\n",
       "<style scoped>\n",
       "    .dataframe tbody tr th:only-of-type {\n",
       "        vertical-align: middle;\n",
       "    }\n",
       "\n",
       "    .dataframe tbody tr th {\n",
       "        vertical-align: top;\n",
       "    }\n",
       "\n",
       "    .dataframe thead th {\n",
       "        text-align: right;\n",
       "    }\n",
       "</style>\n",
       "<table border=\"1\" class=\"dataframe\">\n",
       "  <thead>\n",
       "    <tr style=\"text-align: right;\">\n",
       "      <th></th>\n",
       "      <th>FILENAME</th>\n",
       "      <th>IDENTITY</th>\n",
       "    </tr>\n",
       "  </thead>\n",
       "  <tbody>\n",
       "    <tr>\n",
       "      <th>0</th>\n",
       "      <td>0</td>\n",
       "      <td>6790</td>\n",
       "    </tr>\n",
       "    <tr>\n",
       "      <th>1</th>\n",
       "      <td>1</td>\n",
       "      <td>88373</td>\n",
       "    </tr>\n",
       "    <tr>\n",
       "      <th>2</th>\n",
       "      <td>2</td>\n",
       "      <td>9411</td>\n",
       "    </tr>\n",
       "    <tr>\n",
       "      <th>3</th>\n",
       "      <td>3</td>\n",
       "      <td>54452</td>\n",
       "    </tr>\n",
       "    <tr>\n",
       "      <th>4</th>\n",
       "      <td>4</td>\n",
       "      <td>24870</td>\n",
       "    </tr>\n",
       "    <tr>\n",
       "      <th>...</th>\n",
       "      <td>...</td>\n",
       "      <td>...</td>\n",
       "    </tr>\n",
       "    <tr>\n",
       "      <th>330956</th>\n",
       "      <td>263609</td>\n",
       "      <td>59046</td>\n",
       "    </tr>\n",
       "    <tr>\n",
       "      <th>330957</th>\n",
       "      <td>263610</td>\n",
       "      <td>92820</td>\n",
       "    </tr>\n",
       "    <tr>\n",
       "      <th>330958</th>\n",
       "      <td>263611</td>\n",
       "      <td>23178</td>\n",
       "    </tr>\n",
       "    <tr>\n",
       "      <th>330959</th>\n",
       "      <td>263613</td>\n",
       "      <td>70125</td>\n",
       "    </tr>\n",
       "    <tr>\n",
       "      <th>330960</th>\n",
       "      <td>263614</td>\n",
       "      <td>46219</td>\n",
       "    </tr>\n",
       "  </tbody>\n",
       "</table>\n",
       "<p>330396 rows × 2 columns</p>\n",
       "</div>"
      ],
      "text/plain": [
       "        FILENAME  IDENTITY\n",
       "0              0      6790\n",
       "1              1     88373\n",
       "2              2      9411\n",
       "3              3     54452\n",
       "4              4     24870\n",
       "...          ...       ...\n",
       "330956    263609     59046\n",
       "330957    263610     92820\n",
       "330958    263611     23178\n",
       "330959    263613     70125\n",
       "330960    263614     46219\n",
       "\n",
       "[330396 rows x 2 columns]"
      ]
     },
     "execution_count": 20,
     "metadata": {},
     "output_type": "execute_result"
    }
   ],
   "source": [
    "train"
   ]
  },
  {
   "cell_type": "code",
   "execution_count": 21,
   "id": "24fa25a6",
   "metadata": {
    "execution": {
     "iopub.execute_input": "2022-05-14T06:55:24.592283Z",
     "iopub.status.busy": "2022-05-14T06:55:24.591510Z",
     "iopub.status.idle": "2022-05-14T06:55:24.597331Z",
     "shell.execute_reply": "2022-05-14T06:55:24.596535Z"
    },
    "papermill": {
     "duration": 0.051733,
     "end_time": "2022-05-14T06:55:24.599237",
     "exception": false,
     "start_time": "2022-05-14T06:55:24.547504",
     "status": "completed"
    },
    "tags": []
   },
   "outputs": [],
   "source": [
    "X = train.drop('FILENAME',axis=1)\n",
    "y = train['FILENAME']"
   ]
  },
  {
   "cell_type": "markdown",
   "id": "36980e2f",
   "metadata": {
    "papermill": {
     "duration": 0.041844,
     "end_time": "2022-05-14T06:55:24.683601",
     "exception": false,
     "start_time": "2022-05-14T06:55:24.641757",
     "status": "completed"
    },
    "tags": []
   },
   "source": [
    "### Making graph."
   ]
  },
  {
   "cell_type": "code",
   "execution_count": 22,
   "id": "dd57def0",
   "metadata": {
    "execution": {
     "iopub.execute_input": "2022-05-14T06:55:24.770459Z",
     "iopub.status.busy": "2022-05-14T06:55:24.770155Z",
     "iopub.status.idle": "2022-05-14T06:55:25.164924Z",
     "shell.execute_reply": "2022-05-14T06:55:25.164141Z"
    },
    "papermill": {
     "duration": 0.441622,
     "end_time": "2022-05-14T06:55:25.166893",
     "exception": false,
     "start_time": "2022-05-14T06:55:24.725271",
     "status": "completed"
    },
    "tags": []
   },
   "outputs": [
    {
     "data": {
      "image/png": "[encoded data removed]",
      "text/plain": [
       "<Figure size 1008x864 with 2 Axes>"
      ]
     },
     "metadata": {
      "needs_background": "light"
     },
     "output_type": "display_data"
    }
   ],
   "source": [
    "train.hist(figsize=(14,12))\n",
    "plt.show()"
   ]
  },
  {
   "cell_type": "code",
   "execution_count": 23,
   "id": "251b08cb",
   "metadata": {
    "execution": {
     "iopub.execute_input": "2022-05-14T06:55:25.255849Z",
     "iopub.status.busy": "2022-05-14T06:55:25.255108Z",
     "iopub.status.idle": "2022-05-14T06:55:25.274927Z",
     "shell.execute_reply": "2022-05-14T06:55:25.274061Z"
    },
    "papermill": {
     "duration": 0.06654,
     "end_time": "2022-05-14T06:55:25.277089",
     "exception": false,
     "start_time": "2022-05-14T06:55:25.210549",
     "status": "completed"
    },
    "tags": []
   },
   "outputs": [
    {
     "data": {
      "text/html": [
       "<div>\n",
       "<style scoped>\n",
       "    .dataframe tbody tr th:only-of-type {\n",
       "        vertical-align: middle;\n",
       "    }\n",
       "\n",
       "    .dataframe tbody tr th {\n",
       "        vertical-align: top;\n",
       "    }\n",
       "\n",
       "    .dataframe thead th {\n",
       "        text-align: right;\n",
       "    }\n",
       "</style>\n",
       "<table border=\"1\" class=\"dataframe\">\n",
       "  <thead>\n",
       "    <tr style=\"text-align: right;\">\n",
       "      <th></th>\n",
       "      <th>FILENAME</th>\n",
       "      <th>IDENTITY</th>\n",
       "    </tr>\n",
       "  </thead>\n",
       "  <tbody>\n",
       "    <tr>\n",
       "      <th>FILENAME</th>\n",
       "      <td>1.000000</td>\n",
       "      <td>0.000385</td>\n",
       "    </tr>\n",
       "    <tr>\n",
       "      <th>IDENTITY</th>\n",
       "      <td>0.000385</td>\n",
       "      <td>1.000000</td>\n",
       "    </tr>\n",
       "  </tbody>\n",
       "</table>\n",
       "</div>"
      ],
      "text/plain": [
       "          FILENAME  IDENTITY\n",
       "FILENAME  1.000000  0.000385\n",
       "IDENTITY  0.000385  1.000000"
      ]
     },
     "execution_count": 23,
     "metadata": {},
     "output_type": "execute_result"
    }
   ],
   "source": [
    "train.corr()"
   ]
  },
  {
   "cell_type": "markdown",
   "id": "fb92fb3a",
   "metadata": {
    "papermill": {
     "duration": 0.042808,
     "end_time": "2022-05-14T06:55:25.367761",
     "exception": false,
     "start_time": "2022-05-14T06:55:25.324953",
     "status": "completed"
    },
    "tags": []
   },
   "source": [
    "## Heatmap."
   ]
  },
  {
   "cell_type": "code",
   "execution_count": 24,
   "id": "4ed30b02",
   "metadata": {
    "execution": {
     "iopub.execute_input": "2022-05-14T06:55:25.458012Z",
     "iopub.status.busy": "2022-05-14T06:55:25.457284Z",
     "iopub.status.idle": "2022-05-14T06:55:25.679570Z",
     "shell.execute_reply": "2022-05-14T06:55:25.678904Z"
    },
    "papermill": {
     "duration": 0.269231,
     "end_time": "2022-05-14T06:55:25.681304",
     "exception": false,
     "start_time": "2022-05-14T06:55:25.412073",
     "status": "completed"
    },
    "tags": []
   },
   "outputs": [
    {
     "data": {
      "text/plain": [
       "<AxesSubplot:>"
      ]
     },
     "execution_count": 24,
     "metadata": {},
     "output_type": "execute_result"
    },
    {
     "data": {
      "image/png": "[encoded data removed]",
      "text/plain": [
       "<Figure size 432x288 with 2 Axes>"
      ]
     },
     "metadata": {
      "needs_background": "light"
     },
     "output_type": "display_data"
    }
   ],
   "source": [
    "plt.figure(figsize = (6,4))\n",
    "\n",
    "sns.heatmap(train.corr(), annot = True)"
   ]
  },
  {
   "cell_type": "code",
   "execution_count": 25,
   "id": "a254c0d8",
   "metadata": {
    "execution": {
     "iopub.execute_input": "2022-05-14T06:55:25.773729Z",
     "iopub.status.busy": "2022-05-14T06:55:25.772878Z",
     "iopub.status.idle": "2022-05-14T06:55:26.105995Z",
     "shell.execute_reply": "2022-05-14T06:55:26.105230Z"
    },
    "papermill": {
     "duration": 0.382017,
     "end_time": "2022-05-14T06:55:26.108438",
     "exception": false,
     "start_time": "2022-05-14T06:55:25.726421",
     "status": "completed"
    },
    "tags": []
   },
   "outputs": [
    {
     "data": {
      "image/png": "[encoded data removed]",
      "text/plain": [
       "<Figure size 640x480 with 1 Axes>"
      ]
     },
     "metadata": {},
     "output_type": "display_data"
    }
   ],
   "source": [
    "plt.style.use(\"default\")\n",
    "sns.barplot(x=\"IDENTITY\", y=\"FILENAME\",data=train[180:190])\n",
    "plt.title(\"Identity vs Filename\",fontsize=15)\n",
    "plt.xlabel(\"Identity\")\n",
    "plt.ylabel(\"Filename\")\n",
    "plt.show()"
   ]
  },
  {
   "cell_type": "markdown",
   "id": "02ee35cb",
   "metadata": {
    "papermill": {
     "duration": 0.074936,
     "end_time": "2022-05-14T06:55:26.259849",
     "exception": false,
     "start_time": "2022-05-14T06:55:26.184913",
     "status": "completed"
    },
    "tags": []
   },
   "source": [
    "## Line Plot."
   ]
  },
  {
   "cell_type": "code",
   "execution_count": 26,
   "id": "aa401613",
   "metadata": {
    "execution": {
     "iopub.execute_input": "2022-05-14T06:55:26.414646Z",
     "iopub.status.busy": "2022-05-14T06:55:26.414290Z",
     "iopub.status.idle": "2022-05-14T06:55:26.745247Z",
     "shell.execute_reply": "2022-05-14T06:55:26.744471Z"
    },
    "papermill": {
     "duration": 0.411341,
     "end_time": "2022-05-14T06:55:26.748501",
     "exception": false,
     "start_time": "2022-05-14T06:55:26.337160",
     "status": "completed"
    },
    "tags": []
   },
   "outputs": [
    {
     "data": {
      "image/png": "[encoded data removed]",
      "text/plain": [
       "<Figure size 1400x700 with 1 Axes>"
      ]
     },
     "metadata": {},
     "output_type": "display_data"
    }
   ],
   "source": [
    "plt.style.use(\"default\")\n",
    "plt.figure(figsize=(14,7))\n",
    "sns.lineplot(x = \"FILENAME\",y = \"IDENTITY\",data = train[180:380], color='r')\n",
    "plt.title(\"Filename vs Identity\")\n",
    "plt.xlabel(\"Filename\")\n",
    "plt.ylabel(\"Identity\")\n",
    "plt.show()"
   ]
  },
  {
   "cell_type": "markdown",
   "id": "a31cace7",
   "metadata": {
    "papermill": {
     "duration": 0.049546,
     "end_time": "2022-05-14T06:55:26.849778",
     "exception": false,
     "start_time": "2022-05-14T06:55:26.800232",
     "status": "completed"
    },
    "tags": []
   },
   "source": [
    "Training and testing data."
   ]
  },
  {
   "cell_type": "code",
   "execution_count": 27,
   "id": "10a9046b",
   "metadata": {
    "execution": {
     "iopub.execute_input": "2022-05-14T06:55:26.949644Z",
     "iopub.status.busy": "2022-05-14T06:55:26.949366Z",
     "iopub.status.idle": "2022-05-14T06:55:26.981086Z",
     "shell.execute_reply": "2022-05-14T06:55:26.980259Z"
    },
    "papermill": {
     "duration": 0.084618,
     "end_time": "2022-05-14T06:55:26.983400",
     "exception": false,
     "start_time": "2022-05-14T06:55:26.898782",
     "status": "completed"
    },
    "tags": []
   },
   "outputs": [],
   "source": [
    "X_train,X_test,y_train,y_test = train_test_split(X,y,test_size=0.3,random_state=12)"
   ]
  },
  {
   "cell_type": "code",
   "execution_count": 28,
   "id": "ae7083b3",
   "metadata": {
    "execution": {
     "iopub.execute_input": "2022-05-14T06:55:27.087216Z",
     "iopub.status.busy": "2022-05-14T06:55:27.086955Z",
     "iopub.status.idle": "2022-05-14T06:55:27.092432Z",
     "shell.execute_reply": "2022-05-14T06:55:27.091634Z"
    },
    "papermill": {
     "duration": 0.059965,
     "end_time": "2022-05-14T06:55:27.094916",
     "exception": false,
     "start_time": "2022-05-14T06:55:27.034951",
     "status": "completed"
    },
    "tags": []
   },
   "outputs": [
    {
     "name": "stdout",
     "output_type": "stream",
     "text": [
      "231277\n",
      "99119\n",
      "231277\n",
      "99119\n"
     ]
    }
   ],
   "source": [
    "print(len(X_train))\n",
    "print(len(X_test))\n",
    "print(len(y_train))\n",
    "print(len(y_test))"
   ]
  },
  {
   "cell_type": "markdown",
   "id": "4f646268",
   "metadata": {
    "papermill": {
     "duration": 0.049178,
     "end_time": "2022-05-14T06:55:27.195307",
     "exception": false,
     "start_time": "2022-05-14T06:55:27.146129",
     "status": "completed"
    },
    "tags": []
   },
   "source": [
    "# Deep learning "
   ]
  },
  {
   "cell_type": "code",
   "execution_count": 29,
   "id": "47d2d3f7",
   "metadata": {
    "execution": {
     "iopub.execute_input": "2022-05-14T06:55:27.298893Z",
     "iopub.status.busy": "2022-05-14T06:55:27.298123Z",
     "iopub.status.idle": "2022-05-14T07:01:52.776952Z",
     "shell.execute_reply": "2022-05-14T07:01:52.776215Z"
    },
    "papermill": {
     "duration": 385.533319,
     "end_time": "2022-05-14T07:01:52.779091",
     "exception": false,
     "start_time": "2022-05-14T06:55:27.245772",
     "status": "completed"
    },
    "tags": []
   },
   "outputs": [
    {
     "name": "stderr",
     "output_type": "stream",
     "text": [
      "2022-05-14 06:55:27.388996: I tensorflow/stream_executor/cuda/cuda_gpu_executor.cc:937] successful NUMA node read from SysFS had negative value (-1), but there must be at least one NUMA node, so returning NUMA node zero\n",
      "2022-05-14 06:55:27.507104: I tensorflow/stream_executor/cuda/cuda_gpu_executor.cc:937] successful NUMA node read from SysFS had negative value (-1), but there must be at least one NUMA node, so returning NUMA node zero\n",
      "2022-05-14 06:55:27.508055: I tensorflow/stream_executor/cuda/cuda_gpu_executor.cc:937] successful NUMA node read from SysFS had negative value (-1), but there must be at least one NUMA node, so returning NUMA node zero\n",
      "2022-05-14 06:55:27.509336: I tensorflow/core/platform/cpu_feature_guard.cc:142] This TensorFlow binary is optimized with oneAPI Deep Neural Network Library (oneDNN) to use the following CPU instructions in performance-critical operations:  AVX2 AVX512F FMA\n",
      "To enable them in other operations, rebuild TensorFlow with the appropriate compiler flags.\n",
      "2022-05-14 06:55:27.509647: I tensorflow/stream_executor/cuda/cuda_gpu_executor.cc:937] successful NUMA node read from SysFS had negative value (-1), but there must be at least one NUMA node, so returning NUMA node zero\n",
      "2022-05-14 06:55:27.510383: I tensorflow/stream_executor/cuda/cuda_gpu_executor.cc:937] successful NUMA node read from SysFS had negative value (-1), but there must be at least one NUMA node, so returning NUMA node zero\n",
      "2022-05-14 06:55:27.511024: I tensorflow/stream_executor/cuda/cuda_gpu_executor.cc:937] successful NUMA node read from SysFS had negative value (-1), but there must be at least one NUMA node, so returning NUMA node zero\n",
      "2022-05-14 06:55:29.854731: I tensorflow/stream_executor/cuda/cuda_gpu_executor.cc:937] successful NUMA node read from SysFS had negative value (-1), but there must be at least one NUMA node, so returning NUMA node zero\n",
      "2022-05-14 06:55:29.855722: I tensorflow/stream_executor/cuda/cuda_gpu_executor.cc:937] successful NUMA node read from SysFS had negative value (-1), but there must be at least one NUMA node, so returning NUMA node zero\n",
      "2022-05-14 06:55:29.856616: I tensorflow/stream_executor/cuda/cuda_gpu_executor.cc:937] successful NUMA node read from SysFS had negative value (-1), but there must be at least one NUMA node, so returning NUMA node zero\n",
      "2022-05-14 06:55:29.858300: I tensorflow/core/common_runtime/gpu/gpu_device.cc:1510] Created device /job:localhost/replica:0/task:0/device:GPU:0 with 15403 MB memory:  -> device: 0, name: Tesla P100-PCIE-16GB, pci bus id: 0000:00:04.0, compute capability: 6.0\n",
      "2022-05-14 06:55:30.293767: I tensorflow/compiler/mlir/mlir_graph_optimization_pass.cc:185] None of the MLIR Optimization Passes are enabled (registered 2)\n"
     ]
    },
    {
     "name": "stdout",
     "output_type": "stream",
     "text": [
      "Epoch 1/150\n",
      "904/904 [==============================] - 5s 3ms/step - loss: -2520160.7500 - binary_accuracy: 4.3238e-06\n",
      "Epoch 2/150\n",
      "904/904 [==============================] - 3s 3ms/step - loss: -2520222.2500 - binary_accuracy: 4.3238e-06\n",
      "Epoch 3/150\n",
      "904/904 [==============================] - 2s 3ms/step - loss: -2520221.5000 - binary_accuracy: 4.3238e-06\n",
      "Epoch 4/150\n",
      "904/904 [==============================] - 2s 3ms/step - loss: -2520222.0000 - binary_accuracy: 4.3238e-06\n",
      "Epoch 5/150\n",
      "904/904 [==============================] - 2s 3ms/step - loss: -2520222.5000 - binary_accuracy: 4.3238e-06\n",
      "Epoch 6/150\n",
      "904/904 [==============================] - 2s 3ms/step - loss: -2520223.2500 - binary_accuracy: 4.3238e-06\n",
      "Epoch 7/150\n",
      "904/904 [==============================] - 3s 3ms/step - loss: -2520223.2500 - binary_accuracy: 4.3238e-06\n",
      "Epoch 8/150\n",
      "904/904 [==============================] - 2s 3ms/step - loss: -2520220.7500 - binary_accuracy: 4.3238e-06\n",
      "Epoch 9/150\n",
      "904/904 [==============================] - 2s 2ms/step - loss: -2520222.2500 - binary_accuracy: 4.3238e-06\n",
      "Epoch 10/150\n",
      "904/904 [==============================] - 2s 2ms/step - loss: -2520224.2500 - binary_accuracy: 4.3238e-06\n",
      "Epoch 11/150\n",
      "904/904 [==============================] - 3s 3ms/step - loss: -2520222.7500 - binary_accuracy: 4.3238e-06\n",
      "Epoch 12/150\n",
      "904/904 [==============================] - 2s 2ms/step - loss: -2520219.7500 - binary_accuracy: 4.3238e-06\n",
      "Epoch 13/150\n",
      "904/904 [==============================] - 2s 2ms/step - loss: -2520223.5000 - binary_accuracy: 4.3238e-06\n",
      "Epoch 14/150\n",
      "904/904 [==============================] - 3s 3ms/step - loss: -2520221.7500 - binary_accuracy: 4.3238e-06\n",
      "Epoch 15/150\n",
      "904/904 [==============================] - 2s 2ms/step - loss: -2520222.5000 - binary_accuracy: 4.3238e-06\n",
      "Epoch 16/150\n",
      "904/904 [==============================] - 3s 3ms/step - loss: -2520222.0000 - binary_accuracy: 4.3238e-06\n",
      "Epoch 17/150\n",
      "904/904 [==============================] - 2s 2ms/step - loss: -2520222.2500 - binary_accuracy: 4.3238e-06\n",
      "Epoch 18/150\n",
      "904/904 [==============================] - 2s 2ms/step - loss: -2520220.7500 - binary_accuracy: 4.3238e-06\n",
      "Epoch 19/150\n",
      "904/904 [==============================] - 2s 2ms/step - loss: -2520220.0000 - binary_accuracy: 4.3238e-06\n",
      "Epoch 20/150\n",
      "904/904 [==============================] - 2s 3ms/step - loss: -2520221.2500 - binary_accuracy: 4.3238e-06\n",
      "Epoch 21/150\n",
      "904/904 [==============================] - 3s 3ms/step - loss: -2520220.7500 - binary_accuracy: 4.3238e-06\n",
      "Epoch 22/150\n",
      "904/904 [==============================] - 2s 3ms/step - loss: -2520223.7500 - binary_accuracy: 4.3238e-06\n",
      "Epoch 23/150\n",
      "904/904 [==============================] - 3s 3ms/step - loss: -2520222.2500 - binary_accuracy: 4.3238e-06\n",
      "Epoch 24/150\n",
      "904/904 [==============================] - 2s 3ms/step - loss: -2520222.0000 - binary_accuracy: 4.3238e-06\n",
      "Epoch 25/150\n",
      "904/904 [==============================] - 3s 3ms/step - loss: -2520222.7500 - binary_accuracy: 4.3238e-06\n",
      "Epoch 26/150\n",
      "904/904 [==============================] - 2s 3ms/step - loss: -2520222.7500 - binary_accuracy: 4.3238e-06\n",
      "Epoch 27/150\n",
      "904/904 [==============================] - 3s 3ms/step - loss: -2520222.7500 - binary_accuracy: 4.3238e-06\n",
      "Epoch 28/150\n",
      "904/904 [==============================] - 3s 3ms/step - loss: -2520223.5000 - binary_accuracy: 4.3238e-06\n",
      "Epoch 29/150\n",
      "904/904 [==============================] - 3s 3ms/step - loss: -2520221.2500 - binary_accuracy: 4.3238e-06\n",
      "Epoch 30/150\n",
      "904/904 [==============================] - 2s 3ms/step - loss: -2520220.7500 - binary_accuracy: 4.3238e-06\n",
      "Epoch 31/150\n",
      "904/904 [==============================] - 2s 3ms/step - loss: -2520222.2500 - binary_accuracy: 4.3238e-06\n",
      "Epoch 32/150\n",
      "904/904 [==============================] - 2s 3ms/step - loss: -2520222.5000 - binary_accuracy: 4.3238e-06\n",
      "Epoch 33/150\n",
      "904/904 [==============================] - 2s 3ms/step - loss: -2520224.2500 - binary_accuracy: 4.3238e-06\n",
      "Epoch 34/150\n",
      "904/904 [==============================] - 2s 3ms/step - loss: -2520221.2500 - binary_accuracy: 4.3238e-06\n",
      "Epoch 35/150\n",
      "904/904 [==============================] - 2s 2ms/step - loss: -2520220.2500 - binary_accuracy: 4.3238e-06\n",
      "Epoch 36/150\n",
      "904/904 [==============================] - 3s 3ms/step - loss: -2520222.2500 - binary_accuracy: 4.3238e-06\n",
      "Epoch 37/150\n",
      "904/904 [==============================] - 2s 3ms/step - loss: -2520223.5000 - binary_accuracy: 4.3238e-06\n",
      "Epoch 38/150\n",
      "904/904 [==============================] - 2s 3ms/step - loss: -2520224.2500 - binary_accuracy: 4.3238e-06\n",
      "Epoch 39/150\n",
      "904/904 [==============================] - 2s 2ms/step - loss: -2520222.2500 - binary_accuracy: 4.3238e-06\n",
      "Epoch 40/150\n",
      "904/904 [==============================] - 2s 2ms/step - loss: -2520223.2500 - binary_accuracy: 4.3238e-06\n",
      "Epoch 41/150\n",
      "904/904 [==============================] - 3s 3ms/step - loss: -2520221.2500 - binary_accuracy: 4.3238e-06\n",
      "Epoch 42/150\n",
      "904/904 [==============================] - 2s 2ms/step - loss: -2520220.5000 - binary_accuracy: 4.3238e-06\n",
      "Epoch 43/150\n",
      "904/904 [==============================] - 2s 3ms/step - loss: -2520221.7500 - binary_accuracy: 4.3238e-06\n",
      "Epoch 44/150\n",
      "904/904 [==============================] - 2s 2ms/step - loss: -2520223.5000 - binary_accuracy: 4.3238e-06\n",
      "Epoch 45/150\n",
      "904/904 [==============================] - 2s 2ms/step - loss: -2520220.7500 - binary_accuracy: 4.3238e-06\n",
      "Epoch 46/150\n",
      "904/904 [==============================] - 2s 3ms/step - loss: -2520222.0000 - binary_accuracy: 4.3238e-06\n",
      "Epoch 47/150\n",
      "904/904 [==============================] - 2s 3ms/step - loss: -2520223.2500 - binary_accuracy: 4.3238e-06\n",
      "Epoch 48/150\n",
      "904/904 [==============================] - 3s 3ms/step - loss: -2520222.2500 - binary_accuracy: 4.3238e-06\n",
      "Epoch 49/150\n",
      "904/904 [==============================] - 3s 3ms/step - loss: -2520223.2500 - binary_accuracy: 4.3238e-06\n",
      "Epoch 50/150\n",
      "904/904 [==============================] - 2s 3ms/step - loss: -2520220.7500 - binary_accuracy: 4.3238e-06\n",
      "Epoch 51/150\n",
      "904/904 [==============================] - 2s 3ms/step - loss: -2520222.7500 - binary_accuracy: 4.3238e-06\n",
      "Epoch 52/150\n",
      "904/904 [==============================] - 3s 3ms/step - loss: -2520220.5000 - binary_accuracy: 4.3238e-06\n",
      "Epoch 53/150\n",
      "904/904 [==============================] - 2s 3ms/step - loss: -2520221.2500 - binary_accuracy: 4.3238e-06\n",
      "Epoch 54/150\n",
      "904/904 [==============================] - 3s 3ms/step - loss: -2520223.7500 - binary_accuracy: 4.3238e-06\n",
      "Epoch 55/150\n",
      "904/904 [==============================] - 3s 3ms/step - loss: -2520222.7500 - binary_accuracy: 4.3238e-06\n",
      "Epoch 56/150\n",
      "904/904 [==============================] - 3s 3ms/step - loss: -2520223.7500 - binary_accuracy: 4.3238e-06\n",
      "Epoch 57/150\n",
      "904/904 [==============================] - 2s 2ms/step - loss: -2520221.5000 - binary_accuracy: 4.3238e-06\n",
      "Epoch 58/150\n",
      "904/904 [==============================] - 2s 2ms/step - loss: -2520220.7500 - binary_accuracy: 4.3238e-06\n",
      "Epoch 59/150\n",
      "904/904 [==============================] - 2s 2ms/step - loss: -2520222.0000 - binary_accuracy: 4.3238e-06\n",
      "Epoch 60/150\n",
      "904/904 [==============================] - 2s 2ms/step - loss: -2520221.5000 - binary_accuracy: 4.3238e-06\n",
      "Epoch 61/150\n",
      "904/904 [==============================] - 2s 3ms/step - loss: -2520222.5000 - binary_accuracy: 4.3238e-06\n",
      "Epoch 62/150\n",
      "904/904 [==============================] - 3s 3ms/step - loss: -2520221.7500 - binary_accuracy: 4.3238e-06\n",
      "Epoch 63/150\n",
      "904/904 [==============================] - 2s 2ms/step - loss: -2520222.2500 - binary_accuracy: 4.3238e-06\n",
      "Epoch 64/150\n",
      "904/904 [==============================] - 2s 2ms/step - loss: -2520220.5000 - binary_accuracy: 4.3238e-06\n",
      "Epoch 65/150\n",
      "904/904 [==============================] - 2s 2ms/step - loss: -2520221.7500 - binary_accuracy: 4.3238e-06\n",
      "Epoch 66/150\n",
      "904/904 [==============================] - 2s 3ms/step - loss: -2520223.2500 - binary_accuracy: 4.3238e-06\n",
      "Epoch 67/150\n",
      "904/904 [==============================] - 2s 2ms/step - loss: -2520223.5000 - binary_accuracy: 4.3238e-06\n",
      "Epoch 68/150\n",
      "904/904 [==============================] - 3s 3ms/step - loss: -2520221.7500 - binary_accuracy: 4.3238e-06\n",
      "Epoch 69/150\n",
      "904/904 [==============================] - 2s 3ms/step - loss: -2520222.2500 - binary_accuracy: 4.3238e-06\n",
      "Epoch 70/150\n",
      "904/904 [==============================] - 3s 3ms/step - loss: -2520221.7500 - binary_accuracy: 4.3238e-06\n",
      "Epoch 71/150\n",
      "904/904 [==============================] - 2s 3ms/step - loss: -2520221.2500 - binary_accuracy: 4.3238e-06\n",
      "Epoch 72/150\n",
      "904/904 [==============================] - 2s 3ms/step - loss: -2520221.5000 - binary_accuracy: 4.3238e-06\n",
      "Epoch 73/150\n",
      "904/904 [==============================] - 2s 3ms/step - loss: -2520224.0000 - binary_accuracy: 4.3238e-06\n",
      "Epoch 74/150\n",
      "904/904 [==============================] - 2s 3ms/step - loss: -2520220.7500 - binary_accuracy: 4.3238e-06\n",
      "Epoch 75/150\n",
      "904/904 [==============================] - 3s 3ms/step - loss: -2520221.5000 - binary_accuracy: 4.3238e-06\n",
      "Epoch 76/150\n",
      "904/904 [==============================] - 3s 3ms/step - loss: -2520223.5000 - binary_accuracy: 4.3238e-06\n",
      "Epoch 77/150\n",
      "904/904 [==============================] - 2s 3ms/step - loss: -2520222.0000 - binary_accuracy: 4.3238e-06\n",
      "Epoch 78/150\n",
      "904/904 [==============================] - 2s 3ms/step - loss: -2520222.5000 - binary_accuracy: 4.3238e-06\n",
      "Epoch 79/150\n",
      "904/904 [==============================] - 3s 3ms/step - loss: -2520222.2500 - binary_accuracy: 4.3238e-06\n",
      "Epoch 80/150\n",
      "904/904 [==============================] - 2s 3ms/step - loss: -2520221.7500 - binary_accuracy: 4.3238e-06\n",
      "Epoch 81/150\n",
      "904/904 [==============================] - 3s 3ms/step - loss: -2520222.7500 - binary_accuracy: 4.3238e-06\n",
      "Epoch 82/150\n",
      "904/904 [==============================] - 2s 2ms/step - loss: -2520220.7500 - binary_accuracy: 4.3238e-06\n",
      "Epoch 83/150\n",
      "904/904 [==============================] - 2s 3ms/step - loss: -2520221.7500 - binary_accuracy: 4.3238e-06\n",
      "Epoch 84/150\n",
      "904/904 [==============================] - 2s 2ms/step - loss: -2520220.2500 - binary_accuracy: 4.3238e-06\n",
      "Epoch 85/150\n",
      "904/904 [==============================] - 2s 2ms/step - loss: -2520222.0000 - binary_accuracy: 4.3238e-06\n",
      "Epoch 86/150\n",
      "904/904 [==============================] - 2s 2ms/step - loss: -2520221.2500 - binary_accuracy: 4.3238e-06\n",
      "Epoch 87/150\n",
      "904/904 [==============================] - 2s 2ms/step - loss: -2520222.5000 - binary_accuracy: 4.3238e-06\n",
      "Epoch 88/150\n",
      "904/904 [==============================] - 2s 3ms/step - loss: -2520221.5000 - binary_accuracy: 4.3238e-06\n",
      "Epoch 89/150\n",
      "904/904 [==============================] - 3s 3ms/step - loss: -2520225.5000 - binary_accuracy: 4.3238e-06\n",
      "Epoch 90/150\n",
      "904/904 [==============================] - 2s 2ms/step - loss: -2520223.7500 - binary_accuracy: 4.3238e-06\n",
      "Epoch 91/150\n",
      "904/904 [==============================] - 2s 2ms/step - loss: -2520223.2500 - binary_accuracy: 4.3238e-06\n",
      "Epoch 92/150\n",
      "904/904 [==============================] - 2s 2ms/step - loss: -2520221.2500 - binary_accuracy: 4.3238e-06\n",
      "Epoch 93/150\n",
      "904/904 [==============================] - 2s 3ms/step - loss: -2520220.7500 - binary_accuracy: 4.3238e-06\n",
      "Epoch 94/150\n",
      "904/904 [==============================] - 2s 2ms/step - loss: -2520220.5000 - binary_accuracy: 4.3238e-06\n",
      "Epoch 95/150\n",
      "904/904 [==============================] - 3s 3ms/step - loss: -2520222.2500 - binary_accuracy: 4.3238e-06\n",
      "Epoch 96/150\n",
      "904/904 [==============================] - 3s 3ms/step - loss: -2520224.0000 - binary_accuracy: 4.3238e-06\n",
      "Epoch 97/150\n",
      "904/904 [==============================] - 3s 3ms/step - loss: -2520226.0000 - binary_accuracy: 4.3238e-06\n",
      "Epoch 98/150\n",
      "904/904 [==============================] - 2s 3ms/step - loss: -2520223.7500 - binary_accuracy: 4.3238e-06\n",
      "Epoch 99/150\n",
      "904/904 [==============================] - 2s 3ms/step - loss: -2520223.2500 - binary_accuracy: 4.3238e-06\n",
      "Epoch 100/150\n",
      "904/904 [==============================] - 2s 3ms/step - loss: -2520220.7500 - binary_accuracy: 4.3238e-06\n",
      "Epoch 101/150\n",
      "904/904 [==============================] - 2s 3ms/step - loss: -2520222.2500 - binary_accuracy: 4.3238e-06\n",
      "Epoch 102/150\n",
      "904/904 [==============================] - 3s 4ms/step - loss: -2520222.7500 - binary_accuracy: 4.3238e-06\n",
      "Epoch 103/150\n",
      "904/904 [==============================] - 3s 3ms/step - loss: -2520221.7500 - binary_accuracy: 4.3238e-06\n",
      "Epoch 104/150\n",
      "904/904 [==============================] - 2s 3ms/step - loss: -2520221.2500 - binary_accuracy: 4.3238e-06\n",
      "Epoch 105/150\n",
      "904/904 [==============================] - 2s 3ms/step - loss: -2520224.2500 - binary_accuracy: 4.3238e-06\n",
      "Epoch 106/150\n",
      "904/904 [==============================] - 3s 3ms/step - loss: -2520222.0000 - binary_accuracy: 4.3238e-06\n",
      "Epoch 107/150\n",
      "904/904 [==============================] - 3s 3ms/step - loss: -2520222.0000 - binary_accuracy: 4.3238e-06\n",
      "Epoch 108/150\n",
      "904/904 [==============================] - 2s 3ms/step - loss: -2520222.7500 - binary_accuracy: 4.3238e-06\n",
      "Epoch 109/150\n",
      "904/904 [==============================] - 2s 2ms/step - loss: -2520222.2500 - binary_accuracy: 4.3238e-06\n",
      "Epoch 110/150\n",
      "904/904 [==============================] - 2s 3ms/step - loss: -2520221.7500 - binary_accuracy: 4.3238e-06\n",
      "Epoch 111/150\n",
      "904/904 [==============================] - 2s 2ms/step - loss: -2520222.7500 - binary_accuracy: 4.3238e-06\n",
      "Epoch 112/150\n",
      "904/904 [==============================] - 2s 2ms/step - loss: -2520223.2500 - binary_accuracy: 4.3238e-06\n",
      "Epoch 113/150\n",
      "904/904 [==============================] - 2s 2ms/step - loss: -2520223.7500 - binary_accuracy: 4.3238e-06\n",
      "Epoch 114/150\n",
      "904/904 [==============================] - 2s 2ms/step - loss: -2520222.2500 - binary_accuracy: 4.3238e-06\n",
      "Epoch 115/150\n",
      "904/904 [==============================] - 2s 3ms/step - loss: -2520222.2500 - binary_accuracy: 4.3238e-06\n",
      "Epoch 116/150\n",
      "904/904 [==============================] - 3s 3ms/step - loss: -2520223.2500 - binary_accuracy: 4.3238e-06\n",
      "Epoch 117/150\n",
      "904/904 [==============================] - 3s 3ms/step - loss: -2520222.5000 - binary_accuracy: 4.3238e-06\n",
      "Epoch 118/150\n",
      "904/904 [==============================] - 2s 2ms/step - loss: -2520219.5000 - binary_accuracy: 4.3238e-06\n",
      "Epoch 119/150\n",
      "904/904 [==============================] - 2s 3ms/step - loss: -2520221.5000 - binary_accuracy: 4.3238e-06\n",
      "Epoch 120/150\n",
      "904/904 [==============================] - 3s 3ms/step - loss: -2520222.0000 - binary_accuracy: 4.3238e-06\n",
      "Epoch 121/150\n",
      "904/904 [==============================] - 3s 3ms/step - loss: -2520223.2500 - binary_accuracy: 4.3238e-06\n",
      "Epoch 122/150\n",
      "904/904 [==============================] - 2s 3ms/step - loss: -2520222.5000 - binary_accuracy: 4.3238e-06\n",
      "Epoch 123/150\n",
      "904/904 [==============================] - 2s 3ms/step - loss: -2520222.7500 - binary_accuracy: 4.3238e-06\n",
      "Epoch 124/150\n",
      "904/904 [==============================] - 3s 3ms/step - loss: -2520221.5000 - binary_accuracy: 4.3238e-06\n",
      "Epoch 125/150\n",
      "904/904 [==============================] - 2s 3ms/step - loss: -2520221.5000 - binary_accuracy: 4.3238e-06\n",
      "Epoch 126/150\n",
      "904/904 [==============================] - 2s 3ms/step - loss: -2520220.5000 - binary_accuracy: 4.3238e-06\n",
      "Epoch 127/150\n",
      "904/904 [==============================] - 2s 3ms/step - loss: -2520220.2500 - binary_accuracy: 4.3238e-06\n",
      "Epoch 128/150\n",
      "904/904 [==============================] - 3s 3ms/step - loss: -2520221.2500 - binary_accuracy: 4.3238e-06\n",
      "Epoch 129/150\n",
      "904/904 [==============================] - 3s 3ms/step - loss: -2520222.0000 - binary_accuracy: 4.3238e-06\n",
      "Epoch 130/150\n",
      "904/904 [==============================] - 3s 4ms/step - loss: -2520224.7500 - binary_accuracy: 4.3238e-06\n",
      "Epoch 131/150\n",
      "904/904 [==============================] - 2s 3ms/step - loss: -2520221.7500 - binary_accuracy: 4.3238e-06\n",
      "Epoch 132/150\n",
      "904/904 [==============================] - 2s 3ms/step - loss: -2520222.0000 - binary_accuracy: 4.3238e-06\n",
      "Epoch 133/150\n",
      "904/904 [==============================] - 2s 3ms/step - loss: -2520222.7500 - binary_accuracy: 4.3238e-06\n",
      "Epoch 134/150\n",
      "904/904 [==============================] - 3s 3ms/step - loss: -2520223.5000 - binary_accuracy: 4.3238e-06\n",
      "Epoch 135/150\n",
      "904/904 [==============================] - 2s 2ms/step - loss: -2520222.2500 - binary_accuracy: 4.3238e-06\n",
      "Epoch 136/150\n",
      "904/904 [==============================] - 2s 2ms/step - loss: -2520222.7500 - binary_accuracy: 4.3238e-06\n",
      "Epoch 137/150\n",
      "904/904 [==============================] - 2s 3ms/step - loss: -2520222.7500 - binary_accuracy: 4.3238e-06\n",
      "Epoch 138/150\n",
      "904/904 [==============================] - 2s 2ms/step - loss: -2520222.0000 - binary_accuracy: 4.3238e-06\n",
      "Epoch 139/150\n",
      "904/904 [==============================] - 2s 2ms/step - loss: -2520222.7500 - binary_accuracy: 4.3238e-06\n",
      "Epoch 140/150\n",
      "904/904 [==============================] - 2s 2ms/step - loss: -2520221.5000 - binary_accuracy: 4.3238e-06\n",
      "Epoch 141/150\n",
      "904/904 [==============================] - 2s 2ms/step - loss: -2520221.5000 - binary_accuracy: 4.3238e-06\n",
      "Epoch 142/150\n",
      "904/904 [==============================] - 2s 3ms/step - loss: -2520222.0000 - binary_accuracy: 4.3238e-06\n",
      "Epoch 143/150\n",
      "904/904 [==============================] - 2s 2ms/step - loss: -2520222.7500 - binary_accuracy: 4.3238e-06\n",
      "Epoch 144/150\n",
      "904/904 [==============================] - 3s 3ms/step - loss: -2520221.2500 - binary_accuracy: 4.3238e-06\n",
      "Epoch 145/150\n",
      "904/904 [==============================] - 3s 4ms/step - loss: -2520222.0000 - binary_accuracy: 4.3238e-06\n",
      "Epoch 146/150\n",
      "904/904 [==============================] - 3s 3ms/step - loss: -2520224.0000 - binary_accuracy: 4.3238e-06\n",
      "Epoch 147/150\n",
      "904/904 [==============================] - 3s 3ms/step - loss: -2520221.2500 - binary_accuracy: 4.3238e-06\n",
      "Epoch 148/150\n",
      "904/904 [==============================] - 3s 3ms/step - loss: -2520222.7500 - binary_accuracy: 4.3238e-06\n",
      "Epoch 149/150\n",
      "904/904 [==============================] - 2s 3ms/step - loss: -2520222.7500 - binary_accuracy: 4.3238e-06\n",
      "Epoch 150/150\n",
      "904/904 [==============================] - 3s 3ms/step - loss: -2520220.7500 - binary_accuracy: 4.3238e-06\n"
     ]
    }
   ],
   "source": [
    "model = tf.keras.Sequential([\n",
    "      tf.keras.layers.Dense(units=80,activation='relu',name = 'input_layer'),\n",
    "      tf.keras.layers.Dense(units=60,activation='relu',name = 'dense_layer1'),\n",
    "      tf.keras.layers.Dense(units=40,activation='relu',name = 'dense_layer2'),\n",
    "      tf.keras.layers.Dense(units=1,name='Output_layer')\n",
    "],name='Model') \n",
    "\n",
    "\n",
    "        \n",
    "model.compile(\n",
    "    optimizer='adam',\n",
    "    loss='binary_crossentropy',       \n",
    "    metrics=['binary_accuracy'],\n",
    ")\n",
    "\n",
    "\n",
    "history = model.fit(X_train,y_train,batch_size=256,\n",
    "    epochs=150,\n",
    "\n",
    "                   )"
   ]
  },
  {
   "cell_type": "code",
   "execution_count": 30,
   "id": "cf7c155d",
   "metadata": {
    "execution": {
     "iopub.execute_input": "2022-05-14T07:01:57.492444Z",
     "iopub.status.busy": "2022-05-14T07:01:57.492082Z",
     "iopub.status.idle": "2022-05-14T07:02:00.136848Z",
     "shell.execute_reply": "2022-05-14T07:02:00.136139Z"
    },
    "papermill": {
     "duration": 4.99283,
     "end_time": "2022-05-14T07:02:00.138874",
     "exception": false,
     "start_time": "2022-05-14T07:01:55.146044",
     "status": "completed"
    },
    "tags": []
   },
   "outputs": [
    {
     "data": {
      "text/plain": [
       "array([[ 7691.328],\n",
       "       [ 7489.811],\n",
       "       [32374.734],\n",
       "       ...,\n",
       "       [35860.977],\n",
       "       [26693.572],\n",
       "       [12200.068]], dtype=float32)"
      ]
     },
     "execution_count": 30,
     "metadata": {},
     "output_type": "execute_result"
    }
   ],
   "source": [
    "y_pred = model.predict(X_test)\n",
    "y_pred"
   ]
  },
  {
   "cell_type": "code",
   "execution_count": 31,
   "id": "2faafeb5",
   "metadata": {
    "execution": {
     "iopub.execute_input": "2022-05-14T07:02:05.704893Z",
     "iopub.status.busy": "2022-05-14T07:02:05.704294Z",
     "iopub.status.idle": "2022-05-14T07:02:05.908320Z",
     "shell.execute_reply": "2022-05-14T07:02:05.907572Z"
    },
    "papermill": {
     "duration": 3.12971,
     "end_time": "2022-05-14T07:02:05.910471",
     "exception": false,
     "start_time": "2022-05-14T07:02:02.780761",
     "status": "completed"
    },
    "tags": []
   },
   "outputs": [
    {
     "data": {
      "text/plain": [
       "<AxesSubplot:>"
      ]
     },
     "execution_count": 31,
     "metadata": {},
     "output_type": "execute_result"
    },
    {
     "data": {
      "image/png": "[encoded data removed]",
      "text/plain": [
       "<Figure size 640x480 with 1 Axes>"
      ]
     },
     "metadata": {},
     "output_type": "display_data"
    }
   ],
   "source": [
    "# convert the training history to a dataframe\n",
    "history_df = pd.DataFrame(history.history)\n",
    "# use Pandas native plot method\n",
    "history_df['loss'].plot()"
   ]
  },
  {
   "cell_type": "code",
   "execution_count": 32,
   "id": "42f4db36",
   "metadata": {
    "execution": {
     "iopub.execute_input": "2022-05-14T07:02:10.578939Z",
     "iopub.status.busy": "2022-05-14T07:02:10.578574Z",
     "iopub.status.idle": "2022-05-14T07:02:11.502829Z",
     "shell.execute_reply": "2022-05-14T07:02:11.502049Z"
    },
    "papermill": {
     "duration": 3.253503,
     "end_time": "2022-05-14T07:02:11.505104",
     "exception": false,
     "start_time": "2022-05-14T07:02:08.251601",
     "status": "completed"
    },
    "tags": []
   },
   "outputs": [
    {
     "data": {
      "image/png": "[encoded data removed]",
      "text/plain": [
       "<IPython.core.display.Image object>"
      ]
     },
     "execution_count": 32,
     "metadata": {},
     "output_type": "execute_result"
    }
   ],
   "source": [
    "plot_model(model, show_shapes = True)"
   ]
  },
  {
   "cell_type": "code",
   "execution_count": 33,
   "id": "c5ce8a38",
   "metadata": {
    "execution": {
     "iopub.execute_input": "2022-05-14T07:02:16.681395Z",
     "iopub.status.busy": "2022-05-14T07:02:16.681083Z",
     "iopub.status.idle": "2022-05-14T07:02:17.079251Z",
     "shell.execute_reply": "2022-05-14T07:02:17.078434Z"
    },
    "papermill": {
     "duration": 2.858794,
     "end_time": "2022-05-14T07:02:17.081603",
     "exception": false,
     "start_time": "2022-05-14T07:02:14.222809",
     "status": "completed"
    },
    "tags": []
   },
   "outputs": [
    {
     "name": "stdout",
     "output_type": "stream",
     "text": [
      "Best Validation Loss: -2520226.0000\n",
      "Best Validation Accuracy: 0.0000\n"
     ]
    },
    {
     "data": {
      "image/png": "[encoded data removed]",
      "text/plain": [
       "<Figure size 640x480 with 1 Axes>"
      ]
     },
     "metadata": {},
     "output_type": "display_data"
    },
    {
     "data": {
      "image/png": "[encoded data removed]",
      "text/plain": [
       "<Figure size 640x480 with 1 Axes>"
      ]
     },
     "metadata": {},
     "output_type": "display_data"
    }
   ],
   "source": [
    "history_df = pd.DataFrame(history.history)\n",
    "# Start the plot at epoch 5\n",
    "history_df.loc[5:, ['loss']].plot()\n",
    "history_df.loc[5:, ['binary_accuracy']].plot()\n",
    "print((\"Best Validation Loss: {:0.4f}\" +\\\n",
    "      \"\\nBest Validation Accuracy: {:0.4f}\")\\\n",
    "      .format(history_df['loss'].min(), \n",
    "              history_df['binary_accuracy'].max()))"
   ]
  },
  {
   "cell_type": "code",
   "execution_count": 34,
   "id": "9c4bef4c",
   "metadata": {
    "execution": {
     "iopub.execute_input": "2022-05-14T07:02:21.850811Z",
     "iopub.status.busy": "2022-05-14T07:02:21.850533Z",
     "iopub.status.idle": "2022-05-14T07:02:21.855225Z",
     "shell.execute_reply": "2022-05-14T07:02:21.854425Z"
    },
    "papermill": {
     "duration": 2.448516,
     "end_time": "2022-05-14T07:02:21.857081",
     "exception": false,
     "start_time": "2022-05-14T07:02:19.408565",
     "status": "completed"
    },
    "tags": []
   },
   "outputs": [],
   "source": [
    "early_stopping = EarlyStopping(\n",
    "    min_delta=0.001, # minimium amount of change to count as an improvement\n",
    "    patience=20, # how many epochs to wait before stopping\n",
    "    restore_best_weights=True,\n",
    ")"
   ]
  },
  {
   "cell_type": "code",
   "execution_count": 35,
   "id": "71462523",
   "metadata": {
    "execution": {
     "iopub.execute_input": "2022-05-14T07:02:27.396519Z",
     "iopub.status.busy": "2022-05-14T07:02:27.396010Z",
     "iopub.status.idle": "2022-05-14T07:02:33.132557Z",
     "shell.execute_reply": "2022-05-14T07:02:33.131677Z"
    },
    "papermill": {
     "duration": 8.36901,
     "end_time": "2022-05-14T07:02:33.134585",
     "exception": false,
     "start_time": "2022-05-14T07:02:24.765575",
     "status": "completed"
    },
    "tags": []
   },
   "outputs": [
    {
     "name": "stdout",
     "output_type": "stream",
     "text": [
      "3098/3098 [==============================] - 6s 2ms/step - loss: -2516485.5000 - binary_accuracy: 0.0000e+00\n"
     ]
    },
    {
     "data": {
      "text/plain": [
       "[-2516485.5, 0.0]"
      ]
     },
     "execution_count": 35,
     "metadata": {},
     "output_type": "execute_result"
    }
   ],
   "source": [
    "model.evaluate(X_test,y_test)"
   ]
  },
  {
   "cell_type": "markdown",
   "id": "3430796b",
   "metadata": {
    "papermill": {
     "duration": 2.660199,
     "end_time": "2022-05-14T07:02:39.361815",
     "exception": false,
     "start_time": "2022-05-14T07:02:36.701616",
     "status": "completed"
    },
    "tags": []
   },
   "source": [
    "# Thank you."
   ]
  }
 ],
 "metadata": {
  "kernelspec": {
   "display_name": "Python 3",
   "language": "python",
   "name": "python3"
  },
  "language_info": {
   "codemirror_mode": {
    "name": "ipython",
    "version": 3
   },
   "file_extension": ".py",
   "mimetype": "text/x-python",
   "name": "python",
   "nbconvert_exporter": "python",
   "pygments_lexer": "ipython3",
   "version": "3.7.12"
  },
  "papermill": {
   "default_parameters": {},
   "duration": 460.257922,
   "end_time": "2022-05-14T07:02:45.279720",
   "environment_variables": {},
   "exception": null,
   "input_path": "__notebook__.ipynb",
   "output_path": "__notebook__.ipynb",
   "parameters": {},
   "start_time": "2022-05-14T06:55:05.021798",
   "version": "2.3.4"
  }
 },
 "nbformat": 4,
 "nbformat_minor": 5
}
