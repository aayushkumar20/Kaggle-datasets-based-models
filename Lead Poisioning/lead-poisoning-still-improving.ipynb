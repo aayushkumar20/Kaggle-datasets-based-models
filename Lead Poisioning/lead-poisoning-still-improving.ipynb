{
 "cells": [
  {
   "cell_type": "code",
   "execution_count": 1,
   "id": "f80bfe47",
   "metadata": {
    "_cell_guid": "b1076dfc-b9ad-4769-8c92-a6c4dae69d19",
    "_uuid": "8f2839f25d086af736a60e9eeb907d3b93b6e0e5",
    "execution": {
     "iopub.execute_input": "2022-03-19T18:46:26.109663Z",
     "iopub.status.busy": "2022-03-19T18:46:26.108136Z",
     "iopub.status.idle": "2022-03-19T18:46:26.124333Z",
     "shell.execute_reply": "2022-03-19T18:46:26.123752Z",
     "shell.execute_reply.started": "2022-03-19T18:15:17.160741Z"
    },
    "papermill": {
     "duration": 0.035414,
     "end_time": "2022-03-19T18:46:26.124471",
     "exception": false,
     "start_time": "2022-03-19T18:46:26.089057",
     "status": "completed"
    },
    "tags": []
   },
   "outputs": [
    {
     "name": "stdout",
     "output_type": "stream",
     "text": [
      "/kaggle/input/lead-poisioning/lead-blood-usa-children.csv\n",
      "/kaggle/input/lead-poisioning/legal-controls-lead-paint.csv\n"
     ]
    }
   ],
   "source": [
    "# This Python 3 environment comes with many helpful analytics libraries installed\n",
    "# It is defined by the kaggle/python Docker image: https://github.com/kaggle/docker-python\n",
    "# For example, here's several helpful packages to load\n",
    "\n",
    "import numpy as np # linear algebra\n",
    "import pandas as pd # data processing, CSV file I/O (e.g. pd.read_csv)\n",
    "\n",
    "# Input data files are available in the read-only \"../input/\" directory\n",
    "# For example, running this (by clicking run or pressing Shift+Enter) will list all files under the input directory\n",
    "\n",
    "import os\n",
    "for dirname, _, filenames in os.walk('/kaggle/input'):\n",
    "    for filename in filenames:\n",
    "        print(os.path.join(dirname, filename))\n",
    "\n",
    "# You can write up to 20GB to the current directory (/kaggle/working/) that gets preserved as output when you create a version using \"Save & Run All\" \n",
    "# You can also write temporary files to /kaggle/temp/, but they won't be saved outside of the current session"
   ]
  },
  {
   "cell_type": "markdown",
   "id": "691917e8",
   "metadata": {
    "papermill": {
     "duration": 0.014107,
     "end_time": "2022-03-19T18:46:26.153667",
     "exception": false,
     "start_time": "2022-03-19T18:46:26.139560",
     "status": "completed"
    },
    "tags": []
   },
   "source": [
    "# importing all required modules."
   ]
  },
  {
   "cell_type": "code",
   "execution_count": 2,
   "id": "1b95ce3f",
   "metadata": {
    "execution": {
     "iopub.execute_input": "2022-03-19T18:46:26.187402Z",
     "iopub.status.busy": "2022-03-19T18:46:26.186717Z",
     "iopub.status.idle": "2022-03-19T18:46:29.554613Z",
     "shell.execute_reply": "2022-03-19T18:46:29.555681Z",
     "shell.execute_reply.started": "2022-03-19T18:40:00.836778Z"
    },
    "papermill": {
     "duration": 3.388348,
     "end_time": "2022-03-19T18:46:29.555914",
     "exception": false,
     "start_time": "2022-03-19T18:46:26.167566",
     "status": "completed"
    },
    "tags": []
   },
   "outputs": [
    {
     "data": {
      "text/html": [
       "        <script type=\"text/javascript\">\n",
       "        window.PlotlyConfig = {MathJaxConfig: 'local'};\n",
       "        if (window.MathJax) {MathJax.Hub.Config({SVG: {font: \"STIX-Web\"}});}\n",
       "        if (typeof require !== 'undefined') {\n",
       "        require.undef(\"plotly\");\n",
       "        requirejs.config({\n",
       "            paths: {\n",
       "                'plotly': ['https://cdn.plot.ly/plotly-2.9.0.min']\n",
       "            }\n",
       "        });\n",
       "        require(['plotly'], function(Plotly) {\n",
       "            window._Plotly = Plotly;\n",
       "        });\n",
       "        }\n",
       "        </script>\n",
       "        "
      ]
     },
     "metadata": {},
     "output_type": "display_data"
    }
   ],
   "source": [
    "import plotly as py\n",
    "import plotly.express as px\n",
    "import plotly.graph_objs as go\n",
    "from plotly.subplots import make_subplots\n",
    "from plotly.offline import download_plotlyjs, init_notebook_mode, plot, iplot\n",
    "init_notebook_mode(connected=True)\n",
    "import matplotlib.pyplot as plt\n",
    "import seaborn as sns\n",
    "from sklearn.metrics import confusion_matrix,classification_report\n",
    "from sklearn.linear_model import LogisticRegression\n",
    "from sklearn.ensemble import RandomForestClassifier\n",
    "from sklearn.svm import SVC\n",
    "from sklearn.preprocessing import StandardScaler\n",
    "from sklearn.model_selection import train_test_split\n",
    "import scipy"
   ]
  },
  {
   "cell_type": "markdown",
   "id": "5d2ad728",
   "metadata": {
    "papermill": {
     "duration": 0.025075,
     "end_time": "2022-03-19T18:46:29.607302",
     "exception": false,
     "start_time": "2022-03-19T18:46:29.582227",
     "status": "completed"
    },
    "tags": []
   },
   "source": [
    "# Importing both (.csv) files in the runtime environment. "
   ]
  },
  {
   "cell_type": "code",
   "execution_count": 3,
   "id": "b82e7f57",
   "metadata": {
    "execution": {
     "iopub.execute_input": "2022-03-19T18:46:29.662595Z",
     "iopub.status.busy": "2022-03-19T18:46:29.661823Z",
     "iopub.status.idle": "2022-03-19T18:46:29.696240Z",
     "shell.execute_reply": "2022-03-19T18:46:29.697152Z",
     "shell.execute_reply.started": "2022-03-19T18:28:03.228189Z"
    },
    "papermill": {
     "duration": 0.06491,
     "end_time": "2022-03-19T18:46:29.697361",
     "exception": false,
     "start_time": "2022-03-19T18:46:29.632451",
     "status": "completed"
    },
    "tags": []
   },
   "outputs": [
    {
     "name": "stdout",
     "output_type": "stream",
     "text": [
      "             Entity  Code  Year  Blood lead concentration (1-5 year olds)\n",
      "0   95th percentile   NaN  1978                                      29.0\n",
      "1   95th percentile   NaN  1990                                      12.0\n",
      "2   95th percentile   NaN  1993                                       9.7\n",
      "3   95th percentile   NaN  2000                                       7.0\n",
      "4   95th percentile   NaN  2002                                       5.8\n",
      "5   95th percentile   NaN  2004                                       5.1\n",
      "6   95th percentile   NaN  2006                                       3.8\n",
      "7   95th percentile   NaN  2008                                       4.1\n",
      "8   95th percentile   NaN  2010                                       3.4\n",
      "9   95th percentile   NaN  2012                                       2.9\n",
      "10  95th percentile   NaN  2014                                       2.2\n",
      "11  95th percentile   NaN  2016                                       2.8\n",
      "12           Median   NaN  1978                                      15.0\n",
      "13           Median   NaN  1990                                       3.5\n",
      "14           Median   NaN  1993                                       2.6\n",
      "15           Median   NaN  2000                                       2.2\n",
      "16           Median   NaN  2002                                       1.6\n",
      "17           Median   NaN  2004                                       1.6\n",
      "18           Median   NaN  2006                                       1.4\n",
      "19           Median   NaN  2008                                       1.4\n",
      "20           Median   NaN  2010                                       1.2\n",
      "21           Median   NaN  2012                                       1.0\n",
      "22           Median   NaN  2014                                       0.7\n",
      "23           Median   NaN  2016                                       0.7\n",
      "            Entity Code  Year lead_paint_regulation\n",
      "0          Algeria  DZA  2021                   Yes\n",
      "1        Argentina  ARG  2021                   Yes\n",
      "2          Armenia  ARM  2021                   Yes\n",
      "3        Australia  AUS  2021                   Yes\n",
      "4          Austria  AUT  2021                   Yes\n",
      "..             ...  ...   ...                   ...\n",
      "78         Ukraine  UKR  2021                   Yes\n",
      "79  United Kingdom  GBR  2021                   Yes\n",
      "80   United States  USA  2021                   Yes\n",
      "81         Uruguay  URY  2021                   Yes\n",
      "82         Vietnam  VNM  2021                   Yes\n",
      "\n",
      "[83 rows x 4 columns]\n"
     ]
    }
   ],
   "source": [
    "lead_blood_in_usa = pd.read_csv(\"/kaggle/input/lead-poisioning/lead-blood-usa-children.csv\")\n",
    "legal_controls_lead_paint = pd.read_csv(\"/kaggle/input/lead-poisioning/legal-controls-lead-paint.csv\")\n",
    "print(lead_blood_in_usa)\n",
    "print(legal_controls_lead_paint)"
   ]
  },
  {
   "cell_type": "markdown",
   "id": "dca35d42",
   "metadata": {
    "papermill": {
     "duration": 0.02468,
     "end_time": "2022-03-19T18:46:29.746611",
     "exception": false,
     "start_time": "2022-03-19T18:46:29.721931",
     "status": "completed"
    },
    "tags": []
   },
   "source": [
    "### In the given dataset we came to know that there's only 23 rows in the \"lead_blood_in_usa\" dataset while there's 83 rows in the \"legal_controls_lead_paint\" dataset."
   ]
  },
  {
   "cell_type": "markdown",
   "id": "12dcc61b",
   "metadata": {
    "papermill": {
     "duration": 0.024724,
     "end_time": "2022-03-19T18:46:29.795115",
     "exception": false,
     "start_time": "2022-03-19T18:46:29.770391",
     "status": "completed"
    },
    "tags": []
   },
   "source": [
    "# Analysing the second dataset for more information and graphs."
   ]
  },
  {
   "cell_type": "code",
   "execution_count": 4,
   "id": "3aaf3c56",
   "metadata": {
    "execution": {
     "iopub.execute_input": "2022-03-19T18:46:29.830829Z",
     "iopub.status.busy": "2022-03-19T18:46:29.830266Z",
     "iopub.status.idle": "2022-03-19T18:46:29.916552Z",
     "shell.execute_reply": "2022-03-19T18:46:29.917033Z",
     "shell.execute_reply.started": "2022-03-19T18:28:07.339481Z"
    },
    "papermill": {
     "duration": 0.107076,
     "end_time": "2022-03-19T18:46:29.917187",
     "exception": false,
     "start_time": "2022-03-19T18:46:29.810111",
     "status": "completed"
    },
    "tags": []
   },
   "outputs": [
    {
     "data": {
      "application/vnd.plotly.v1+json": {
       "config": {
        "plotlyServerURL": "https://plot.ly"
       },
       "data": [
        {
         "colorscale": [
          [
           0.0,
           "rgb(247,251,255)"
          ],
          [
           0.125,
           "rgb(222,235,247)"
          ],
          [
           0.25,
           "rgb(198,219,239)"
          ],
          [
           0.375,
           "rgb(158,202,225)"
          ],
          [
           0.5,
           "rgb(107,174,214)"
          ],
          [
           0.625,
           "rgb(66,146,198)"
          ],
          [
           0.75,
           "rgb(33,113,181)"
          ],
          [
           0.875,
           "rgb(8,81,156)"
          ],
          [
           1.0,
           "rgb(8,48,107)"
          ]
         ],
         "locationmode": "country names",
         "locations": [
          "Algeria",
          "Argentina",
          "Armenia",
          "Australia",
          "Austria",
          "Bangladesh",
          "Belarus",
          "Belgium",
          "Brazil",
          "Bulgaria",
          "Cameroon",
          "Canada",
          "Chile",
          "China",
          "Colombia",
          "Costa Rica",
          "Croatia",
          "Cuba",
          "Cyprus",
          "Czechia",
          "Denmark",
          "Dominica",
          "Ecuador",
          "Estonia",
          "Ethiopia",
          "Finland",
          "France",
          "Georgia",
          "Germany",
          "Greece",
          "Guyana",
          "Hungary",
          "Iceland",
          "India",
          "Iraq",
          "Ireland",
          "Israel",
          "Italy",
          "Jordan",
          "Kazakhstan",
          "Kenya",
          "Kyrgyzstan",
          "Latvia",
          "Lebanon",
          "Liechtenstein",
          "Lithuania",
          "Luxembourg",
          "Malta",
          "Mexico",
          "Monaco",
          "Montenegro",
          "Morocco",
          "Nepal",
          "Netherlands",
          "New Zealand",
          "North Macedonia",
          "Norway",
          "Oman",
          "Pakistan",
          "Panama",
          "Peru",
          "Philippines",
          "Poland",
          "Portugal",
          "Qatar",
          "Romania",
          "Russia",
          "Serbia",
          "Slovakia",
          "Slovenia",
          "South Africa",
          "Spain",
          "Sri Lanka",
          "Sweden",
          "Switzerland",
          "Tanzania",
          "Thailand",
          "Trinidad and Tobago",
          "Ukraine",
          "United Kingdom",
          "United States",
          "Uruguay",
          "Vietnam"
         ],
         "marker": {
          "line": {
           "color": "black",
           "width": 0.5
          }
         },
         "type": "choropleth",
         "z": [
          2021,
          2021,
          2021,
          2021,
          2021,
          2021,
          2021,
          2021,
          2021,
          2021,
          2021,
          2021,
          2021,
          2021,
          2021,
          2021,
          2021,
          2021,
          2021,
          2021,
          2021,
          2021,
          2021,
          2021,
          2021,
          2021,
          2021,
          2021,
          2021,
          2021,
          2021,
          2021,
          2021,
          2021,
          2021,
          2021,
          2021,
          2021,
          2021,
          2021,
          2021,
          2021,
          2021,
          2021,
          2021,
          2021,
          2021,
          2021,
          2021,
          2021,
          2021,
          2021,
          2021,
          2021,
          2021,
          2021,
          2021,
          2021,
          2021,
          2021,
          2021,
          2021,
          2021,
          2021,
          2021,
          2021,
          2021,
          2021,
          2021,
          2021,
          2021,
          2021,
          2021,
          2021,
          2021,
          2021,
          2021,
          2021,
          2021,
          2021,
          2021,
          2021,
          2021
         ]
        }
       ],
       "layout": {
        "geo": {
         "showcoastlines": false,
         "showframe": false
        },
        "template": {
         "data": {
          "bar": [
           {
            "error_x": {
             "color": "#2a3f5f"
            },
            "error_y": {
             "color": "#2a3f5f"
            },
            "marker": {
             "line": {
              "color": "#E5ECF6",
              "width": 0.5
             },
             "pattern": {
              "fillmode": "overlay",
              "size": 10,
              "solidity": 0.2
             }
            },
            "type": "bar"
           }
          ],
          "barpolar": [
           {
            "marker": {
             "line": {
              "color": "#E5ECF6",
              "width": 0.5
             },
             "pattern": {
              "fillmode": "overlay",
              "size": 10,
              "solidity": 0.2
             }
            },
            "type": "barpolar"
           }
          ],
          "carpet": [
           {
            "aaxis": {
             "endlinecolor": "#2a3f5f",
             "gridcolor": "white",
             "linecolor": "white",
             "minorgridcolor": "white",
             "startlinecolor": "#2a3f5f"
            },
            "baxis": {
             "endlinecolor": "#2a3f5f",
             "gridcolor": "white",
             "linecolor": "white",
             "minorgridcolor": "white",
             "startlinecolor": "#2a3f5f"
            },
            "type": "carpet"
           }
          ],
          "choropleth": [
           {
            "colorbar": {
             "outlinewidth": 0,
             "ticks": ""
            },
            "type": "choropleth"
           }
          ],
          "contour": [
           {
            "colorbar": {
             "outlinewidth": 0,
             "ticks": ""
            },
            "colorscale": [
             [
              0.0,
              "#0d0887"
             ],
             [
              0.1111111111111111,
              "#46039f"
             ],
             [
              0.2222222222222222,
              "#7201a8"
             ],
             [
              0.3333333333333333,
              "#9c179e"
             ],
             [
              0.4444444444444444,
              "#bd3786"
             ],
             [
              0.5555555555555556,
              "#d8576b"
             ],
             [
              0.6666666666666666,
              "#ed7953"
             ],
             [
              0.7777777777777778,
              "#fb9f3a"
             ],
             [
              0.8888888888888888,
              "#fdca26"
             ],
             [
              1.0,
              "#f0f921"
             ]
            ],
            "type": "contour"
           }
          ],
          "contourcarpet": [
           {
            "colorbar": {
             "outlinewidth": 0,
             "ticks": ""
            },
            "type": "contourcarpet"
           }
          ],
          "heatmap": [
           {
            "colorbar": {
             "outlinewidth": 0,
             "ticks": ""
            },
            "colorscale": [
             [
              0.0,
              "#0d0887"
             ],
             [
              0.1111111111111111,
              "#46039f"
             ],
             [
              0.2222222222222222,
              "#7201a8"
             ],
             [
              0.3333333333333333,
              "#9c179e"
             ],
             [
              0.4444444444444444,
              "#bd3786"
             ],
             [
              0.5555555555555556,
              "#d8576b"
             ],
             [
              0.6666666666666666,
              "#ed7953"
             ],
             [
              0.7777777777777778,
              "#fb9f3a"
             ],
             [
              0.8888888888888888,
              "#fdca26"
             ],
             [
              1.0,
              "#f0f921"
             ]
            ],
            "type": "heatmap"
           }
          ],
          "heatmapgl": [
           {
            "colorbar": {
             "outlinewidth": 0,
             "ticks": ""
            },
            "colorscale": [
             [
              0.0,
              "#0d0887"
             ],
             [
              0.1111111111111111,
              "#46039f"
             ],
             [
              0.2222222222222222,
              "#7201a8"
             ],
             [
              0.3333333333333333,
              "#9c179e"
             ],
             [
              0.4444444444444444,
              "#bd3786"
             ],
             [
              0.5555555555555556,
              "#d8576b"
             ],
             [
              0.6666666666666666,
              "#ed7953"
             ],
             [
              0.7777777777777778,
              "#fb9f3a"
             ],
             [
              0.8888888888888888,
              "#fdca26"
             ],
             [
              1.0,
              "#f0f921"
             ]
            ],
            "type": "heatmapgl"
           }
          ],
          "histogram": [
           {
            "marker": {
             "pattern": {
              "fillmode": "overlay",
              "size": 10,
              "solidity": 0.2
             }
            },
            "type": "histogram"
           }
          ],
          "histogram2d": [
           {
            "colorbar": {
             "outlinewidth": 0,
             "ticks": ""
            },
            "colorscale": [
             [
              0.0,
              "#0d0887"
             ],
             [
              0.1111111111111111,
              "#46039f"
             ],
             [
              0.2222222222222222,
              "#7201a8"
             ],
             [
              0.3333333333333333,
              "#9c179e"
             ],
             [
              0.4444444444444444,
              "#bd3786"
             ],
             [
              0.5555555555555556,
              "#d8576b"
             ],
             [
              0.6666666666666666,
              "#ed7953"
             ],
             [
              0.7777777777777778,
              "#fb9f3a"
             ],
             [
              0.8888888888888888,
              "#fdca26"
             ],
             [
              1.0,
              "#f0f921"
             ]
            ],
            "type": "histogram2d"
           }
          ],
          "histogram2dcontour": [
           {
            "colorbar": {
             "outlinewidth": 0,
             "ticks": ""
            },
            "colorscale": [
             [
              0.0,
              "#0d0887"
             ],
             [
              0.1111111111111111,
              "#46039f"
             ],
             [
              0.2222222222222222,
              "#7201a8"
             ],
             [
              0.3333333333333333,
              "#9c179e"
             ],
             [
              0.4444444444444444,
              "#bd3786"
             ],
             [
              0.5555555555555556,
              "#d8576b"
             ],
             [
              0.6666666666666666,
              "#ed7953"
             ],
             [
              0.7777777777777778,
              "#fb9f3a"
             ],
             [
              0.8888888888888888,
              "#fdca26"
             ],
             [
              1.0,
              "#f0f921"
             ]
            ],
            "type": "histogram2dcontour"
           }
          ],
          "mesh3d": [
           {
            "colorbar": {
             "outlinewidth": 0,
             "ticks": ""
            },
            "type": "mesh3d"
           }
          ],
          "parcoords": [
           {
            "line": {
             "colorbar": {
              "outlinewidth": 0,
              "ticks": ""
             }
            },
            "type": "parcoords"
           }
          ],
          "pie": [
           {
            "automargin": true,
            "type": "pie"
           }
          ],
          "scatter": [
           {
            "marker": {
             "colorbar": {
              "outlinewidth": 0,
              "ticks": ""
             }
            },
            "type": "scatter"
           }
          ],
          "scatter3d": [
           {
            "line": {
             "colorbar": {
              "outlinewidth": 0,
              "ticks": ""
             }
            },
            "marker": {
             "colorbar": {
              "outlinewidth": 0,
              "ticks": ""
             }
            },
            "type": "scatter3d"
           }
          ],
          "scattercarpet": [
           {
            "marker": {
             "colorbar": {
              "outlinewidth": 0,
              "ticks": ""
             }
            },
            "type": "scattercarpet"
           }
          ],
          "scattergeo": [
           {
            "marker": {
             "colorbar": {
              "outlinewidth": 0,
              "ticks": ""
             }
            },
            "type": "scattergeo"
           }
          ],
          "scattergl": [
           {
            "marker": {
             "colorbar": {
              "outlinewidth": 0,
              "ticks": ""
             }
            },
            "type": "scattergl"
           }
          ],
          "scattermapbox": [
           {
            "marker": {
             "colorbar": {
              "outlinewidth": 0,
              "ticks": ""
             }
            },
            "type": "scattermapbox"
           }
          ],
          "scatterpolar": [
           {
            "marker": {
             "colorbar": {
              "outlinewidth": 0,
              "ticks": ""
             }
            },
            "type": "scatterpolar"
           }
          ],
          "scatterpolargl": [
           {
            "marker": {
             "colorbar": {
              "outlinewidth": 0,
              "ticks": ""
             }
            },
            "type": "scatterpolargl"
           }
          ],
          "scatterternary": [
           {
            "marker": {
             "colorbar": {
              "outlinewidth": 0,
              "ticks": ""
             }
            },
            "type": "scatterternary"
           }
          ],
          "surface": [
           {
            "colorbar": {
             "outlinewidth": 0,
             "ticks": ""
            },
            "colorscale": [
             [
              0.0,
              "#0d0887"
             ],
             [
              0.1111111111111111,
              "#46039f"
             ],
             [
              0.2222222222222222,
              "#7201a8"
             ],
             [
              0.3333333333333333,
              "#9c179e"
             ],
             [
              0.4444444444444444,
              "#bd3786"
             ],
             [
              0.5555555555555556,
              "#d8576b"
             ],
             [
              0.6666666666666666,
              "#ed7953"
             ],
             [
              0.7777777777777778,
              "#fb9f3a"
             ],
             [
              0.8888888888888888,
              "#fdca26"
             ],
             [
              1.0,
              "#f0f921"
             ]
            ],
            "type": "surface"
           }
          ],
          "table": [
           {
            "cells": {
             "fill": {
              "color": "#EBF0F8"
             },
             "line": {
              "color": "white"
             }
            },
            "header": {
             "fill": {
              "color": "#C8D4E3"
             },
             "line": {
              "color": "white"
             }
            },
            "type": "table"
           }
          ]
         },
         "layout": {
          "annotationdefaults": {
           "arrowcolor": "#2a3f5f",
           "arrowhead": 0,
           "arrowwidth": 1
          },
          "autotypenumbers": "strict",
          "coloraxis": {
           "colorbar": {
            "outlinewidth": 0,
            "ticks": ""
           }
          },
          "colorscale": {
           "diverging": [
            [
             0,
             "#8e0152"
            ],
            [
             0.1,
             "#c51b7d"
            ],
            [
             0.2,
             "#de77ae"
            ],
            [
             0.3,
             "#f1b6da"
            ],
            [
             0.4,
             "#fde0ef"
            ],
            [
             0.5,
             "#f7f7f7"
            ],
            [
             0.6,
             "#e6f5d0"
            ],
            [
             0.7,
             "#b8e186"
            ],
            [
             0.8,
             "#7fbc41"
            ],
            [
             0.9,
             "#4d9221"
            ],
            [
             1,
             "#276419"
            ]
           ],
           "sequential": [
            [
             0.0,
             "#0d0887"
            ],
            [
             0.1111111111111111,
             "#46039f"
            ],
            [
             0.2222222222222222,
             "#7201a8"
            ],
            [
             0.3333333333333333,
             "#9c179e"
            ],
            [
             0.4444444444444444,
             "#bd3786"
            ],
            [
             0.5555555555555556,
             "#d8576b"
            ],
            [
             0.6666666666666666,
             "#ed7953"
            ],
            [
             0.7777777777777778,
             "#fb9f3a"
            ],
            [
             0.8888888888888888,
             "#fdca26"
            ],
            [
             1.0,
             "#f0f921"
            ]
           ],
           "sequentialminus": [
            [
             0.0,
             "#0d0887"
            ],
            [
             0.1111111111111111,
             "#46039f"
            ],
            [
             0.2222222222222222,
             "#7201a8"
            ],
            [
             0.3333333333333333,
             "#9c179e"
            ],
            [
             0.4444444444444444,
             "#bd3786"
            ],
            [
             0.5555555555555556,
             "#d8576b"
            ],
            [
             0.6666666666666666,
             "#ed7953"
            ],
            [
             0.7777777777777778,
             "#fb9f3a"
            ],
            [
             0.8888888888888888,
             "#fdca26"
            ],
            [
             1.0,
             "#f0f921"
            ]
           ]
          },
          "colorway": [
           "#636efa",
           "#EF553B",
           "#00cc96",
           "#ab63fa",
           "#FFA15A",
           "#19d3f3",
           "#FF6692",
           "#B6E880",
           "#FF97FF",
           "#FECB52"
          ],
          "font": {
           "color": "#2a3f5f"
          },
          "geo": {
           "bgcolor": "white",
           "lakecolor": "white",
           "landcolor": "#E5ECF6",
           "showlakes": true,
           "showland": true,
           "subunitcolor": "white"
          },
          "hoverlabel": {
           "align": "left"
          },
          "hovermode": "closest",
          "mapbox": {
           "style": "light"
          },
          "paper_bgcolor": "white",
          "plot_bgcolor": "#E5ECF6",
          "polar": {
           "angularaxis": {
            "gridcolor": "white",
            "linecolor": "white",
            "ticks": ""
           },
           "bgcolor": "#E5ECF6",
           "radialaxis": {
            "gridcolor": "white",
            "linecolor": "white",
            "ticks": ""
           }
          },
          "scene": {
           "xaxis": {
            "backgroundcolor": "#E5ECF6",
            "gridcolor": "white",
            "gridwidth": 2,
            "linecolor": "white",
            "showbackground": true,
            "ticks": "",
            "zerolinecolor": "white"
           },
           "yaxis": {
            "backgroundcolor": "#E5ECF6",
            "gridcolor": "white",
            "gridwidth": 2,
            "linecolor": "white",
            "showbackground": true,
            "ticks": "",
            "zerolinecolor": "white"
           },
           "zaxis": {
            "backgroundcolor": "#E5ECF6",
            "gridcolor": "white",
            "gridwidth": 2,
            "linecolor": "white",
            "showbackground": true,
            "ticks": "",
            "zerolinecolor": "white"
           }
          },
          "shapedefaults": {
           "line": {
            "color": "#2a3f5f"
           }
          },
          "ternary": {
           "aaxis": {
            "gridcolor": "white",
            "linecolor": "white",
            "ticks": ""
           },
           "baxis": {
            "gridcolor": "white",
            "linecolor": "white",
            "ticks": ""
           },
           "bgcolor": "#E5ECF6",
           "caxis": {
            "gridcolor": "white",
            "linecolor": "white",
            "ticks": ""
           }
          },
          "title": {
           "x": 0.05
          },
          "xaxis": {
           "automargin": true,
           "gridcolor": "white",
           "linecolor": "white",
           "ticks": "",
           "title": {
            "standoff": 15
           },
           "zerolinecolor": "white",
           "zerolinewidth": 2
          },
          "yaxis": {
           "automargin": true,
           "gridcolor": "white",
           "linecolor": "white",
           "ticks": "",
           "title": {
            "standoff": 15
           },
           "zerolinecolor": "white",
           "zerolinewidth": 2
          }
         }
        },
        "title": {
         "text": "Lead Poisioning rules implementations",
         "x": 0.5
        }
       }
      },
      "text/html": [
       "<div>                            <div id=\"e7c69ebc-a875-49ae-8177-c92698e722fe\" class=\"plotly-graph-div\" style=\"height:525px; width:100%;\"></div>            <script type=\"text/javascript\">                require([\"plotly\"], function(Plotly) {                    window.PLOTLYENV=window.PLOTLYENV || {};                                    if (document.getElementById(\"e7c69ebc-a875-49ae-8177-c92698e722fe\")) {                    Plotly.newPlot(                        \"e7c69ebc-a875-49ae-8177-c92698e722fe\",                        [{\"colorscale\":[[0.0,\"rgb(247,251,255)\"],[0.125,\"rgb(222,235,247)\"],[0.25,\"rgb(198,219,239)\"],[0.375,\"rgb(158,202,225)\"],[0.5,\"rgb(107,174,214)\"],[0.625,\"rgb(66,146,198)\"],[0.75,\"rgb(33,113,181)\"],[0.875,\"rgb(8,81,156)\"],[1.0,\"rgb(8,48,107)\"]],\"locationmode\":\"country names\",\"locations\":[\"Algeria\",\"Argentina\",\"Armenia\",\"Australia\",\"Austria\",\"Bangladesh\",\"Belarus\",\"Belgium\",\"Brazil\",\"Bulgaria\",\"Cameroon\",\"Canada\",\"Chile\",\"China\",\"Colombia\",\"Costa Rica\",\"Croatia\",\"Cuba\",\"Cyprus\",\"Czechia\",\"Denmark\",\"Dominica\",\"Ecuador\",\"Estonia\",\"Ethiopia\",\"Finland\",\"France\",\"Georgia\",\"Germany\",\"Greece\",\"Guyana\",\"Hungary\",\"Iceland\",\"India\",\"Iraq\",\"Ireland\",\"Israel\",\"Italy\",\"Jordan\",\"Kazakhstan\",\"Kenya\",\"Kyrgyzstan\",\"Latvia\",\"Lebanon\",\"Liechtenstein\",\"Lithuania\",\"Luxembourg\",\"Malta\",\"Mexico\",\"Monaco\",\"Montenegro\",\"Morocco\",\"Nepal\",\"Netherlands\",\"New Zealand\",\"North Macedonia\",\"Norway\",\"Oman\",\"Pakistan\",\"Panama\",\"Peru\",\"Philippines\",\"Poland\",\"Portugal\",\"Qatar\",\"Romania\",\"Russia\",\"Serbia\",\"Slovakia\",\"Slovenia\",\"South Africa\",\"Spain\",\"Sri Lanka\",\"Sweden\",\"Switzerland\",\"Tanzania\",\"Thailand\",\"Trinidad and Tobago\",\"Ukraine\",\"United Kingdom\",\"United States\",\"Uruguay\",\"Vietnam\"],\"marker\":{\"line\":{\"color\":\"black\",\"width\":0.5}},\"z\":[2021,2021,2021,2021,2021,2021,2021,2021,2021,2021,2021,2021,2021,2021,2021,2021,2021,2021,2021,2021,2021,2021,2021,2021,2021,2021,2021,2021,2021,2021,2021,2021,2021,2021,2021,2021,2021,2021,2021,2021,2021,2021,2021,2021,2021,2021,2021,2021,2021,2021,2021,2021,2021,2021,2021,2021,2021,2021,2021,2021,2021,2021,2021,2021,2021,2021,2021,2021,2021,2021,2021,2021,2021,2021,2021,2021,2021,2021,2021,2021,2021,2021,2021],\"type\":\"choropleth\"}],                        {\"template\":{\"data\":{\"bar\":[{\"error_x\":{\"color\":\"#2a3f5f\"},\"error_y\":{\"color\":\"#2a3f5f\"},\"marker\":{\"line\":{\"color\":\"#E5ECF6\",\"width\":0.5},\"pattern\":{\"fillmode\":\"overlay\",\"size\":10,\"solidity\":0.2}},\"type\":\"bar\"}],\"barpolar\":[{\"marker\":{\"line\":{\"color\":\"#E5ECF6\",\"width\":0.5},\"pattern\":{\"fillmode\":\"overlay\",\"size\":10,\"solidity\":0.2}},\"type\":\"barpolar\"}],\"carpet\":[{\"aaxis\":{\"endlinecolor\":\"#2a3f5f\",\"gridcolor\":\"white\",\"linecolor\":\"white\",\"minorgridcolor\":\"white\",\"startlinecolor\":\"#2a3f5f\"},\"baxis\":{\"endlinecolor\":\"#2a3f5f\",\"gridcolor\":\"white\",\"linecolor\":\"white\",\"minorgridcolor\":\"white\",\"startlinecolor\":\"#2a3f5f\"},\"type\":\"carpet\"}],\"choropleth\":[{\"colorbar\":{\"outlinewidth\":0,\"ticks\":\"\"},\"type\":\"choropleth\"}],\"contour\":[{\"colorbar\":{\"outlinewidth\":0,\"ticks\":\"\"},\"colorscale\":[[0.0,\"#0d0887\"],[0.1111111111111111,\"#46039f\"],[0.2222222222222222,\"#7201a8\"],[0.3333333333333333,\"#9c179e\"],[0.4444444444444444,\"#bd3786\"],[0.5555555555555556,\"#d8576b\"],[0.6666666666666666,\"#ed7953\"],[0.7777777777777778,\"#fb9f3a\"],[0.8888888888888888,\"#fdca26\"],[1.0,\"#f0f921\"]],\"type\":\"contour\"}],\"contourcarpet\":[{\"colorbar\":{\"outlinewidth\":0,\"ticks\":\"\"},\"type\":\"contourcarpet\"}],\"heatmap\":[{\"colorbar\":{\"outlinewidth\":0,\"ticks\":\"\"},\"colorscale\":[[0.0,\"#0d0887\"],[0.1111111111111111,\"#46039f\"],[0.2222222222222222,\"#7201a8\"],[0.3333333333333333,\"#9c179e\"],[0.4444444444444444,\"#bd3786\"],[0.5555555555555556,\"#d8576b\"],[0.6666666666666666,\"#ed7953\"],[0.7777777777777778,\"#fb9f3a\"],[0.8888888888888888,\"#fdca26\"],[1.0,\"#f0f921\"]],\"type\":\"heatmap\"}],\"heatmapgl\":[{\"colorbar\":{\"outlinewidth\":0,\"ticks\":\"\"},\"colorscale\":[[0.0,\"#0d0887\"],[0.1111111111111111,\"#46039f\"],[0.2222222222222222,\"#7201a8\"],[0.3333333333333333,\"#9c179e\"],[0.4444444444444444,\"#bd3786\"],[0.5555555555555556,\"#d8576b\"],[0.6666666666666666,\"#ed7953\"],[0.7777777777777778,\"#fb9f3a\"],[0.8888888888888888,\"#fdca26\"],[1.0,\"#f0f921\"]],\"type\":\"heatmapgl\"}],\"histogram\":[{\"marker\":{\"pattern\":{\"fillmode\":\"overlay\",\"size\":10,\"solidity\":0.2}},\"type\":\"histogram\"}],\"histogram2d\":[{\"colorbar\":{\"outlinewidth\":0,\"ticks\":\"\"},\"colorscale\":[[0.0,\"#0d0887\"],[0.1111111111111111,\"#46039f\"],[0.2222222222222222,\"#7201a8\"],[0.3333333333333333,\"#9c179e\"],[0.4444444444444444,\"#bd3786\"],[0.5555555555555556,\"#d8576b\"],[0.6666666666666666,\"#ed7953\"],[0.7777777777777778,\"#fb9f3a\"],[0.8888888888888888,\"#fdca26\"],[1.0,\"#f0f921\"]],\"type\":\"histogram2d\"}],\"histogram2dcontour\":[{\"colorbar\":{\"outlinewidth\":0,\"ticks\":\"\"},\"colorscale\":[[0.0,\"#0d0887\"],[0.1111111111111111,\"#46039f\"],[0.2222222222222222,\"#7201a8\"],[0.3333333333333333,\"#9c179e\"],[0.4444444444444444,\"#bd3786\"],[0.5555555555555556,\"#d8576b\"],[0.6666666666666666,\"#ed7953\"],[0.7777777777777778,\"#fb9f3a\"],[0.8888888888888888,\"#fdca26\"],[1.0,\"#f0f921\"]],\"type\":\"histogram2dcontour\"}],\"mesh3d\":[{\"colorbar\":{\"outlinewidth\":0,\"ticks\":\"\"},\"type\":\"mesh3d\"}],\"parcoords\":[{\"line\":{\"colorbar\":{\"outlinewidth\":0,\"ticks\":\"\"}},\"type\":\"parcoords\"}],\"pie\":[{\"automargin\":true,\"type\":\"pie\"}],\"scatter\":[{\"marker\":{\"colorbar\":{\"outlinewidth\":0,\"ticks\":\"\"}},\"type\":\"scatter\"}],\"scatter3d\":[{\"line\":{\"colorbar\":{\"outlinewidth\":0,\"ticks\":\"\"}},\"marker\":{\"colorbar\":{\"outlinewidth\":0,\"ticks\":\"\"}},\"type\":\"scatter3d\"}],\"scattercarpet\":[{\"marker\":{\"colorbar\":{\"outlinewidth\":0,\"ticks\":\"\"}},\"type\":\"scattercarpet\"}],\"scattergeo\":[{\"marker\":{\"colorbar\":{\"outlinewidth\":0,\"ticks\":\"\"}},\"type\":\"scattergeo\"}],\"scattergl\":[{\"marker\":{\"colorbar\":{\"outlinewidth\":0,\"ticks\":\"\"}},\"type\":\"scattergl\"}],\"scattermapbox\":[{\"marker\":{\"colorbar\":{\"outlinewidth\":0,\"ticks\":\"\"}},\"type\":\"scattermapbox\"}],\"scatterpolar\":[{\"marker\":{\"colorbar\":{\"outlinewidth\":0,\"ticks\":\"\"}},\"type\":\"scatterpolar\"}],\"scatterpolargl\":[{\"marker\":{\"colorbar\":{\"outlinewidth\":0,\"ticks\":\"\"}},\"type\":\"scatterpolargl\"}],\"scatterternary\":[{\"marker\":{\"colorbar\":{\"outlinewidth\":0,\"ticks\":\"\"}},\"type\":\"scatterternary\"}],\"surface\":[{\"colorbar\":{\"outlinewidth\":0,\"ticks\":\"\"},\"colorscale\":[[0.0,\"#0d0887\"],[0.1111111111111111,\"#46039f\"],[0.2222222222222222,\"#7201a8\"],[0.3333333333333333,\"#9c179e\"],[0.4444444444444444,\"#bd3786\"],[0.5555555555555556,\"#d8576b\"],[0.6666666666666666,\"#ed7953\"],[0.7777777777777778,\"#fb9f3a\"],[0.8888888888888888,\"#fdca26\"],[1.0,\"#f0f921\"]],\"type\":\"surface\"}],\"table\":[{\"cells\":{\"fill\":{\"color\":\"#EBF0F8\"},\"line\":{\"color\":\"white\"}},\"header\":{\"fill\":{\"color\":\"#C8D4E3\"},\"line\":{\"color\":\"white\"}},\"type\":\"table\"}]},\"layout\":{\"annotationdefaults\":{\"arrowcolor\":\"#2a3f5f\",\"arrowhead\":0,\"arrowwidth\":1},\"autotypenumbers\":\"strict\",\"coloraxis\":{\"colorbar\":{\"outlinewidth\":0,\"ticks\":\"\"}},\"colorscale\":{\"diverging\":[[0,\"#8e0152\"],[0.1,\"#c51b7d\"],[0.2,\"#de77ae\"],[0.3,\"#f1b6da\"],[0.4,\"#fde0ef\"],[0.5,\"#f7f7f7\"],[0.6,\"#e6f5d0\"],[0.7,\"#b8e186\"],[0.8,\"#7fbc41\"],[0.9,\"#4d9221\"],[1,\"#276419\"]],\"sequential\":[[0.0,\"#0d0887\"],[0.1111111111111111,\"#46039f\"],[0.2222222222222222,\"#7201a8\"],[0.3333333333333333,\"#9c179e\"],[0.4444444444444444,\"#bd3786\"],[0.5555555555555556,\"#d8576b\"],[0.6666666666666666,\"#ed7953\"],[0.7777777777777778,\"#fb9f3a\"],[0.8888888888888888,\"#fdca26\"],[1.0,\"#f0f921\"]],\"sequentialminus\":[[0.0,\"#0d0887\"],[0.1111111111111111,\"#46039f\"],[0.2222222222222222,\"#7201a8\"],[0.3333333333333333,\"#9c179e\"],[0.4444444444444444,\"#bd3786\"],[0.5555555555555556,\"#d8576b\"],[0.6666666666666666,\"#ed7953\"],[0.7777777777777778,\"#fb9f3a\"],[0.8888888888888888,\"#fdca26\"],[1.0,\"#f0f921\"]]},\"colorway\":[\"#636efa\",\"#EF553B\",\"#00cc96\",\"#ab63fa\",\"#FFA15A\",\"#19d3f3\",\"#FF6692\",\"#B6E880\",\"#FF97FF\",\"#FECB52\"],\"font\":{\"color\":\"#2a3f5f\"},\"geo\":{\"bgcolor\":\"white\",\"lakecolor\":\"white\",\"landcolor\":\"#E5ECF6\",\"showlakes\":true,\"showland\":true,\"subunitcolor\":\"white\"},\"hoverlabel\":{\"align\":\"left\"},\"hovermode\":\"closest\",\"mapbox\":{\"style\":\"light\"},\"paper_bgcolor\":\"white\",\"plot_bgcolor\":\"#E5ECF6\",\"polar\":{\"angularaxis\":{\"gridcolor\":\"white\",\"linecolor\":\"white\",\"ticks\":\"\"},\"bgcolor\":\"#E5ECF6\",\"radialaxis\":{\"gridcolor\":\"white\",\"linecolor\":\"white\",\"ticks\":\"\"}},\"scene\":{\"xaxis\":{\"backgroundcolor\":\"#E5ECF6\",\"gridcolor\":\"white\",\"gridwidth\":2,\"linecolor\":\"white\",\"showbackground\":true,\"ticks\":\"\",\"zerolinecolor\":\"white\"},\"yaxis\":{\"backgroundcolor\":\"#E5ECF6\",\"gridcolor\":\"white\",\"gridwidth\":2,\"linecolor\":\"white\",\"showbackground\":true,\"ticks\":\"\",\"zerolinecolor\":\"white\"},\"zaxis\":{\"backgroundcolor\":\"#E5ECF6\",\"gridcolor\":\"white\",\"gridwidth\":2,\"linecolor\":\"white\",\"showbackground\":true,\"ticks\":\"\",\"zerolinecolor\":\"white\"}},\"shapedefaults\":{\"line\":{\"color\":\"#2a3f5f\"}},\"ternary\":{\"aaxis\":{\"gridcolor\":\"white\",\"linecolor\":\"white\",\"ticks\":\"\"},\"baxis\":{\"gridcolor\":\"white\",\"linecolor\":\"white\",\"ticks\":\"\"},\"bgcolor\":\"#E5ECF6\",\"caxis\":{\"gridcolor\":\"white\",\"linecolor\":\"white\",\"ticks\":\"\"}},\"title\":{\"x\":0.05},\"xaxis\":{\"automargin\":true,\"gridcolor\":\"white\",\"linecolor\":\"white\",\"ticks\":\"\",\"title\":{\"standoff\":15},\"zerolinecolor\":\"white\",\"zerolinewidth\":2},\"yaxis\":{\"automargin\":true,\"gridcolor\":\"white\",\"linecolor\":\"white\",\"ticks\":\"\",\"title\":{\"standoff\":15},\"zerolinecolor\":\"white\",\"zerolinewidth\":2}}},\"title\":{\"text\":\"Lead Poisioning rules implementations\",\"x\":0.5},\"geo\":{\"showframe\":false,\"showcoastlines\":false}},                        {\"responsive\": true}                    ).then(function(){\n",
       "                            \n",
       "var gd = document.getElementById('e7c69ebc-a875-49ae-8177-c92698e722fe');\n",
       "var x = new MutationObserver(function (mutations, observer) {{\n",
       "        var display = window.getComputedStyle(gd).display;\n",
       "        if (!display || display === 'none') {{\n",
       "            console.log([gd, 'removed!']);\n",
       "            Plotly.purge(gd);\n",
       "            observer.disconnect();\n",
       "        }}\n",
       "}});\n",
       "\n",
       "// Listen for the removal of the full notebook cells\n",
       "var notebookContainer = gd.closest('#notebook-container');\n",
       "if (notebookContainer) {{\n",
       "    x.observe(notebookContainer, {childList: true});\n",
       "}}\n",
       "\n",
       "// Listen for the clearing of the current output cell\n",
       "var outputEl = gd.closest('.output');\n",
       "if (outputEl) {{\n",
       "    x.observe(outputEl, {childList: true});\n",
       "}}\n",
       "\n",
       "                        })                };                });            </script>        </div>"
      ]
     },
     "metadata": {},
     "output_type": "display_data"
    }
   ],
   "source": [
    "fig = go.Figure(data=go.Choropleth(\n",
    "    locations = legal_controls_lead_paint['Entity'],\n",
    "    locationmode = 'country names',\n",
    "    z = legal_controls_lead_paint['Year'],\n",
    "    colorscale = 'blues',\n",
    "    marker_line_color = 'black',\n",
    "    marker_line_width = 0.5,\n",
    "))\n",
    "fig.update_layout(\n",
    "    title_text = 'Lead Poisioning rules implementations',\n",
    "    title_x = 0.5,\n",
    "    geo=dict(\n",
    "        showframe = False,\n",
    "        showcoastlines = False,\n",
    "    )\n",
    ")"
   ]
  },
  {
   "cell_type": "markdown",
   "id": "80c69583",
   "metadata": {
    "papermill": {
     "duration": 0.02409,
     "end_time": "2022-03-19T18:46:29.964980",
     "exception": false,
     "start_time": "2022-03-19T18:46:29.940890",
     "status": "completed"
    },
    "tags": []
   },
   "source": [
    "### It shows that by '2021', most of the country have adopted the 'Lead poisioning rules' for child safety."
   ]
  },
  {
   "cell_type": "markdown",
   "id": "e2b119c4",
   "metadata": {
    "papermill": {
     "duration": 0.023137,
     "end_time": "2022-03-19T18:46:30.010369",
     "exception": false,
     "start_time": "2022-03-19T18:46:29.987232",
     "status": "completed"
    },
    "tags": []
   },
   "source": [
    "# Now Analysing first dataset for more details."
   ]
  },
  {
   "cell_type": "code",
   "execution_count": 5,
   "id": "affa96f1",
   "metadata": {
    "execution": {
     "iopub.execute_input": "2022-03-19T18:46:30.064198Z",
     "iopub.status.busy": "2022-03-19T18:46:30.063457Z",
     "iopub.status.idle": "2022-03-19T18:46:30.066334Z",
     "shell.execute_reply": "2022-03-19T18:46:30.066757Z",
     "shell.execute_reply.started": "2022-03-19T18:30:08.754844Z"
    },
    "papermill": {
     "duration": 0.034157,
     "end_time": "2022-03-19T18:46:30.066913",
     "exception": false,
     "start_time": "2022-03-19T18:46:30.032756",
     "status": "completed"
    },
    "tags": []
   },
   "outputs": [
    {
     "data": {
      "text/plain": [
       "Entity                                       0\n",
       "Code                                        24\n",
       "Year                                         0\n",
       "Blood lead concentration (1-5 year olds)     0\n",
       "dtype: int64"
      ]
     },
     "execution_count": 5,
     "metadata": {},
     "output_type": "execute_result"
    }
   ],
   "source": [
    "lead_blood_in_usa.isnull().sum()"
   ]
  },
  {
   "cell_type": "markdown",
   "id": "30955c8e",
   "metadata": {
    "papermill": {
     "duration": 0.021938,
     "end_time": "2022-03-19T18:46:30.111081",
     "exception": false,
     "start_time": "2022-03-19T18:46:30.089143",
     "status": "completed"
    },
    "tags": []
   },
   "source": [
    "## It shows that in the given dataset, there's 24 null values in \"Code\"."
   ]
  },
  {
   "cell_type": "code",
   "execution_count": 6,
   "id": "2bb65f50",
   "metadata": {
    "execution": {
     "iopub.execute_input": "2022-03-19T18:46:30.166441Z",
     "iopub.status.busy": "2022-03-19T18:46:30.165797Z",
     "iopub.status.idle": "2022-03-19T18:46:30.169125Z",
     "shell.execute_reply": "2022-03-19T18:46:30.169747Z",
     "shell.execute_reply.started": "2022-03-19T18:30:45.608986Z"
    },
    "papermill": {
     "duration": 0.037224,
     "end_time": "2022-03-19T18:46:30.169959",
     "exception": false,
     "start_time": "2022-03-19T18:46:30.132735",
     "status": "completed"
    },
    "tags": []
   },
   "outputs": [
    {
     "name": "stdout",
     "output_type": "stream",
     "text": [
      "             Entity  Year  Blood lead concentration (1-5 year olds)\n",
      "0   95th percentile  1978                                      29.0\n",
      "1   95th percentile  1990                                      12.0\n",
      "2   95th percentile  1993                                       9.7\n",
      "3   95th percentile  2000                                       7.0\n",
      "4   95th percentile  2002                                       5.8\n",
      "5   95th percentile  2004                                       5.1\n",
      "6   95th percentile  2006                                       3.8\n",
      "7   95th percentile  2008                                       4.1\n",
      "8   95th percentile  2010                                       3.4\n",
      "9   95th percentile  2012                                       2.9\n",
      "10  95th percentile  2014                                       2.2\n",
      "11  95th percentile  2016                                       2.8\n",
      "12           Median  1978                                      15.0\n",
      "13           Median  1990                                       3.5\n",
      "14           Median  1993                                       2.6\n",
      "15           Median  2000                                       2.2\n",
      "16           Median  2002                                       1.6\n",
      "17           Median  2004                                       1.6\n",
      "18           Median  2006                                       1.4\n",
      "19           Median  2008                                       1.4\n",
      "20           Median  2010                                       1.2\n",
      "21           Median  2012                                       1.0\n",
      "22           Median  2014                                       0.7\n",
      "23           Median  2016                                       0.7\n"
     ]
    }
   ],
   "source": [
    "lead_blood_in_usa.drop(lead_blood_in_usa.columns[[1]], axis=1, inplace=True)\n",
    "print(lead_blood_in_usa)"
   ]
  },
  {
   "cell_type": "markdown",
   "id": "156b75c6",
   "metadata": {
    "papermill": {
     "duration": 0.021203,
     "end_time": "2022-03-19T18:46:30.214339",
     "exception": false,
     "start_time": "2022-03-19T18:46:30.193136",
     "status": "completed"
    },
    "tags": []
   },
   "source": [
    "## I have removed the \"Code\" column from the given dataset for simplicity and feasibility. 👆"
   ]
  },
  {
   "cell_type": "markdown",
   "id": "ae46f484",
   "metadata": {
    "papermill": {
     "duration": 0.021879,
     "end_time": "2022-03-19T18:46:30.258048",
     "exception": false,
     "start_time": "2022-03-19T18:46:30.236169",
     "status": "completed"
    },
    "tags": []
   },
   "source": [
    "# Graphical representation of 2nd dataset."
   ]
  },
  {
   "cell_type": "code",
   "execution_count": 7,
   "id": "50bdb824",
   "metadata": {
    "execution": {
     "iopub.execute_input": "2022-03-19T18:46:30.310230Z",
     "iopub.status.busy": "2022-03-19T18:46:30.309384Z",
     "iopub.status.idle": "2022-03-19T18:46:30.312060Z",
     "shell.execute_reply": "2022-03-19T18:46:30.311576Z",
     "shell.execute_reply.started": "2022-03-19T18:40:10.764724Z"
    },
    "papermill": {
     "duration": 0.031572,
     "end_time": "2022-03-19T18:46:30.312179",
     "exception": false,
     "start_time": "2022-03-19T18:46:30.280607",
     "status": "completed"
    },
    "tags": []
   },
   "outputs": [],
   "source": [
    "def feat_plot(feature):\n",
    "    plt.figure(figsize=(16, 6))\n",
    "    plt.subplot(1, 3, 1)\n",
    "    feature.plot(kind = 'hist')\n",
    "    plt.title(f'{feature.name} histogram plot')\n",
    "    \n",
    "    plt.subplot(1, 3, 2)\n",
    "    mu, sigma = scipy.stats.norm.fit(feature)\n",
    "    sns.distplot(feature) \n",
    "    plt.axvline(mu, linestyle = '--', color = 'green', )\n",
    "    plt.axvline(sigma, linestyle = '--', color = 'red')\n",
    "    plt.title(f'{feature.name} distribution plot')\n",
    "    \n",
    "    plt.subplot(1, 3, 3)\n",
    "    sns.boxplot(feature)\n",
    "    plt.title(f'{feature.name} box plot')\n",
    "    plt.show()"
   ]
  },
  {
   "cell_type": "code",
   "execution_count": 8,
   "id": "b957c7fa",
   "metadata": {
    "execution": {
     "iopub.execute_input": "2022-03-19T18:46:30.365320Z",
     "iopub.status.busy": "2022-03-19T18:46:30.364374Z",
     "iopub.status.idle": "2022-03-19T18:46:30.367419Z",
     "shell.execute_reply": "2022-03-19T18:46:30.366995Z",
     "shell.execute_reply.started": "2022-03-19T18:40:13.511552Z"
    },
    "papermill": {
     "duration": 0.032713,
     "end_time": "2022-03-19T18:46:30.367538",
     "exception": false,
     "start_time": "2022-03-19T18:46:30.334825",
     "status": "completed"
    },
    "tags": []
   },
   "outputs": [],
   "source": [
    "grap = lead_blood_in_usa.select_dtypes(exclude = 'object')"
   ]
  },
  {
   "cell_type": "code",
   "execution_count": 9,
   "id": "b25654a9",
   "metadata": {
    "execution": {
     "iopub.execute_input": "2022-03-19T18:46:30.423144Z",
     "iopub.status.busy": "2022-03-19T18:46:30.422251Z",
     "iopub.status.idle": "2022-03-19T18:46:31.405047Z",
     "shell.execute_reply": "2022-03-19T18:46:31.404572Z",
     "shell.execute_reply.started": "2022-03-19T18:40:26.819656Z"
    },
    "papermill": {
     "duration": 1.015222,
     "end_time": "2022-03-19T18:46:31.405178",
     "exception": false,
     "start_time": "2022-03-19T18:46:30.389956",
     "status": "completed"
    },
    "tags": []
   },
   "outputs": [
    {
     "name": "stderr",
     "output_type": "stream",
     "text": [
      "/opt/conda/lib/python3.7/site-packages/seaborn/distributions.py:2619: FutureWarning:\n",
      "\n",
      "`distplot` is a deprecated function and will be removed in a future version. Please adapt your code to use either `displot` (a figure-level function with similar flexibility) or `histplot` (an axes-level function for histograms).\n",
      "\n",
      "/opt/conda/lib/python3.7/site-packages/seaborn/_decorators.py:43: FutureWarning:\n",
      "\n",
      "Pass the following variable as a keyword arg: x. From version 0.12, the only valid positional argument will be `data`, and passing other arguments without an explicit keyword will result in an error or misinterpretation.\n",
      "\n"
     ]
    },
    {
     "data": {
      "image/png": "[encoded data removed]",
      "text/plain": [
       "<Figure size 1152x432 with 3 Axes>"
      ]
     },
     "metadata": {
      "needs_background": "light"
     },
     "output_type": "display_data"
    },
    {
     "name": "stderr",
     "output_type": "stream",
     "text": [
      "/opt/conda/lib/python3.7/site-packages/seaborn/distributions.py:2619: FutureWarning:\n",
      "\n",
      "`distplot` is a deprecated function and will be removed in a future version. Please adapt your code to use either `displot` (a figure-level function with similar flexibility) or `histplot` (an axes-level function for histograms).\n",
      "\n",
      "/opt/conda/lib/python3.7/site-packages/seaborn/_decorators.py:43: FutureWarning:\n",
      "\n",
      "Pass the following variable as a keyword arg: x. From version 0.12, the only valid positional argument will be `data`, and passing other arguments without an explicit keyword will result in an error or misinterpretation.\n",
      "\n"
     ]
    },
    {
     "data": {
      "image/png": "[encoded data removed]",
      "text/plain": [
       "<Figure size 1152x432 with 3 Axes>"
      ]
     },
     "metadata": {
      "needs_background": "light"
     },
     "output_type": "display_data"
    }
   ],
   "source": [
    "for i in grap.columns:\n",
    "    feat_plot(grap[i])"
   ]
  },
  {
   "cell_type": "markdown",
   "id": "5b581998",
   "metadata": {
    "papermill": {
     "duration": 0.026932,
     "end_time": "2022-03-19T18:46:31.458396",
     "exception": false,
     "start_time": "2022-03-19T18:46:31.431464",
     "status": "completed"
    },
    "tags": []
   },
   "source": [
    "# This shows the trend of lead poisioning in USA."
   ]
  },
  {
   "cell_type": "markdown",
   "id": "c544f5e7",
   "metadata": {
    "papermill": {
     "duration": 0.025433,
     "end_time": "2022-03-19T18:46:31.510188",
     "exception": false,
     "start_time": "2022-03-19T18:46:31.484755",
     "status": "completed"
    },
    "tags": []
   },
   "source": [
    "# Thank you for showing intrest in my note.\n",
    "## Looking forward to see you soon in near days 😃."
   ]
  }
 ],
 "metadata": {
  "kernelspec": {
   "display_name": "Python 3",
   "language": "python",
   "name": "python3"
  },
  "language_info": {
   "codemirror_mode": {
    "name": "ipython",
    "version": 3
   },
   "file_extension": ".py",
   "mimetype": "text/x-python",
   "name": "python",
   "nbconvert_exporter": "python",
   "pygments_lexer": "ipython3",
   "version": "3.7.12"
  },
  "papermill": {
   "default_parameters": {},
   "duration": 14.495862,
   "end_time": "2022-03-19T18:46:32.548156",
   "environment_variables": {},
   "exception": null,
   "input_path": "__notebook__.ipynb",
   "output_path": "__notebook__.ipynb",
   "parameters": {},
   "start_time": "2022-03-19T18:46:18.052294",
   "version": "2.3.3"
  }
 },
 "nbformat": 4,
 "nbformat_minor": 5
}
