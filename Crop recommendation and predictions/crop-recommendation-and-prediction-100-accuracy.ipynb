{
 "cells": [
  {
   "cell_type": "code",
   "execution_count": 1,
   "id": "00acea46",
   "metadata": {
    "_cell_guid": "b1076dfc-b9ad-4769-8c92-a6c4dae69d19",
    "_uuid": "8f2839f25d086af736a60e9eeb907d3b93b6e0e5",
    "execution": {
     "iopub.execute_input": "2022-02-14T05:47:39.959764Z",
     "iopub.status.busy": "2022-02-14T05:47:39.958502Z",
     "iopub.status.idle": "2022-02-14T05:47:39.973015Z",
     "shell.execute_reply": "2022-02-14T05:47:39.973593Z",
     "shell.execute_reply.started": "2022-02-14T04:17:43.716923Z"
    },
    "papermill": {
     "duration": 0.049382,
     "end_time": "2022-02-14T05:47:39.973929",
     "exception": false,
     "start_time": "2022-02-14T05:47:39.924547",
     "status": "completed"
    },
    "tags": []
   },
   "outputs": [
    {
     "name": "stdout",
     "output_type": "stream",
     "text": [
      "/kaggle/input/crop-recommendation-dataset/Crop_recommendation.csv\n"
     ]
    }
   ],
   "source": [
    "# This Python 3 environment comes with many helpful analytics libraries installed\n",
    "# It is defined by the kaggle/python Docker image: https://github.com/kaggle/docker-python\n",
    "# For example, here's several helpful packages to load\n",
    "\n",
    "import numpy as np # linear algebra\n",
    "import pandas as pd # data processing, CSV file I/O (e.g. pd.read_csv)\n",
    "\n",
    "# Input data files are available in the read-only \"../input/\" directory\n",
    "# For example, running this (by clicking run or pressing Shift+Enter) will list all files under the input directory\n",
    "\n",
    "import os\n",
    "for dirname, _, filenames in os.walk('/kaggle/input'):\n",
    "    for filename in filenames:\n",
    "        print(os.path.join(dirname, filename))\n",
    "\n",
    "# You can write up to 20GB to the current directory (/kaggle/working/) that gets preserved as output when you create a version using \"Save & Run All\" \n",
    "# You can also write temporary files to /kaggle/temp/, but they won't be saved outside of the current session"
   ]
  },
  {
   "cell_type": "markdown",
   "id": "ec99d273",
   "metadata": {
    "papermill": {
     "duration": 0.028604,
     "end_time": "2022-02-14T05:47:40.033132",
     "exception": false,
     "start_time": "2022-02-14T05:47:40.004528",
     "status": "completed"
    },
    "tags": []
   },
   "source": [
    "# Importing all the required modules."
   ]
  },
  {
   "cell_type": "code",
   "execution_count": 2,
   "id": "531f94bb",
   "metadata": {
    "execution": {
     "iopub.execute_input": "2022-02-14T05:47:40.094363Z",
     "iopub.status.busy": "2022-02-14T05:47:40.093719Z",
     "iopub.status.idle": "2022-02-14T05:47:41.573943Z",
     "shell.execute_reply": "2022-02-14T05:47:41.573332Z",
     "shell.execute_reply.started": "2022-02-14T04:20:15.275077Z"
    },
    "papermill": {
     "duration": 1.51204,
     "end_time": "2022-02-14T05:47:41.574097",
     "exception": false,
     "start_time": "2022-02-14T05:47:40.062057",
     "status": "completed"
    },
    "tags": []
   },
   "outputs": [],
   "source": [
    "import matplotlib.pyplot as plt \n",
    "import seaborn as sns\n",
    "from sklearn.metrics import confusion_matrix,classification_report\n",
    "from sklearn.linear_model import LogisticRegression\n",
    "from sklearn.ensemble import RandomForestClassifier\n",
    "from sklearn.svm import SVC\n",
    "from sklearn.preprocessing import StandardScaler\n",
    "from sklearn.model_selection import train_test_split"
   ]
  },
  {
   "cell_type": "markdown",
   "id": "b36acfa5",
   "metadata": {
    "papermill": {
     "duration": 0.028983,
     "end_time": "2022-02-14T05:47:41.635052",
     "exception": false,
     "start_time": "2022-02-14T05:47:41.606069",
     "status": "completed"
    },
    "tags": []
   },
   "source": [
    "## Importing data files from given csv."
   ]
  },
  {
   "cell_type": "code",
   "execution_count": 3,
   "id": "bd4a679d",
   "metadata": {
    "execution": {
     "iopub.execute_input": "2022-02-14T05:47:41.697126Z",
     "iopub.status.busy": "2022-02-14T05:47:41.696174Z",
     "iopub.status.idle": "2022-02-14T05:47:41.736228Z",
     "shell.execute_reply": "2022-02-14T05:47:41.735645Z",
     "shell.execute_reply.started": "2022-02-14T04:28:43.678930Z"
    },
    "papermill": {
     "duration": 0.072142,
     "end_time": "2022-02-14T05:47:41.736408",
     "exception": false,
     "start_time": "2022-02-14T05:47:41.664266",
     "status": "completed"
    },
    "tags": []
   },
   "outputs": [
    {
     "data": {
      "text/html": [
       "<div>\n",
       "<style scoped>\n",
       "    .dataframe tbody tr th:only-of-type {\n",
       "        vertical-align: middle;\n",
       "    }\n",
       "\n",
       "    .dataframe tbody tr th {\n",
       "        vertical-align: top;\n",
       "    }\n",
       "\n",
       "    .dataframe thead th {\n",
       "        text-align: right;\n",
       "    }\n",
       "</style>\n",
       "<table border=\"1\" class=\"dataframe\">\n",
       "  <thead>\n",
       "    <tr style=\"text-align: right;\">\n",
       "      <th></th>\n",
       "      <th>N</th>\n",
       "      <th>P</th>\n",
       "      <th>K</th>\n",
       "      <th>temperature</th>\n",
       "      <th>humidity</th>\n",
       "      <th>ph</th>\n",
       "      <th>rainfall</th>\n",
       "      <th>label</th>\n",
       "    </tr>\n",
       "  </thead>\n",
       "  <tbody>\n",
       "    <tr>\n",
       "      <th>0</th>\n",
       "      <td>90</td>\n",
       "      <td>42</td>\n",
       "      <td>43</td>\n",
       "      <td>20.879744</td>\n",
       "      <td>82.002744</td>\n",
       "      <td>6.502985</td>\n",
       "      <td>202.935536</td>\n",
       "      <td>rice</td>\n",
       "    </tr>\n",
       "    <tr>\n",
       "      <th>1</th>\n",
       "      <td>85</td>\n",
       "      <td>58</td>\n",
       "      <td>41</td>\n",
       "      <td>21.770462</td>\n",
       "      <td>80.319644</td>\n",
       "      <td>7.038096</td>\n",
       "      <td>226.655537</td>\n",
       "      <td>rice</td>\n",
       "    </tr>\n",
       "    <tr>\n",
       "      <th>2</th>\n",
       "      <td>60</td>\n",
       "      <td>55</td>\n",
       "      <td>44</td>\n",
       "      <td>23.004459</td>\n",
       "      <td>82.320763</td>\n",
       "      <td>7.840207</td>\n",
       "      <td>263.964248</td>\n",
       "      <td>rice</td>\n",
       "    </tr>\n",
       "    <tr>\n",
       "      <th>3</th>\n",
       "      <td>74</td>\n",
       "      <td>35</td>\n",
       "      <td>40</td>\n",
       "      <td>26.491096</td>\n",
       "      <td>80.158363</td>\n",
       "      <td>6.980401</td>\n",
       "      <td>242.864034</td>\n",
       "      <td>rice</td>\n",
       "    </tr>\n",
       "    <tr>\n",
       "      <th>4</th>\n",
       "      <td>78</td>\n",
       "      <td>42</td>\n",
       "      <td>42</td>\n",
       "      <td>20.130175</td>\n",
       "      <td>81.604873</td>\n",
       "      <td>7.628473</td>\n",
       "      <td>262.717340</td>\n",
       "      <td>rice</td>\n",
       "    </tr>\n",
       "  </tbody>\n",
       "</table>\n",
       "</div>"
      ],
      "text/plain": [
       "    N   P   K  temperature   humidity        ph    rainfall label\n",
       "0  90  42  43    20.879744  82.002744  6.502985  202.935536  rice\n",
       "1  85  58  41    21.770462  80.319644  7.038096  226.655537  rice\n",
       "2  60  55  44    23.004459  82.320763  7.840207  263.964248  rice\n",
       "3  74  35  40    26.491096  80.158363  6.980401  242.864034  rice\n",
       "4  78  42  42    20.130175  81.604873  7.628473  262.717340  rice"
      ]
     },
     "execution_count": 3,
     "metadata": {},
     "output_type": "execute_result"
    }
   ],
   "source": [
    "crop_df = pd.read_csv('../input/crop-recommendation-dataset/Crop_recommendation.csv')\n",
    "crop_df.head()"
   ]
  },
  {
   "cell_type": "markdown",
   "id": "3bbcceb4",
   "metadata": {
    "papermill": {
     "duration": 0.029881,
     "end_time": "2022-02-14T05:47:41.797421",
     "exception": false,
     "start_time": "2022-02-14T05:47:41.767540",
     "status": "completed"
    },
    "tags": []
   },
   "source": [
    "## Checking for null values."
   ]
  },
  {
   "cell_type": "code",
   "execution_count": 4,
   "id": "73a8589c",
   "metadata": {
    "execution": {
     "iopub.execute_input": "2022-02-14T05:47:41.867948Z",
     "iopub.status.busy": "2022-02-14T05:47:41.867272Z",
     "iopub.status.idle": "2022-02-14T05:47:41.870931Z",
     "shell.execute_reply": "2022-02-14T05:47:41.870437Z",
     "shell.execute_reply.started": "2022-02-14T04:29:32.749767Z"
    },
    "papermill": {
     "duration": 0.04199,
     "end_time": "2022-02-14T05:47:41.871073",
     "exception": false,
     "start_time": "2022-02-14T05:47:41.829083",
     "status": "completed"
    },
    "tags": []
   },
   "outputs": [
    {
     "data": {
      "text/plain": [
       "N              0\n",
       "P              0\n",
       "K              0\n",
       "temperature    0\n",
       "humidity       0\n",
       "ph             0\n",
       "rainfall       0\n",
       "label          0\n",
       "dtype: int64"
      ]
     },
     "execution_count": 4,
     "metadata": {},
     "output_type": "execute_result"
    }
   ],
   "source": [
    "crop_df.isnull().sum()"
   ]
  },
  {
   "cell_type": "markdown",
   "id": "b37ed72a",
   "metadata": {
    "papermill": {
     "duration": 0.029798,
     "end_time": "2022-02-14T05:47:41.931578",
     "exception": false,
     "start_time": "2022-02-14T05:47:41.901780",
     "status": "completed"
    },
    "tags": []
   },
   "source": [
    "### It shows that, there's no null values in the given dataset."
   ]
  },
  {
   "cell_type": "markdown",
   "id": "1bec0ea3",
   "metadata": {
    "papermill": {
     "duration": 0.029471,
     "end_time": "2022-02-14T05:47:41.991575",
     "exception": false,
     "start_time": "2022-02-14T05:47:41.962104",
     "status": "completed"
    },
    "tags": []
   },
   "source": [
    "# 1. Nitrogen"
   ]
  },
  {
   "cell_type": "code",
   "execution_count": 5,
   "id": "1fefe3ca",
   "metadata": {
    "execution": {
     "iopub.execute_input": "2022-02-14T05:47:42.061207Z",
     "iopub.status.busy": "2022-02-14T05:47:42.060121Z",
     "iopub.status.idle": "2022-02-14T05:47:42.248824Z",
     "shell.execute_reply": "2022-02-14T05:47:42.249423Z",
     "shell.execute_reply.started": "2022-02-14T04:46:46.709775Z"
    },
    "papermill": {
     "duration": 0.228085,
     "end_time": "2022-02-14T05:47:42.249599",
     "exception": false,
     "start_time": "2022-02-14T05:47:42.021514",
     "status": "completed"
    },
    "tags": []
   },
   "outputs": [
    {
     "data": {
      "image/png": "[encoded data removed]",
      "text/plain": [
       "<Figure size 360x288 with 1 Axes>"
      ]
     },
     "metadata": {
      "needs_background": "light"
     },
     "output_type": "display_data"
    }
   ],
   "source": [
    "plt.figure(figsize=(5,4))\n",
    "sns.violinplot(x='N',data=crop_df,color='y');\n",
    "plt.title(\"Nitrogen data\",{'fontsize':15});"
   ]
  },
  {
   "cell_type": "markdown",
   "id": "a2e142c6",
   "metadata": {
    "papermill": {
     "duration": 0.030886,
     "end_time": "2022-02-14T05:47:42.311435",
     "exception": false,
     "start_time": "2022-02-14T05:47:42.280549",
     "status": "completed"
    },
    "tags": []
   },
   "source": [
    "# 2. Potassium"
   ]
  },
  {
   "cell_type": "code",
   "execution_count": 6,
   "id": "c2507159",
   "metadata": {
    "execution": {
     "iopub.execute_input": "2022-02-14T05:47:42.377250Z",
     "iopub.status.busy": "2022-02-14T05:47:42.376597Z",
     "iopub.status.idle": "2022-02-14T05:47:42.550067Z",
     "shell.execute_reply": "2022-02-14T05:47:42.549538Z",
     "shell.execute_reply.started": "2022-02-14T04:47:22.518683Z"
    },
    "papermill": {
     "duration": 0.207392,
     "end_time": "2022-02-14T05:47:42.550226",
     "exception": false,
     "start_time": "2022-02-14T05:47:42.342834",
     "status": "completed"
    },
    "tags": []
   },
   "outputs": [
    {
     "data": {
      "image/png": "[encoded data removed]",
      "text/plain": [
       "<Figure size 360x288 with 1 Axes>"
      ]
     },
     "metadata": {
      "needs_background": "light"
     },
     "output_type": "display_data"
    }
   ],
   "source": [
    "plt.figure(figsize=(5,4))\n",
    "sns.violinplot(x='K',data=crop_df,color='r');\n",
    "plt.title(\"Potassium data\",{'fontsize':15});"
   ]
  },
  {
   "cell_type": "markdown",
   "id": "3fb0116c",
   "metadata": {
    "papermill": {
     "duration": 0.031912,
     "end_time": "2022-02-14T05:47:42.614424",
     "exception": false,
     "start_time": "2022-02-14T05:47:42.582512",
     "status": "completed"
    },
    "tags": []
   },
   "source": [
    "# 3. Phosphorus."
   ]
  },
  {
   "cell_type": "code",
   "execution_count": 7,
   "id": "b1742316",
   "metadata": {
    "execution": {
     "iopub.execute_input": "2022-02-14T05:47:42.685763Z",
     "iopub.status.busy": "2022-02-14T05:47:42.685022Z",
     "iopub.status.idle": "2022-02-14T05:47:42.865507Z",
     "shell.execute_reply": "2022-02-14T05:47:42.865999Z",
     "shell.execute_reply.started": "2022-02-14T04:51:45.495596Z"
    },
    "papermill": {
     "duration": 0.21962,
     "end_time": "2022-02-14T05:47:42.866201",
     "exception": false,
     "start_time": "2022-02-14T05:47:42.646581",
     "status": "completed"
    },
    "tags": []
   },
   "outputs": [
    {
     "data": {
      "image/png": "[encoded data removed]",
      "text/plain": [
       "<Figure size 360x288 with 1 Axes>"
      ]
     },
     "metadata": {
      "needs_background": "light"
     },
     "output_type": "display_data"
    }
   ],
   "source": [
    "plt.figure(figsize=(5,4))\n",
    "sns.violinplot(x='P',data=crop_df,color='b');\n",
    "plt.title(\"Phosphorus data\",{'fontsize':15});"
   ]
  },
  {
   "cell_type": "markdown",
   "id": "db3763d0",
   "metadata": {
    "papermill": {
     "duration": 0.033116,
     "end_time": "2022-02-14T05:47:42.932647",
     "exception": false,
     "start_time": "2022-02-14T05:47:42.899531",
     "status": "completed"
    },
    "tags": []
   },
   "source": [
    "# 4. Temperature."
   ]
  },
  {
   "cell_type": "code",
   "execution_count": 8,
   "id": "a3235aee",
   "metadata": {
    "execution": {
     "iopub.execute_input": "2022-02-14T05:47:43.007137Z",
     "iopub.status.busy": "2022-02-14T05:47:43.006412Z",
     "iopub.status.idle": "2022-02-14T05:47:43.200590Z",
     "shell.execute_reply": "2022-02-14T05:47:43.199624Z",
     "shell.execute_reply.started": "2022-02-14T04:58:44.113742Z"
    },
    "papermill": {
     "duration": 0.234515,
     "end_time": "2022-02-14T05:47:43.200744",
     "exception": false,
     "start_time": "2022-02-14T05:47:42.966229",
     "status": "completed"
    },
    "tags": []
   },
   "outputs": [
    {
     "data": {
      "image/png": "[encoded data removed]",
      "text/plain": [
       "<Figure size 360x288 with 1 Axes>"
      ]
     },
     "metadata": {
      "needs_background": "light"
     },
     "output_type": "display_data"
    }
   ],
   "source": [
    "plt.figure(figsize=(5,4))\n",
    "sns.violinplot(x='temperature',data=crop_df,color='g');\n",
    "plt.title(\"Temperature data\",{'fontsize':15});"
   ]
  },
  {
   "cell_type": "markdown",
   "id": "d57f4199",
   "metadata": {
    "papermill": {
     "duration": 0.034185,
     "end_time": "2022-02-14T05:47:43.269085",
     "exception": false,
     "start_time": "2022-02-14T05:47:43.234900",
     "status": "completed"
    },
    "tags": []
   },
   "source": [
    "# 5. Humidity."
   ]
  },
  {
   "cell_type": "code",
   "execution_count": 9,
   "id": "4997e5e5",
   "metadata": {
    "execution": {
     "iopub.execute_input": "2022-02-14T05:47:43.340999Z",
     "iopub.status.busy": "2022-02-14T05:47:43.340334Z",
     "iopub.status.idle": "2022-02-14T05:47:43.528592Z",
     "shell.execute_reply": "2022-02-14T05:47:43.527973Z",
     "shell.execute_reply.started": "2022-02-14T05:15:31.170794Z"
    },
    "papermill": {
     "duration": 0.225271,
     "end_time": "2022-02-14T05:47:43.528736",
     "exception": false,
     "start_time": "2022-02-14T05:47:43.303465",
     "status": "completed"
    },
    "tags": []
   },
   "outputs": [
    {
     "data": {
      "image/png": "[encoded data removed]",
      "text/plain": [
       "<Figure size 360x288 with 1 Axes>"
      ]
     },
     "metadata": {
      "needs_background": "light"
     },
     "output_type": "display_data"
    }
   ],
   "source": [
    "plt.figure(figsize=(5,4))\n",
    "sns.violinplot(x='ph',data=crop_df,color='r');\n",
    "plt.title(\"PH data\",{'fontsize':15});"
   ]
  },
  {
   "cell_type": "markdown",
   "id": "3e730259",
   "metadata": {
    "papermill": {
     "duration": 0.034851,
     "end_time": "2022-02-14T05:47:43.599307",
     "exception": false,
     "start_time": "2022-02-14T05:47:43.564456",
     "status": "completed"
    },
    "tags": []
   },
   "source": [
    "# Listing column names of given dataset"
   ]
  },
  {
   "cell_type": "code",
   "execution_count": 10,
   "id": "40ead43d",
   "metadata": {
    "execution": {
     "iopub.execute_input": "2022-02-14T05:47:43.675066Z",
     "iopub.status.busy": "2022-02-14T05:47:43.674424Z",
     "iopub.status.idle": "2022-02-14T05:47:43.676883Z",
     "shell.execute_reply": "2022-02-14T05:47:43.677462Z",
     "shell.execute_reply.started": "2022-02-14T05:06:01.375397Z"
    },
    "papermill": {
     "duration": 0.04329,
     "end_time": "2022-02-14T05:47:43.677623",
     "exception": false,
     "start_time": "2022-02-14T05:47:43.634333",
     "status": "completed"
    },
    "tags": []
   },
   "outputs": [
    {
     "data": {
      "text/plain": [
       "Index(['N', 'P', 'K', 'temperature', 'humidity', 'ph', 'rainfall', 'label'], dtype='object')"
      ]
     },
     "execution_count": 10,
     "metadata": {},
     "output_type": "execute_result"
    }
   ],
   "source": [
    "crop_df.columns"
   ]
  },
  {
   "cell_type": "markdown",
   "id": "1003a310",
   "metadata": {
    "papermill": {
     "duration": 0.03514,
     "end_time": "2022-02-14T05:47:43.749119",
     "exception": false,
     "start_time": "2022-02-14T05:47:43.713979",
     "status": "completed"
    },
    "tags": []
   },
   "source": [
    "## Table "
   ]
  },
  {
   "cell_type": "code",
   "execution_count": 11,
   "id": "444c8409",
   "metadata": {
    "execution": {
     "iopub.execute_input": "2022-02-14T05:47:43.823283Z",
     "iopub.status.busy": "2022-02-14T05:47:43.822592Z",
     "iopub.status.idle": "2022-02-14T05:47:43.835172Z",
     "shell.execute_reply": "2022-02-14T05:47:43.835694Z",
     "shell.execute_reply.started": "2022-02-14T05:15:57.525457Z"
    },
    "papermill": {
     "duration": 0.051605,
     "end_time": "2022-02-14T05:47:43.835887",
     "exception": false,
     "start_time": "2022-02-14T05:47:43.784282",
     "status": "completed"
    },
    "tags": []
   },
   "outputs": [
    {
     "data": {
      "text/html": [
       "<div>\n",
       "<style scoped>\n",
       "    .dataframe tbody tr th:only-of-type {\n",
       "        vertical-align: middle;\n",
       "    }\n",
       "\n",
       "    .dataframe tbody tr th {\n",
       "        vertical-align: top;\n",
       "    }\n",
       "\n",
       "    .dataframe thead th {\n",
       "        text-align: right;\n",
       "    }\n",
       "</style>\n",
       "<table border=\"1\" class=\"dataframe\">\n",
       "  <thead>\n",
       "    <tr style=\"text-align: right;\">\n",
       "      <th></th>\n",
       "      <th>N</th>\n",
       "      <th>P</th>\n",
       "      <th>K</th>\n",
       "      <th>temperature</th>\n",
       "      <th>humidity</th>\n",
       "      <th>ph</th>\n",
       "      <th>rainfall</th>\n",
       "      <th>label</th>\n",
       "    </tr>\n",
       "  </thead>\n",
       "  <tbody>\n",
       "    <tr>\n",
       "      <th>0</th>\n",
       "      <td>90</td>\n",
       "      <td>42</td>\n",
       "      <td>43</td>\n",
       "      <td>20.879744</td>\n",
       "      <td>82.002744</td>\n",
       "      <td>6.502985</td>\n",
       "      <td>202.935536</td>\n",
       "      <td>rice</td>\n",
       "    </tr>\n",
       "    <tr>\n",
       "      <th>1</th>\n",
       "      <td>85</td>\n",
       "      <td>58</td>\n",
       "      <td>41</td>\n",
       "      <td>21.770462</td>\n",
       "      <td>80.319644</td>\n",
       "      <td>7.038096</td>\n",
       "      <td>226.655537</td>\n",
       "      <td>rice</td>\n",
       "    </tr>\n",
       "    <tr>\n",
       "      <th>2</th>\n",
       "      <td>60</td>\n",
       "      <td>55</td>\n",
       "      <td>44</td>\n",
       "      <td>23.004459</td>\n",
       "      <td>82.320763</td>\n",
       "      <td>7.840207</td>\n",
       "      <td>263.964248</td>\n",
       "      <td>rice</td>\n",
       "    </tr>\n",
       "    <tr>\n",
       "      <th>3</th>\n",
       "      <td>74</td>\n",
       "      <td>35</td>\n",
       "      <td>40</td>\n",
       "      <td>26.491096</td>\n",
       "      <td>80.158363</td>\n",
       "      <td>6.980401</td>\n",
       "      <td>242.864034</td>\n",
       "      <td>rice</td>\n",
       "    </tr>\n",
       "    <tr>\n",
       "      <th>4</th>\n",
       "      <td>78</td>\n",
       "      <td>42</td>\n",
       "      <td>42</td>\n",
       "      <td>20.130175</td>\n",
       "      <td>81.604873</td>\n",
       "      <td>7.628473</td>\n",
       "      <td>262.717340</td>\n",
       "      <td>rice</td>\n",
       "    </tr>\n",
       "  </tbody>\n",
       "</table>\n",
       "</div>"
      ],
      "text/plain": [
       "    N   P   K  temperature   humidity        ph    rainfall label\n",
       "0  90  42  43    20.879744  82.002744  6.502985  202.935536  rice\n",
       "1  85  58  41    21.770462  80.319644  7.038096  226.655537  rice\n",
       "2  60  55  44    23.004459  82.320763  7.840207  263.964248  rice\n",
       "3  74  35  40    26.491096  80.158363  6.980401  242.864034  rice\n",
       "4  78  42  42    20.130175  81.604873  7.628473  262.717340  rice"
      ]
     },
     "execution_count": 11,
     "metadata": {},
     "output_type": "execute_result"
    }
   ],
   "source": [
    "crop_df.head()"
   ]
  },
  {
   "cell_type": "code",
   "execution_count": 12,
   "id": "dc7ffdab",
   "metadata": {
    "execution": {
     "iopub.execute_input": "2022-02-14T05:47:43.911480Z",
     "iopub.status.busy": "2022-02-14T05:47:43.910824Z",
     "iopub.status.idle": "2022-02-14T05:47:43.920293Z",
     "shell.execute_reply": "2022-02-14T05:47:43.920802Z",
     "shell.execute_reply.started": "2022-02-14T05:17:59.936182Z"
    },
    "papermill": {
     "duration": 0.048953,
     "end_time": "2022-02-14T05:47:43.920982",
     "exception": false,
     "start_time": "2022-02-14T05:47:43.872029",
     "status": "completed"
    },
    "tags": []
   },
   "outputs": [],
   "source": [
    "crop_df['no_label'] = pd.Categorical(crop_df.label).codes"
   ]
  },
  {
   "cell_type": "markdown",
   "id": "c89d6fce",
   "metadata": {
    "papermill": {
     "duration": 0.035896,
     "end_time": "2022-02-14T05:47:43.993870",
     "exception": false,
     "start_time": "2022-02-14T05:47:43.957974",
     "status": "completed"
    },
    "tags": []
   },
   "source": [
    "### Droping the no_label."
   ]
  },
  {
   "cell_type": "code",
   "execution_count": 13,
   "id": "e3ff7699",
   "metadata": {
    "execution": {
     "iopub.execute_input": "2022-02-14T05:47:44.069192Z",
     "iopub.status.busy": "2022-02-14T05:47:44.068507Z",
     "iopub.status.idle": "2022-02-14T05:47:44.074577Z",
     "shell.execute_reply": "2022-02-14T05:47:44.075048Z",
     "shell.execute_reply.started": "2022-02-14T05:18:02.608879Z"
    },
    "papermill": {
     "duration": 0.045457,
     "end_time": "2022-02-14T05:47:44.075231",
     "exception": false,
     "start_time": "2022-02-14T05:47:44.029774",
     "status": "completed"
    },
    "tags": []
   },
   "outputs": [],
   "source": [
    "X = crop_df.drop(['label','no_label'],axis=1)\n",
    "y = crop_df.no_label"
   ]
  },
  {
   "cell_type": "code",
   "execution_count": 14,
   "id": "eb71d563",
   "metadata": {
    "execution": {
     "iopub.execute_input": "2022-02-14T05:47:44.151601Z",
     "iopub.status.busy": "2022-02-14T05:47:44.150936Z",
     "iopub.status.idle": "2022-02-14T05:47:44.155997Z",
     "shell.execute_reply": "2022-02-14T05:47:44.156463Z",
     "shell.execute_reply.started": "2022-02-14T05:18:05.321646Z"
    },
    "papermill": {
     "duration": 0.045205,
     "end_time": "2022-02-14T05:47:44.156636",
     "exception": false,
     "start_time": "2022-02-14T05:47:44.111431",
     "status": "completed"
    },
    "tags": []
   },
   "outputs": [],
   "source": [
    "X_train,X_test,y_train,y_test = train_test_split(X,y,test_size=0.2)"
   ]
  },
  {
   "cell_type": "markdown",
   "id": "af0b19eb",
   "metadata": {
    "papermill": {
     "duration": 0.035472,
     "end_time": "2022-02-14T05:47:44.228223",
     "exception": false,
     "start_time": "2022-02-14T05:47:44.192751",
     "status": "completed"
    },
    "tags": []
   },
   "source": [
    "# Building Model."
   ]
  },
  {
   "cell_type": "code",
   "execution_count": 15,
   "id": "c3b4ac07",
   "metadata": {
    "execution": {
     "iopub.execute_input": "2022-02-14T05:47:44.307485Z",
     "iopub.status.busy": "2022-02-14T05:47:44.306405Z",
     "iopub.status.idle": "2022-02-14T05:47:44.314731Z",
     "shell.execute_reply": "2022-02-14T05:47:44.314049Z",
     "shell.execute_reply.started": "2022-02-14T05:19:10.813928Z"
    },
    "papermill": {
     "duration": 0.050883,
     "end_time": "2022-02-14T05:47:44.314886",
     "exception": false,
     "start_time": "2022-02-14T05:47:44.264003",
     "status": "completed"
    },
    "tags": []
   },
   "outputs": [],
   "source": [
    "scalar = StandardScaler()\n",
    "X_train = scalar.fit_transform(X_train)\n",
    "X_test = scalar.transform(X_test)"
   ]
  },
  {
   "cell_type": "code",
   "execution_count": 16,
   "id": "390edfd5",
   "metadata": {
    "execution": {
     "iopub.execute_input": "2022-02-14T05:47:44.394576Z",
     "iopub.status.busy": "2022-02-14T05:47:44.393522Z",
     "iopub.status.idle": "2022-02-14T05:47:45.338774Z",
     "shell.execute_reply": "2022-02-14T05:47:45.339526Z",
     "shell.execute_reply.started": "2022-02-14T05:31:04.806774Z"
    },
    "papermill": {
     "duration": 0.988652,
     "end_time": "2022-02-14T05:47:45.339799",
     "exception": false,
     "start_time": "2022-02-14T05:47:44.351147",
     "status": "completed"
    },
    "tags": []
   },
   "outputs": [
    {
     "name": "stdout",
     "output_type": "stream",
     "text": [
      "Accuracy for {name} is :  97.04545454545455 %\n",
      "Accuracy for {name} is :  99.77272727272727 %\n",
      "Accuracy for {name} is :  97.72727272727273 %\n"
     ]
    }
   ],
   "source": [
    "models = {\n",
    "    LogisticRegression(max_iter=500):'Logistic',\n",
    "    RandomForestClassifier():'Forest',\n",
    "    SVC():'Support Vector Machine'\n",
    "}\n",
    "for m in models.keys():\n",
    "    m.fit(X_train,y_train)\n",
    "for model,name in models.items():\n",
    "     print(\"Accuracy for {name} is : \",model.score(X_test,y_test)*100,\"%\")"
   ]
  },
  {
   "cell_type": "markdown",
   "id": "25936c5b",
   "metadata": {
    "papermill": {
     "duration": 0.039519,
     "end_time": "2022-02-14T05:47:45.417059",
     "exception": false,
     "start_time": "2022-02-14T05:47:45.377540",
     "status": "completed"
    },
    "tags": []
   },
   "source": [
    "### accuracy score for Forest is 100%."
   ]
  },
  {
   "cell_type": "code",
   "execution_count": 17,
   "id": "44352a99",
   "metadata": {
    "execution": {
     "iopub.execute_input": "2022-02-14T05:47:45.539683Z",
     "iopub.status.busy": "2022-02-14T05:47:45.503158Z",
     "iopub.status.idle": "2022-02-14T05:47:45.920478Z",
     "shell.execute_reply": "2022-02-14T05:47:45.919874Z",
     "shell.execute_reply.started": "2022-02-14T05:25:14.575100Z"
    },
    "papermill": {
     "duration": 0.466077,
     "end_time": "2022-02-14T05:47:45.920626",
     "exception": false,
     "start_time": "2022-02-14T05:47:45.454549",
     "status": "completed"
    },
    "tags": []
   },
   "outputs": [],
   "source": [
    "rf = RandomForestClassifier()\n",
    "rf.fit(X_train,y_train)\n",
    "y_pred = rf.predict(X_test)"
   ]
  },
  {
   "cell_type": "code",
   "execution_count": 18,
   "id": "0e824972",
   "metadata": {
    "execution": {
     "iopub.execute_input": "2022-02-14T05:47:46.000630Z",
     "iopub.status.busy": "2022-02-14T05:47:45.999884Z",
     "iopub.status.idle": "2022-02-14T05:47:46.009654Z",
     "shell.execute_reply": "2022-02-14T05:47:46.008754Z",
     "shell.execute_reply.started": "2022-02-14T05:25:28.813302Z"
    },
    "papermill": {
     "duration": 0.052433,
     "end_time": "2022-02-14T05:47:46.009856",
     "exception": false,
     "start_time": "2022-02-14T05:47:45.957423",
     "status": "completed"
    },
    "tags": []
   },
   "outputs": [
    {
     "name": "stdout",
     "output_type": "stream",
     "text": [
      "              precision    recall  f1-score   support\n",
      "\n",
      "           0       1.00      1.00      1.00        18\n",
      "           1       1.00      1.00      1.00        21\n",
      "           2       1.00      1.00      1.00        19\n",
      "           3       1.00      1.00      1.00        21\n",
      "           4       1.00      1.00      1.00        19\n",
      "           5       1.00      1.00      1.00        23\n",
      "           6       1.00      1.00      1.00        22\n",
      "           7       1.00      1.00      1.00        18\n",
      "           8       0.96      1.00      0.98        22\n",
      "           9       1.00      1.00      1.00        14\n",
      "          10       1.00      1.00      1.00        22\n",
      "          11       1.00      1.00      1.00        15\n",
      "          12       1.00      1.00      1.00        25\n",
      "          13       1.00      1.00      1.00        20\n",
      "          14       1.00      1.00      1.00        23\n",
      "          15       1.00      1.00      1.00        20\n",
      "          16       1.00      1.00      1.00        17\n",
      "          17       1.00      1.00      1.00        27\n",
      "          18       1.00      1.00      1.00        21\n",
      "          19       1.00      1.00      1.00        19\n",
      "          20       1.00      0.95      0.97        19\n",
      "          21       1.00      1.00      1.00        15\n",
      "\n",
      "    accuracy                           1.00       440\n",
      "   macro avg       1.00      1.00      1.00       440\n",
      "weighted avg       1.00      1.00      1.00       440\n",
      "\n"
     ]
    }
   ],
   "source": [
    "print(classification_report(y_test,y_pred))"
   ]
  },
  {
   "cell_type": "markdown",
   "id": "23cc2c12",
   "metadata": {
    "papermill": {
     "duration": 0.038021,
     "end_time": "2022-02-14T05:47:46.086136",
     "exception": false,
     "start_time": "2022-02-14T05:47:46.048115",
     "status": "completed"
    },
    "tags": []
   },
   "source": [
    "# Predictions."
   ]
  },
  {
   "cell_type": "code",
   "execution_count": 19,
   "id": "09462c5a",
   "metadata": {
    "execution": {
     "iopub.execute_input": "2022-02-14T05:47:46.185109Z",
     "iopub.status.busy": "2022-02-14T05:47:46.182695Z",
     "iopub.status.idle": "2022-02-14T05:47:46.642377Z",
     "shell.execute_reply": "2022-02-14T05:47:46.641708Z",
     "shell.execute_reply.started": "2022-02-14T05:29:30.149957Z"
    },
    "papermill": {
     "duration": 0.518901,
     "end_time": "2022-02-14T05:47:46.642544",
     "exception": false,
     "start_time": "2022-02-14T05:47:46.123643",
     "status": "completed"
    },
    "tags": []
   },
   "outputs": [
    {
     "data": {
      "image/png": "[encoded data removed]",
      "text/plain": [
       "<Figure size 432x288 with 2 Axes>"
      ]
     },
     "metadata": {
      "needs_background": "light"
     },
     "output_type": "display_data"
    }
   ],
   "source": [
    "class_names = np.arange(0,21)\n",
    "fig,ax = plt.subplots()\n",
    "tick_marks = np.arange(len(class_names))\n",
    "plt.xticks(tick_marks,class_names)\n",
    "plt.yticks(tick_marks,class_names)\n",
    "cnf_matrix = confusion_matrix(y_test,y_pred)\n",
    "sns.heatmap(pd.DataFrame(cnf_matrix), annot = False,fmt = 'd')\n",
    "ax.xaxis.set_label_position('bottom')\n",
    "plt.tight_layout()\n",
    "plt.title('Confusion Matrix for Forest', {'fontsize':15})\n",
    "plt.ylabel('Actual Values')\n",
    "plt.xlabel('Predicted Values')\n",
    "plt.show()"
   ]
  },
  {
   "cell_type": "markdown",
   "id": "edd33565",
   "metadata": {
    "papermill": {
     "duration": 0.038683,
     "end_time": "2022-02-14T05:47:46.720576",
     "exception": false,
     "start_time": "2022-02-14T05:47:46.681893",
     "status": "completed"
    },
    "tags": []
   },
   "source": [
    "# Thank you ."
   ]
  }
 ],
 "metadata": {
  "kernelspec": {
   "display_name": "Python 3",
   "language": "python",
   "name": "python3"
  },
  "language_info": {
   "codemirror_mode": {
    "name": "ipython",
    "version": 3
   },
   "file_extension": ".py",
   "mimetype": "text/x-python",
   "name": "python",
   "nbconvert_exporter": "python",
   "pygments_lexer": "ipython3",
   "version": "3.7.12"
  },
  "papermill": {
   "default_parameters": {},
   "duration": 18.176613,
   "end_time": "2022-02-14T05:47:47.469263",
   "environment_variables": {},
   "exception": null,
   "input_path": "__notebook__.ipynb",
   "output_path": "__notebook__.ipynb",
   "parameters": {},
   "start_time": "2022-02-14T05:47:29.292650",
   "version": "2.3.3"
  }
 },
 "nbformat": 4,
 "nbformat_minor": 5
}
