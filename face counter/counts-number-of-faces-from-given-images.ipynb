{
 "cells": [
  {
   "cell_type": "code",
   "execution_count": null,
   "id": "ab646b19",
   "metadata": {
    "_cell_guid": "b1076dfc-b9ad-4769-8c92-a6c4dae69d19",
    "_uuid": "8f2839f25d086af736a60e9eeb907d3b93b6e0e5",
    "collapsed": true,
    "execution": {
     "iopub.execute_input": "2022-02-11T04:57:35.263699Z",
     "iopub.status.busy": "2022-02-11T04:57:35.263224Z",
     "iopub.status.idle": "2022-02-11T04:57:45.850953Z",
     "shell.execute_reply": "2022-02-11T04:57:45.850389Z",
     "shell.execute_reply.started": "2022-02-11T04:57:35.263659Z"
    },
    "jupyter": {
     "outputs_hidden": true
    },
    "papermill": {
     "duration": null,
     "end_time": null,
     "exception": false,
     "start_time": "2022-02-11T05:13:52.578445",
     "status": "running"
    },
    "tags": []
   },
   "outputs": [],
   "source": [
    "# This Python 3 environment comes with many helpful analytics libraries installed\n",
    "# It is defined by the kaggle/python Docker image: https://github.com/kaggle/docker-python\n",
    "# For example, here's several helpful packages to load\n",
    "\n",
    "import numpy as np # linear algebra\n",
    "import pandas as pd # data processing, CSV file I/O (e.g. pd.read_csv)\n",
    "\n",
    "# Input data files are available in the read-only \"../input/\" directory\n",
    "# For example, running this (by clicking run or pressing Shift+Enter) will list all files under the input directory\n",
    "\n",
    "import os\n",
    "for dirname, _, filenames in os.walk('/kaggle/input'):\n",
    "    for filename in filenames:\n",
    "        print(os.path.join(dirname, filename))\n",
    "\n",
    "# You can write up to 20GB to the current directory (/kaggle/working/) that gets preserved as output when you create a version using \"Save & Run All\" \n",
    "# You can also write temporary files to /kaggle/temp/, but they won't be saved outside of the current session"
   ]
  },
  {
   "cell_type": "code",
   "execution_count": null,
   "id": "cc728635",
   "metadata": {
    "execution": {
     "iopub.execute_input": "2022-02-11T04:57:59.854823Z",
     "iopub.status.busy": "2022-02-11T04:57:59.854296Z",
     "iopub.status.idle": "2022-02-11T04:58:09.352221Z",
     "shell.execute_reply": "2022-02-11T04:58:09.351408Z",
     "shell.execute_reply.started": "2022-02-11T04:57:59.854783Z"
    },
    "papermill": {
     "duration": null,
     "end_time": null,
     "exception": null,
     "start_time": null,
     "status": "pending"
    },
    "tags": []
   },
   "outputs": [],
   "source": [
    "!pip install mtcnn"
   ]
  },
  {
   "cell_type": "code",
   "execution_count": null,
   "id": "2e14b096",
   "metadata": {
    "execution": {
     "iopub.execute_input": "2022-02-11T04:58:09.354369Z",
     "iopub.status.busy": "2022-02-11T04:58:09.354138Z",
     "iopub.status.idle": "2022-02-11T04:58:15.320942Z",
     "shell.execute_reply": "2022-02-11T04:58:15.320214Z",
     "shell.execute_reply.started": "2022-02-11T04:58:09.354342Z"
    },
    "papermill": {
     "duration": null,
     "end_time": null,
     "exception": null,
     "start_time": null,
     "status": "pending"
    },
    "tags": []
   },
   "outputs": [],
   "source": [
    "import pandas\n",
    "import mtcnn\n",
    "from IPython.display import Image\n",
    "from matplotlib import pyplot\n",
    "from mtcnn.mtcnn import MTCNN\n",
    "from matplotlib.patches import Rectangle\n",
    "from matplotlib.patches import Circle\n",
    "from tqdm import tqdm\n",
    "import sklearn.metrics as metrics"
   ]
  },
  {
   "cell_type": "markdown",
   "id": "093ced43",
   "metadata": {
    "papermill": {
     "duration": null,
     "end_time": null,
     "exception": null,
     "start_time": null,
     "status": "pending"
    },
    "tags": []
   },
   "source": [
    "# Making some random counts using pre defined algorithms."
   ]
  },
  {
   "cell_type": "code",
   "execution_count": null,
   "id": "22e9cd8e",
   "metadata": {
    "execution": {
     "iopub.execute_input": "2022-02-11T04:58:15.322845Z",
     "iopub.status.busy": "2022-02-11T04:58:15.322606Z",
     "iopub.status.idle": "2022-02-11T04:58:15.359788Z",
     "shell.execute_reply": "2022-02-11T04:58:15.359118Z",
     "shell.execute_reply.started": "2022-02-11T04:58:15.322814Z"
    },
    "papermill": {
     "duration": null,
     "end_time": null,
     "exception": null,
     "start_time": null,
     "status": "pending"
    },
    "tags": []
   },
   "outputs": [],
   "source": [
    "base_directory = r\"/kaggle/input/count-the-number-of-faces-present-in-an-image\"\n",
    "train_directory = r\"/train\"\n",
    "image_directory = base_directory + train_directory + r\"/image_data\"\n",
    "\n",
    "train_dataframe = pandas.read_csv(base_directory + r\"/train/train.csv\")\n",
    "test_dataframe = pandas.read_csv(base_directory + r\"/test.csv\")\n",
    "target = train_dataframe.columns[-1]\n",
    "\n",
    "train_dataframe.head(3)"
   ]
  },
  {
   "cell_type": "markdown",
   "id": "407393b9",
   "metadata": {
    "papermill": {
     "duration": null,
     "end_time": null,
     "exception": null,
     "start_time": null,
     "status": "pending"
    },
    "tags": []
   },
   "source": [
    "# Checking sample images "
   ]
  },
  {
   "cell_type": "code",
   "execution_count": null,
   "id": "1fa1b2e3",
   "metadata": {
    "execution": {
     "iopub.execute_input": "2022-02-11T04:59:06.804120Z",
     "iopub.status.busy": "2022-02-11T04:59:06.803853Z",
     "iopub.status.idle": "2022-02-11T04:59:06.816378Z",
     "shell.execute_reply": "2022-02-11T04:59:06.815560Z",
     "shell.execute_reply.started": "2022-02-11T04:59:06.804088Z"
    },
    "papermill": {
     "duration": null,
     "end_time": null,
     "exception": null,
     "start_time": null,
     "status": "pending"
    },
    "tags": []
   },
   "outputs": [],
   "source": [
    "def display_image(filename, head_count='Test set'):\n",
    "    display(Image(image_directory + \"/\" + filename, width = 700, height = 200), \"HeadCount: \"+ head_count.astype(str))\n",
    "    \n",
    "display_image(train_dataframe.iloc[0, 0], train_dataframe.iloc[0, 1])"
   ]
  },
  {
   "cell_type": "markdown",
   "id": "b6f629b3",
   "metadata": {
    "papermill": {
     "duration": null,
     "end_time": null,
     "exception": null,
     "start_time": null,
     "status": "pending"
    },
    "tags": []
   },
   "source": []
  },
  {
   "cell_type": "code",
   "execution_count": null,
   "id": "f1219e45",
   "metadata": {
    "execution": {
     "iopub.execute_input": "2022-02-11T05:06:40.975908Z",
     "iopub.status.busy": "2022-02-11T05:06:40.975292Z",
     "iopub.status.idle": "2022-02-11T05:06:40.982756Z",
     "shell.execute_reply": "2022-02-11T05:06:40.982031Z",
     "shell.execute_reply.started": "2022-02-11T05:06:40.975867Z"
    },
    "papermill": {
     "duration": null,
     "end_time": null,
     "exception": null,
     "start_time": null,
     "status": "pending"
    },
    "tags": []
   },
   "outputs": [],
   "source": [
    "def draw_image_with_boxes(filename, result_list):\n",
    "    fig, ax = pyplot.subplots(figsize=(15, 8))\n",
    "    # load all the images from the dataset.\n",
    "    data = pyplot.imread(image_directory + \"/\" + filename)\n",
    "    # plot the images\n",
    "    pyplot.imshow(data)\n",
    "    # get the context for drawing boxes\n",
    "    ax = pyplot.gca()\n",
    "    # plot each box\n",
    "    for result in result_list:\n",
    "        # get coordinates\n",
    "        x, y, width, height = result['box']\n",
    "        # create the shape\n",
    "        rect = Rectangle((x, y), width, height, fill=False, color='red')\n",
    "        # draw the box\n",
    "        ax.add_patch(rect)\n",
    "        # draw the dots\n",
    "        for key, value in result['keypoints'].items():\n",
    "            # create and draw dot\n",
    "            dot = Circle(value, radius=2, color='red')\n",
    "            ax.add_patch(dot)\n",
    "    # show the plot\n",
    "    pyplot.show()"
   ]
  },
  {
   "cell_type": "code",
   "execution_count": null,
   "id": "cbb598f5",
   "metadata": {
    "execution": {
     "iopub.execute_input": "2022-02-11T05:07:14.145092Z",
     "iopub.status.busy": "2022-02-11T05:07:14.144810Z",
     "iopub.status.idle": "2022-02-11T05:07:14.387303Z",
     "shell.execute_reply": "2022-02-11T05:07:14.386513Z",
     "shell.execute_reply.started": "2022-02-11T05:07:14.145061Z"
    },
    "papermill": {
     "duration": null,
     "end_time": null,
     "exception": null,
     "start_time": null,
     "status": "pending"
    },
    "tags": []
   },
   "outputs": [],
   "source": [
    "errors = []\n",
    "\n",
    "detector = MTCNN()\n",
    "def detect_faces(filename):\n",
    "    try:\n",
    "        current_image = pyplot.imread(image_directory + \"/\" + filename)\n",
    "        boxes = detector.detect_faces(current_image)\n",
    "        length = len(boxes)\n",
    "    except ValueError:\n",
    "        errors.append(filename)\n",
    "        return filename, [], 0\n",
    "    \n",
    "    return filename, boxes, length"
   ]
  },
  {
   "cell_type": "markdown",
   "id": "9908f130",
   "metadata": {
    "papermill": {
     "duration": null,
     "end_time": null,
     "exception": null,
     "start_time": null,
     "status": "pending"
    },
    "tags": []
   },
   "source": [
    "## Model predictions and mapping on images . "
   ]
  },
  {
   "cell_type": "code",
   "execution_count": null,
   "id": "af2e1a09",
   "metadata": {
    "execution": {
     "iopub.execute_input": "2022-02-11T05:11:48.014031Z",
     "iopub.status.busy": "2022-02-11T05:11:48.013310Z",
     "iopub.status.idle": "2022-02-11T05:11:49.216446Z",
     "shell.execute_reply": "2022-02-11T05:11:49.215812Z",
     "shell.execute_reply.started": "2022-02-11T05:11:48.013988Z"
    },
    "papermill": {
     "duration": null,
     "end_time": null,
     "exception": null,
     "start_time": null,
     "status": "pending"
    },
    "tags": []
   },
   "outputs": [],
   "source": [
    "def single_image_analysis(filename, expected_pred):\n",
    "    _, detected_boxes, _ = detect_faces(train_dataframe.iloc[0, 0])\n",
    "    draw_image_with_boxes(train_dataframe.iloc[0, 0], detected_boxes)\n",
    "\n",
    "    print(f\"expected prediction: {train_dataframe.iloc[0, 1]}, actually detected: {len(detected_boxes)}\")\n",
    "    \n",
    "\n",
    "single_image_analysis(train_dataframe.iloc[0, 0], train_dataframe.iloc[0, 1])"
   ]
  },
  {
   "cell_type": "markdown",
   "id": "59ba5f4b",
   "metadata": {
    "papermill": {
     "duration": null,
     "end_time": null,
     "exception": null,
     "start_time": null,
     "status": "pending"
    },
    "tags": []
   },
   "source": [
    "### now the algorithm is predicting the human faces correctly."
   ]
  },
  {
   "cell_type": "code",
   "execution_count": null,
   "id": "28731672",
   "metadata": {
    "execution": {
     "iopub.execute_input": "2022-02-11T05:12:42.978914Z",
     "iopub.status.busy": "2022-02-11T05:12:42.978354Z",
     "iopub.status.idle": "2022-02-11T05:13:06.786137Z",
     "shell.execute_reply": "2022-02-11T05:13:06.785409Z",
     "shell.execute_reply.started": "2022-02-11T05:12:42.978873Z"
    },
    "papermill": {
     "duration": null,
     "end_time": null,
     "exception": null,
     "start_time": null,
     "status": "pending"
    },
    "tags": []
   },
   "outputs": [],
   "source": [
    "image_files = train_dataframe.iloc[0:50, 0]\n",
    "targets = train_dataframe.iloc[0:50, 1]\n",
    "predicted = []\n",
    "\n",
    "for image in tqdm(image_files):\n",
    "    predicted.append(detect_faces(image))"
   ]
  },
  {
   "cell_type": "code",
   "execution_count": null,
   "id": "c92c95f9",
   "metadata": {
    "execution": {
     "iopub.execute_input": "2022-02-11T05:13:18.799921Z",
     "iopub.status.busy": "2022-02-11T05:13:18.799417Z",
     "iopub.status.idle": "2022-02-11T05:13:18.816201Z",
     "shell.execute_reply": "2022-02-11T05:13:18.815281Z",
     "shell.execute_reply.started": "2022-02-11T05:13:18.799879Z"
    },
    "papermill": {
     "duration": null,
     "end_time": null,
     "exception": null,
     "start_time": null,
     "status": "pending"
    },
    "tags": []
   },
   "outputs": [],
   "source": [
    "predicted_faces = [pred[2] for pred in predicted]\n",
    "print(f\"r2 score: {metrics.r2_score(targets, predicted_faces)}\")\n",
    "\n",
    "incorrect_predictions = []\n",
    "for itr in range(targets.shape[0]):\n",
    "    if targets[itr] != predicted_faces[itr]:\n",
    "        current_list = [] \n",
    "        current_list.append(train_dataframe.iloc[itr, :].values)\n",
    "        current_list.append(predicted_faces[itr])\n",
    "        \n",
    "        incorrect_predictions.append(current_list)"
   ]
  },
  {
   "cell_type": "code",
   "execution_count": null,
   "id": "e236acb4",
   "metadata": {
    "papermill": {
     "duration": null,
     "end_time": null,
     "exception": null,
     "start_time": null,
     "status": "pending"
    },
    "tags": []
   },
   "outputs": [],
   "source": []
  }
 ],
 "metadata": {
  "kernelspec": {
   "display_name": "Python 3",
   "language": "python",
   "name": "python3"
  },
  "language_info": {
   "codemirror_mode": {
    "name": "ipython",
    "version": 3
   },
   "file_extension": ".py",
   "mimetype": "text/x-python",
   "name": "python",
   "nbconvert_exporter": "python",
   "pygments_lexer": "ipython3",
   "version": "3.6.4"
  },
  "papermill": {
   "default_parameters": {},
   "duration": null,
   "end_time": null,
   "environment_variables": {},
   "exception": null,
   "input_path": "__notebook__.ipynb",
   "output_path": "__notebook__.ipynb",
   "parameters": {},
   "start_time": "2022-02-11T05:13:44.552691",
   "version": "2.3.3"
  }
 },
 "nbformat": 4,
 "nbformat_minor": 5
}