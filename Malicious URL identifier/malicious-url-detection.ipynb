{
 "cells": [
  {
   "cell_type": "code",
   "execution_count": 1,
   "id": "d1618336",
   "metadata": {
    "_cell_guid": "b1076dfc-b9ad-4769-8c92-a6c4dae69d19",
    "_uuid": "8f2839f25d086af736a60e9eeb907d3b93b6e0e5",
    "execution": {
     "iopub.execute_input": "2022-02-11T19:48:42.880968Z",
     "iopub.status.busy": "2022-02-11T19:48:42.879962Z",
     "iopub.status.idle": "2022-02-11T19:48:42.903226Z",
     "shell.execute_reply": "2022-02-11T19:48:42.904085Z",
     "shell.execute_reply.started": "2022-02-11T19:10:27.435812Z"
    },
    "papermill": {
     "duration": 0.070553,
     "end_time": "2022-02-11T19:48:42.904471",
     "exception": false,
     "start_time": "2022-02-11T19:48:42.833918",
     "status": "completed"
    },
    "tags": []
   },
   "outputs": [
    {
     "name": "stdout",
     "output_type": "stream",
     "text": [
      "/kaggle/input/malicious-urls-dataset/malicious_phish.csv\n"
     ]
    }
   ],
   "source": [
    "# This Python 3 environment comes with many helpful analytics libraries installed\n",
    "# It is defined by the kaggle/python Docker image: https://github.com/kaggle/docker-python\n",
    "# For example, here's several helpful packages to load\n",
    "\n",
    "import numpy as np # linear algebra\n",
    "import pandas as pd # data processing, CSV file I/O (e.g. pd.read_csv)\n",
    "\n",
    "# Input data files are available in the read-only \"../input/\" directory\n",
    "# For example, running this (by clicking run or pressing Shift+Enter) will list all files under the input directory\n",
    "\n",
    "import os\n",
    "for dirname, _, filenames in os.walk('/kaggle/input'):\n",
    "    for filename in filenames:\n",
    "        print(os.path.join(dirname, filename))\n",
    "\n",
    "# You can write up to 20GB to the current directory (/kaggle/working/) that gets preserved as output when you create a version using \"Save & Run All\" \n",
    "# You can also write temporary files to /kaggle/temp/, but they won't be saved outside of the current session"
   ]
  },
  {
   "cell_type": "markdown",
   "id": "79bb9702",
   "metadata": {
    "papermill": {
     "duration": 0.035677,
     "end_time": "2022-02-11T19:48:42.978905",
     "exception": false,
     "start_time": "2022-02-11T19:48:42.943228",
     "status": "completed"
    },
    "tags": []
   },
   "source": [
    "# Installing important modules for proper functioning. #"
   ]
  },
  {
   "cell_type": "code",
   "execution_count": 2,
   "id": "3c8265fe",
   "metadata": {
    "execution": {
     "iopub.execute_input": "2022-02-11T19:48:43.056872Z",
     "iopub.status.busy": "2022-02-11T19:48:43.056173Z",
     "iopub.status.idle": "2022-02-11T19:48:55.147230Z",
     "shell.execute_reply": "2022-02-11T19:48:55.147736Z",
     "shell.execute_reply.started": "2022-02-11T19:10:30.070413Z"
    },
    "papermill": {
     "duration": 12.133481,
     "end_time": "2022-02-11T19:48:55.147924",
     "exception": false,
     "start_time": "2022-02-11T19:48:43.014443",
     "status": "completed"
    },
    "tags": []
   },
   "outputs": [
    {
     "name": "stdout",
     "output_type": "stream",
     "text": [
      "Collecting tld\r\n",
      "  Downloading tld-0.12.6-py37-none-any.whl (412 kB)\r\n",
      "     |████████████████████████████████| 412 kB 601 kB/s            \r\n",
      "\u001b[?25hInstalling collected packages: tld\r\n",
      "Successfully installed tld-0.12.6\r\n",
      "\u001b[33mWARNING: Running pip as the 'root' user can result in broken permissions and conflicting behaviour with the system package manager. It is recommended to use a virtual environment instead: https://pip.pypa.io/warnings/venv\u001b[0m\r\n"
     ]
    }
   ],
   "source": [
    "!pip install tld"
   ]
  },
  {
   "cell_type": "markdown",
   "id": "38bcda02",
   "metadata": {
    "papermill": {
     "duration": 0.04012,
     "end_time": "2022-02-11T19:48:55.228326",
     "exception": false,
     "start_time": "2022-02-11T19:48:55.188206",
     "status": "completed"
    },
    "tags": []
   },
   "source": [
    "# Importing all required modules #"
   ]
  },
  {
   "cell_type": "code",
   "execution_count": 3,
   "id": "d87cbee2",
   "metadata": {
    "execution": {
     "iopub.execute_input": "2022-02-11T19:48:55.314753Z",
     "iopub.status.busy": "2022-02-11T19:48:55.313474Z",
     "iopub.status.idle": "2022-02-11T19:48:56.932808Z",
     "shell.execute_reply": "2022-02-11T19:48:56.933357Z",
     "shell.execute_reply.started": "2022-02-11T19:11:51.980067Z"
    },
    "papermill": {
     "duration": 1.66613,
     "end_time": "2022-02-11T19:48:56.933572",
     "exception": false,
     "start_time": "2022-02-11T19:48:55.267442",
     "status": "completed"
    },
    "tags": []
   },
   "outputs": [],
   "source": [
    "import re\n",
    "import seaborn as sns\n",
    "import matplotlib.pyplot as plt\n",
    "from colorama import Fore\n",
    "from urllib.parse import urlparse\n",
    "from sklearn.model_selection import train_test_split\n",
    "from sklearn.metrics import confusion_matrix, classification_report, accuracy_score\n",
    "from sklearn.tree import DecisionTreeClassifier\n",
    "from sklearn.ensemble import RandomForestClassifier, AdaBoostClassifier, ExtraTreesClassifier\n",
    "from sklearn.neighbors import KNeighborsClassifier\n",
    "from sklearn.linear_model import SGDClassifier\n",
    "from sklearn.naive_bayes import GaussianNB\n",
    "from tld import get_tld, is_tld\n",
    "from sklearn.metrics import plot_confusion_matrix\n",
    "from sklearn.metrics import plot_roc_curve"
   ]
  },
  {
   "cell_type": "markdown",
   "id": "32cdfdea",
   "metadata": {
    "papermill": {
     "duration": 0.038488,
     "end_time": "2022-02-11T19:48:57.010237",
     "exception": false,
     "start_time": "2022-02-11T19:48:56.971749",
     "status": "completed"
    },
    "tags": []
   },
   "source": [
    "# Reading the contents from the imported (csv) file provided by the Kaggle #"
   ]
  },
  {
   "cell_type": "code",
   "execution_count": 4,
   "id": "a8e4b0ea",
   "metadata": {
    "execution": {
     "iopub.execute_input": "2022-02-11T19:48:57.092539Z",
     "iopub.status.busy": "2022-02-11T19:48:57.091807Z",
     "iopub.status.idle": "2022-02-11T19:48:58.656843Z",
     "shell.execute_reply": "2022-02-11T19:48:58.656201Z",
     "shell.execute_reply.started": "2022-02-11T19:11:37.309849Z"
    },
    "papermill": {
     "duration": 1.608905,
     "end_time": "2022-02-11T19:48:58.656979",
     "exception": false,
     "start_time": "2022-02-11T19:48:57.048074",
     "status": "completed"
    },
    "tags": []
   },
   "outputs": [
    {
     "data": {
      "text/html": [
       "<div>\n",
       "<style scoped>\n",
       "    .dataframe tbody tr th:only-of-type {\n",
       "        vertical-align: middle;\n",
       "    }\n",
       "\n",
       "    .dataframe tbody tr th {\n",
       "        vertical-align: top;\n",
       "    }\n",
       "\n",
       "    .dataframe thead th {\n",
       "        text-align: right;\n",
       "    }\n",
       "</style>\n",
       "<table border=\"1\" class=\"dataframe\">\n",
       "  <thead>\n",
       "    <tr style=\"text-align: right;\">\n",
       "      <th></th>\n",
       "      <th>url</th>\n",
       "      <th>type</th>\n",
       "    </tr>\n",
       "  </thead>\n",
       "  <tbody>\n",
       "    <tr>\n",
       "      <th>0</th>\n",
       "      <td>br-icloud.com.br</td>\n",
       "      <td>phishing</td>\n",
       "    </tr>\n",
       "    <tr>\n",
       "      <th>1</th>\n",
       "      <td>mp3raid.com/music/krizz_kaliko.html</td>\n",
       "      <td>benign</td>\n",
       "    </tr>\n",
       "    <tr>\n",
       "      <th>2</th>\n",
       "      <td>bopsecrets.org/rexroth/cr/1.htm</td>\n",
       "      <td>benign</td>\n",
       "    </tr>\n",
       "    <tr>\n",
       "      <th>3</th>\n",
       "      <td>http://www.garage-pirenne.be/index.php?option=...</td>\n",
       "      <td>defacement</td>\n",
       "    </tr>\n",
       "    <tr>\n",
       "      <th>4</th>\n",
       "      <td>http://adventure-nicaragua.net/index.php?optio...</td>\n",
       "      <td>defacement</td>\n",
       "    </tr>\n",
       "  </tbody>\n",
       "</table>\n",
       "</div>"
      ],
      "text/plain": [
       "                                                 url        type\n",
       "0                                   br-icloud.com.br    phishing\n",
       "1                mp3raid.com/music/krizz_kaliko.html      benign\n",
       "2                    bopsecrets.org/rexroth/cr/1.htm      benign\n",
       "3  http://www.garage-pirenne.be/index.php?option=...  defacement\n",
       "4  http://adventure-nicaragua.net/index.php?optio...  defacement"
      ]
     },
     "execution_count": 4,
     "metadata": {},
     "output_type": "execute_result"
    }
   ],
   "source": [
    "data = pd.read_csv('/kaggle/input/malicious-urls-dataset/malicious_phish.csv')\n",
    "data.head()"
   ]
  },
  {
   "cell_type": "code",
   "execution_count": 5,
   "id": "728d37f9",
   "metadata": {
    "execution": {
     "iopub.execute_input": "2022-02-11T19:48:58.737503Z",
     "iopub.status.busy": "2022-02-11T19:48:58.736795Z",
     "iopub.status.idle": "2022-02-11T19:48:58.886830Z",
     "shell.execute_reply": "2022-02-11T19:48:58.886120Z",
     "shell.execute_reply.started": "2022-02-11T19:12:03.824515Z"
    },
    "papermill": {
     "duration": 0.191509,
     "end_time": "2022-02-11T19:48:58.887064",
     "exception": false,
     "start_time": "2022-02-11T19:48:58.695555",
     "status": "completed"
    },
    "tags": []
   },
   "outputs": [
    {
     "data": {
      "text/plain": [
       "url     0\n",
       "type    0\n",
       "dtype: int64"
      ]
     },
     "execution_count": 5,
     "metadata": {},
     "output_type": "execute_result"
    }
   ],
   "source": [
    "data.isnull().sum()"
   ]
  },
  {
   "cell_type": "code",
   "execution_count": 6,
   "id": "7d8204e1",
   "metadata": {
    "execution": {
     "iopub.execute_input": "2022-02-11T19:48:58.980318Z",
     "iopub.status.busy": "2022-02-11T19:48:58.979269Z",
     "iopub.status.idle": "2022-02-11T19:48:59.083230Z",
     "shell.execute_reply": "2022-02-11T19:48:59.082521Z",
     "shell.execute_reply.started": "2022-02-11T19:12:15.699175Z"
    },
    "papermill": {
     "duration": 0.157023,
     "end_time": "2022-02-11T19:48:59.083390",
     "exception": false,
     "start_time": "2022-02-11T19:48:58.926367",
     "status": "completed"
    },
    "tags": []
   },
   "outputs": [
    {
     "data": {
      "text/plain": [
       "benign        428103\n",
       "defacement     96457\n",
       "phishing       94111\n",
       "malware        32520\n",
       "Name: type, dtype: int64"
      ]
     },
     "execution_count": 6,
     "metadata": {},
     "output_type": "execute_result"
    }
   ],
   "source": [
    "count = data.type.value_counts()\n",
    "count"
   ]
  },
  {
   "cell_type": "markdown",
   "id": "abdaae21",
   "metadata": {
    "papermill": {
     "duration": 0.039727,
     "end_time": "2022-02-11T19:48:59.162130",
     "exception": false,
     "start_time": "2022-02-11T19:48:59.122403",
     "status": "completed"
    },
    "tags": []
   },
   "source": [
    "# Checking data types #"
   ]
  },
  {
   "cell_type": "markdown",
   "id": "e9fd2a12",
   "metadata": {
    "papermill": {
     "duration": 0.038899,
     "end_time": "2022-02-11T19:48:59.240284",
     "exception": false,
     "start_time": "2022-02-11T19:48:59.201385",
     "status": "completed"
    },
    "tags": []
   },
   "source": [
    "## Counting the numbers of phising, malware, etc types of links from the given csv files ##"
   ]
  },
  {
   "cell_type": "code",
   "execution_count": 7,
   "id": "3beedbf8",
   "metadata": {
    "execution": {
     "iopub.execute_input": "2022-02-11T19:48:59.329073Z",
     "iopub.status.busy": "2022-02-11T19:48:59.328406Z",
     "iopub.status.idle": "2022-02-11T19:48:59.588345Z",
     "shell.execute_reply": "2022-02-11T19:48:59.588878Z",
     "shell.execute_reply.started": "2022-02-11T19:12:26.260242Z"
    },
    "papermill": {
     "duration": 0.309013,
     "end_time": "2022-02-11T19:48:59.589104",
     "exception": false,
     "start_time": "2022-02-11T19:48:59.280091",
     "status": "completed"
    },
    "tags": []
   },
   "outputs": [
    {
     "data": {
      "image/png": "[encoded data removed]",
      "text/plain": [
       "<Figure size 432x288 with 1 Axes>"
      ]
     },
     "metadata": {
      "needs_background": "light"
     },
     "output_type": "display_data"
    }
   ],
   "source": [
    "sns.barplot(x=count.index, y=count)\n",
    "plt.xlabel('Types of links')\n",
    "plt.ylabel('Counts');"
   ]
  },
  {
   "cell_type": "markdown",
   "id": "1c6d7fd8",
   "metadata": {
    "papermill": {
     "duration": 0.041322,
     "end_time": "2022-02-11T19:48:59.670186",
     "exception": false,
     "start_time": "2022-02-11T19:48:59.628864",
     "status": "completed"
    },
    "tags": []
   },
   "source": [
    "# Representing the types of links based on their categories and types  #"
   ]
  },
  {
   "cell_type": "markdown",
   "id": "c5068fcc",
   "metadata": {
    "papermill": {
     "duration": 0.041798,
     "end_time": "2022-02-11T19:48:59.753166",
     "exception": false,
     "start_time": "2022-02-11T19:48:59.711368",
     "status": "completed"
    },
    "tags": []
   },
   "source": [
    "## removing 'www\" from the given dataset ##"
   ]
  },
  {
   "cell_type": "code",
   "execution_count": 8,
   "id": "abef3dc9",
   "metadata": {
    "execution": {
     "iopub.execute_input": "2022-02-11T19:48:59.840551Z",
     "iopub.status.busy": "2022-02-11T19:48:59.839303Z",
     "iopub.status.idle": "2022-02-11T19:49:01.108377Z",
     "shell.execute_reply": "2022-02-11T19:49:01.109057Z",
     "shell.execute_reply.started": "2022-02-11T19:12:36.094647Z"
    },
    "papermill": {
     "duration": 1.315624,
     "end_time": "2022-02-11T19:49:01.109230",
     "exception": false,
     "start_time": "2022-02-11T19:48:59.793606",
     "status": "completed"
    },
    "tags": []
   },
   "outputs": [
    {
     "data": {
      "text/html": [
       "<div>\n",
       "<style scoped>\n",
       "    .dataframe tbody tr th:only-of-type {\n",
       "        vertical-align: middle;\n",
       "    }\n",
       "\n",
       "    .dataframe tbody tr th {\n",
       "        vertical-align: top;\n",
       "    }\n",
       "\n",
       "    .dataframe thead th {\n",
       "        text-align: right;\n",
       "    }\n",
       "</style>\n",
       "<table border=\"1\" class=\"dataframe\">\n",
       "  <thead>\n",
       "    <tr style=\"text-align: right;\">\n",
       "      <th></th>\n",
       "      <th>url</th>\n",
       "      <th>type</th>\n",
       "    </tr>\n",
       "  </thead>\n",
       "  <tbody>\n",
       "    <tr>\n",
       "      <th>0</th>\n",
       "      <td>br-icloud.com.br</td>\n",
       "      <td>phishing</td>\n",
       "    </tr>\n",
       "    <tr>\n",
       "      <th>1</th>\n",
       "      <td>mp3raid.com/music/krizz_kaliko.html</td>\n",
       "      <td>benign</td>\n",
       "    </tr>\n",
       "    <tr>\n",
       "      <th>2</th>\n",
       "      <td>bopsecrets.org/rexroth/cr/1.htm</td>\n",
       "      <td>benign</td>\n",
       "    </tr>\n",
       "    <tr>\n",
       "      <th>3</th>\n",
       "      <td>http://garage-pirenne.be/index.php?option=com_...</td>\n",
       "      <td>defacement</td>\n",
       "    </tr>\n",
       "    <tr>\n",
       "      <th>4</th>\n",
       "      <td>http://adventure-nicaragua.net/index.php?optio...</td>\n",
       "      <td>defacement</td>\n",
       "    </tr>\n",
       "    <tr>\n",
       "      <th>...</th>\n",
       "      <td>...</td>\n",
       "      <td>...</td>\n",
       "    </tr>\n",
       "    <tr>\n",
       "      <th>651186</th>\n",
       "      <td>xbox360.ign.com/objects/850/850402.html</td>\n",
       "      <td>phishing</td>\n",
       "    </tr>\n",
       "    <tr>\n",
       "      <th>651187</th>\n",
       "      <td>games.teamxbox.com/xbox-360/1860/Dead-Space/</td>\n",
       "      <td>phishing</td>\n",
       "    </tr>\n",
       "    <tr>\n",
       "      <th>651188</th>\n",
       "      <td>gamespot.com/xbox360/action/deadspace/</td>\n",
       "      <td>phishing</td>\n",
       "    </tr>\n",
       "    <tr>\n",
       "      <th>651189</th>\n",
       "      <td>en.wikipedia.org/wiki/Dead_Space_(video_game)</td>\n",
       "      <td>phishing</td>\n",
       "    </tr>\n",
       "    <tr>\n",
       "      <th>651190</th>\n",
       "      <td>angelfire.com/goth/devilmaycrytonite/</td>\n",
       "      <td>phishing</td>\n",
       "    </tr>\n",
       "  </tbody>\n",
       "</table>\n",
       "<p>651191 rows × 2 columns</p>\n",
       "</div>"
      ],
      "text/plain": [
       "                                                      url        type\n",
       "0                                        br-icloud.com.br    phishing\n",
       "1                     mp3raid.com/music/krizz_kaliko.html      benign\n",
       "2                         bopsecrets.org/rexroth/cr/1.htm      benign\n",
       "3       http://garage-pirenne.be/index.php?option=com_...  defacement\n",
       "4       http://adventure-nicaragua.net/index.php?optio...  defacement\n",
       "...                                                   ...         ...\n",
       "651186            xbox360.ign.com/objects/850/850402.html    phishing\n",
       "651187       games.teamxbox.com/xbox-360/1860/Dead-Space/    phishing\n",
       "651188             gamespot.com/xbox360/action/deadspace/    phishing\n",
       "651189      en.wikipedia.org/wiki/Dead_Space_(video_game)    phishing\n",
       "651190              angelfire.com/goth/devilmaycrytonite/    phishing\n",
       "\n",
       "[651191 rows x 2 columns]"
      ]
     },
     "execution_count": 8,
     "metadata": {},
     "output_type": "execute_result"
    }
   ],
   "source": [
    "data['url'] = data['url'].replace('www.', '', regex=True)\n",
    "data"
   ]
  },
  {
   "cell_type": "markdown",
   "id": "96dfec06",
   "metadata": {
    "papermill": {
     "duration": 0.039949,
     "end_time": "2022-02-11T19:49:01.189537",
     "exception": false,
     "start_time": "2022-02-11T19:49:01.149588",
     "status": "completed"
    },
    "tags": []
   },
   "source": [
    "### Removing (WWW) from the given list and allowing only http:// ###"
   ]
  },
  {
   "cell_type": "code",
   "execution_count": 9,
   "id": "4d28363d",
   "metadata": {
    "execution": {
     "iopub.execute_input": "2022-02-11T19:49:01.274575Z",
     "iopub.status.busy": "2022-02-11T19:49:01.273555Z",
     "iopub.status.idle": "2022-02-11T19:49:01.856536Z",
     "shell.execute_reply": "2022-02-11T19:49:01.857111Z",
     "shell.execute_reply.started": "2022-02-11T19:13:04.382280Z"
    },
    "papermill": {
     "duration": 0.627465,
     "end_time": "2022-02-11T19:49:01.857297",
     "exception": false,
     "start_time": "2022-02-11T19:49:01.229832",
     "status": "completed"
    },
    "tags": []
   },
   "outputs": [],
   "source": [
    "rem = {\"Category\": {\"benign\": 0, \"defacement\": 1, \"phishing\":2, \"malware\":3}}\n",
    "data['Category'] = data['type']\n",
    "data = data.replace(rem)"
   ]
  },
  {
   "cell_type": "code",
   "execution_count": 10,
   "id": "34424d9e",
   "metadata": {
    "execution": {
     "iopub.execute_input": "2022-02-11T19:49:01.955375Z",
     "iopub.status.busy": "2022-02-11T19:49:01.947264Z",
     "iopub.status.idle": "2022-02-11T19:49:02.484910Z",
     "shell.execute_reply": "2022-02-11T19:49:02.485410Z",
     "shell.execute_reply.started": "2022-02-11T19:13:13.766025Z"
    },
    "papermill": {
     "duration": 0.587385,
     "end_time": "2022-02-11T19:49:02.485597",
     "exception": false,
     "start_time": "2022-02-11T19:49:01.898212",
     "status": "completed"
    },
    "tags": []
   },
   "outputs": [],
   "source": [
    "data['url_len'] = data['url'].apply(lambda x: len(str(x)))"
   ]
  },
  {
   "cell_type": "code",
   "execution_count": 11,
   "id": "e47e0e62",
   "metadata": {
    "execution": {
     "iopub.execute_input": "2022-02-11T19:49:02.570280Z",
     "iopub.status.busy": "2022-02-11T19:49:02.569290Z",
     "iopub.status.idle": "2022-02-11T19:49:02.573933Z",
     "shell.execute_reply": "2022-02-11T19:49:02.574397Z",
     "shell.execute_reply.started": "2022-02-11T19:13:22.423393Z"
    },
    "papermill": {
     "duration": 0.048671,
     "end_time": "2022-02-11T19:49:02.574570",
     "exception": false,
     "start_time": "2022-02-11T19:49:02.525899",
     "status": "completed"
    },
    "tags": []
   },
   "outputs": [],
   "source": [
    "def process_tld(url):\n",
    "    try:\n",
    "        res = get_tld(url, as_object = True, fail_silently=False,fix_protocol=True)\n",
    "        pri_domain= res.parsed_url.netloc\n",
    "    except :\n",
    "        pri_domain= None\n",
    "    return pri_domain"
   ]
  },
  {
   "cell_type": "code",
   "execution_count": 12,
   "id": "845b5435",
   "metadata": {
    "execution": {
     "iopub.execute_input": "2022-02-11T19:49:02.659137Z",
     "iopub.status.busy": "2022-02-11T19:49:02.658110Z",
     "iopub.status.idle": "2022-02-11T19:49:16.457887Z",
     "shell.execute_reply": "2022-02-11T19:49:16.457332Z",
     "shell.execute_reply.started": "2022-02-11T19:13:35.169532Z"
    },
    "papermill": {
     "duration": 13.843414,
     "end_time": "2022-02-11T19:49:16.458153",
     "exception": false,
     "start_time": "2022-02-11T19:49:02.614739",
     "status": "completed"
    },
    "tags": []
   },
   "outputs": [],
   "source": [
    "data['domain'] = data['url'].apply(lambda i: process_tld(i))"
   ]
  },
  {
   "cell_type": "code",
   "execution_count": 13,
   "id": "743ef4e4",
   "metadata": {
    "execution": {
     "iopub.execute_input": "2022-02-11T19:49:16.554574Z",
     "iopub.status.busy": "2022-02-11T19:49:16.553797Z",
     "iopub.status.idle": "2022-02-11T19:49:16.558640Z",
     "shell.execute_reply": "2022-02-11T19:49:16.557959Z",
     "shell.execute_reply.started": "2022-02-11T19:13:55.620575Z"
    },
    "papermill": {
     "duration": 0.058026,
     "end_time": "2022-02-11T19:49:16.558816",
     "exception": false,
     "start_time": "2022-02-11T19:49:16.500790",
     "status": "completed"
    },
    "tags": []
   },
   "outputs": [
    {
     "data": {
      "text/html": [
       "<div>\n",
       "<style scoped>\n",
       "    .dataframe tbody tr th:only-of-type {\n",
       "        vertical-align: middle;\n",
       "    }\n",
       "\n",
       "    .dataframe tbody tr th {\n",
       "        vertical-align: top;\n",
       "    }\n",
       "\n",
       "    .dataframe thead th {\n",
       "        text-align: right;\n",
       "    }\n",
       "</style>\n",
       "<table border=\"1\" class=\"dataframe\">\n",
       "  <thead>\n",
       "    <tr style=\"text-align: right;\">\n",
       "      <th></th>\n",
       "      <th>url</th>\n",
       "      <th>type</th>\n",
       "      <th>Category</th>\n",
       "      <th>url_len</th>\n",
       "      <th>domain</th>\n",
       "    </tr>\n",
       "  </thead>\n",
       "  <tbody>\n",
       "    <tr>\n",
       "      <th>0</th>\n",
       "      <td>br-icloud.com.br</td>\n",
       "      <td>phishing</td>\n",
       "      <td>2</td>\n",
       "      <td>16</td>\n",
       "      <td>br-icloud.com.br</td>\n",
       "    </tr>\n",
       "    <tr>\n",
       "      <th>1</th>\n",
       "      <td>mp3raid.com/music/krizz_kaliko.html</td>\n",
       "      <td>benign</td>\n",
       "      <td>0</td>\n",
       "      <td>35</td>\n",
       "      <td>mp3raid.com</td>\n",
       "    </tr>\n",
       "    <tr>\n",
       "      <th>2</th>\n",
       "      <td>bopsecrets.org/rexroth/cr/1.htm</td>\n",
       "      <td>benign</td>\n",
       "      <td>0</td>\n",
       "      <td>31</td>\n",
       "      <td>bopsecrets.org</td>\n",
       "    </tr>\n",
       "    <tr>\n",
       "      <th>3</th>\n",
       "      <td>http://garage-pirenne.be/index.php?option=com_...</td>\n",
       "      <td>defacement</td>\n",
       "      <td>1</td>\n",
       "      <td>84</td>\n",
       "      <td>garage-pirenne.be</td>\n",
       "    </tr>\n",
       "    <tr>\n",
       "      <th>4</th>\n",
       "      <td>http://adventure-nicaragua.net/index.php?optio...</td>\n",
       "      <td>defacement</td>\n",
       "      <td>1</td>\n",
       "      <td>235</td>\n",
       "      <td>adventure-nicaragua.net</td>\n",
       "    </tr>\n",
       "  </tbody>\n",
       "</table>\n",
       "</div>"
      ],
      "text/plain": [
       "                                                 url        type  Category  \\\n",
       "0                                   br-icloud.com.br    phishing         2   \n",
       "1                mp3raid.com/music/krizz_kaliko.html      benign         0   \n",
       "2                    bopsecrets.org/rexroth/cr/1.htm      benign         0   \n",
       "3  http://garage-pirenne.be/index.php?option=com_...  defacement         1   \n",
       "4  http://adventure-nicaragua.net/index.php?optio...  defacement         1   \n",
       "\n",
       "   url_len                   domain  \n",
       "0       16         br-icloud.com.br  \n",
       "1       35              mp3raid.com  \n",
       "2       31           bopsecrets.org  \n",
       "3       84        garage-pirenne.be  \n",
       "4      235  adventure-nicaragua.net  "
      ]
     },
     "execution_count": 13,
     "metadata": {},
     "output_type": "execute_result"
    }
   ],
   "source": [
    "data.head()"
   ]
  },
  {
   "cell_type": "markdown",
   "id": "9b0d95bc",
   "metadata": {
    "papermill": {
     "duration": 0.042126,
     "end_time": "2022-02-11T19:49:16.643400",
     "exception": false,
     "start_time": "2022-02-11T19:49:16.601274",
     "status": "completed"
    },
    "tags": []
   },
   "source": [
    "# 👇 extracting number of feature = ['@','?','-','=','.','#','%','+','$','!','*',',','//'] from given data set. #"
   ]
  },
  {
   "cell_type": "code",
   "execution_count": 14,
   "id": "9cf28950",
   "metadata": {
    "execution": {
     "iopub.execute_input": "2022-02-11T19:49:16.731222Z",
     "iopub.status.busy": "2022-02-11T19:49:16.730370Z",
     "iopub.status.idle": "2022-02-11T19:49:23.443691Z",
     "shell.execute_reply": "2022-02-11T19:49:23.444244Z",
     "shell.execute_reply.started": "2022-02-11T19:14:08.149094Z"
    },
    "papermill": {
     "duration": 6.758774,
     "end_time": "2022-02-11T19:49:23.444446",
     "exception": false,
     "start_time": "2022-02-11T19:49:16.685672",
     "status": "completed"
    },
    "tags": []
   },
   "outputs": [],
   "source": [
    "feature = ['@','?','-','=','.','#','%','+','$','!','*',',','//']\n",
    "for a in feature:\n",
    "    data[a] = data['url'].apply(lambda i: i.count(a))"
   ]
  },
  {
   "cell_type": "code",
   "execution_count": 15,
   "id": "24765fa0",
   "metadata": {
    "execution": {
     "iopub.execute_input": "2022-02-11T19:49:23.536365Z",
     "iopub.status.busy": "2022-02-11T19:49:23.535277Z",
     "iopub.status.idle": "2022-02-11T19:49:23.537637Z",
     "shell.execute_reply": "2022-02-11T19:49:23.538115Z",
     "shell.execute_reply.started": "2022-02-11T19:14:24.940026Z"
    },
    "papermill": {
     "duration": 0.050635,
     "end_time": "2022-02-11T19:49:23.538290",
     "exception": false,
     "start_time": "2022-02-11T19:49:23.487655",
     "status": "completed"
    },
    "tags": []
   },
   "outputs": [],
   "source": [
    "def abnormal_url(url):\n",
    "    hostname = urlparse(url).hostname\n",
    "    hostname = str(hostname)\n",
    "    match = re.search(hostname, url)\n",
    "    if match:\n",
    "        return 1\n",
    "    else:\n",
    "        return 0"
   ]
  },
  {
   "cell_type": "code",
   "execution_count": 16,
   "id": "a5bc0e49",
   "metadata": {
    "execution": {
     "iopub.execute_input": "2022-02-11T19:49:23.640370Z",
     "iopub.status.busy": "2022-02-11T19:49:23.639250Z",
     "iopub.status.idle": "2022-02-11T19:49:40.772294Z",
     "shell.execute_reply": "2022-02-11T19:49:40.772807Z",
     "shell.execute_reply.started": "2022-02-11T19:14:33.801475Z"
    },
    "papermill": {
     "duration": 17.193659,
     "end_time": "2022-02-11T19:49:40.772995",
     "exception": false,
     "start_time": "2022-02-11T19:49:23.579336",
     "status": "completed"
    },
    "tags": []
   },
   "outputs": [],
   "source": [
    "data['abnormal_url'] = data['url'].apply(lambda i: abnormal_url(i))"
   ]
  },
  {
   "cell_type": "code",
   "execution_count": 17,
   "id": "1828b346",
   "metadata": {
    "execution": {
     "iopub.execute_input": "2022-02-11T19:49:40.860279Z",
     "iopub.status.busy": "2022-02-11T19:49:40.859237Z",
     "iopub.status.idle": "2022-02-11T19:49:41.092101Z",
     "shell.execute_reply": "2022-02-11T19:49:41.092740Z",
     "shell.execute_reply.started": "2022-02-11T19:14:51.963532Z"
    },
    "papermill": {
     "duration": 0.278484,
     "end_time": "2022-02-11T19:49:41.092919",
     "exception": false,
     "start_time": "2022-02-11T19:49:40.814435",
     "status": "completed"
    },
    "tags": []
   },
   "outputs": [
    {
     "data": {
      "image/png": "[encoded data removed]",
      "text/plain": [
       "<Figure size 432x288 with 1 Axes>"
      ]
     },
     "metadata": {
      "needs_background": "light"
     },
     "output_type": "display_data"
    }
   ],
   "source": [
    "sns.countplot(x='abnormal_url', data=data);"
   ]
  },
  {
   "cell_type": "code",
   "execution_count": 18,
   "id": "aa1856c0",
   "metadata": {
    "execution": {
     "iopub.execute_input": "2022-02-11T19:49:41.184768Z",
     "iopub.status.busy": "2022-02-11T19:49:41.183652Z",
     "iopub.status.idle": "2022-02-11T19:49:41.185616Z",
     "shell.execute_reply": "2022-02-11T19:49:41.186226Z",
     "shell.execute_reply.started": "2022-02-11T19:15:01.107567Z"
    },
    "papermill": {
     "duration": 0.050824,
     "end_time": "2022-02-11T19:49:41.186403",
     "exception": false,
     "start_time": "2022-02-11T19:49:41.135579",
     "status": "completed"
    },
    "tags": []
   },
   "outputs": [],
   "source": [
    "def httpSecure(url):\n",
    "    htp = urlparse(url).scheme\n",
    "    match = str(htp)\n",
    "    if match=='https':\n",
    "        return 1\n",
    "    else:\n",
    "        return 0"
   ]
  },
  {
   "cell_type": "code",
   "execution_count": 19,
   "id": "1c5f169c",
   "metadata": {
    "execution": {
     "iopub.execute_input": "2022-02-11T19:49:41.275478Z",
     "iopub.status.busy": "2022-02-11T19:49:41.274448Z",
     "iopub.status.idle": "2022-02-11T19:49:47.403280Z",
     "shell.execute_reply": "2022-02-11T19:49:47.402278Z",
     "shell.execute_reply.started": "2022-02-11T19:15:09.093703Z"
    },
    "papermill": {
     "duration": 6.174714,
     "end_time": "2022-02-11T19:49:47.403435",
     "exception": false,
     "start_time": "2022-02-11T19:49:41.228721",
     "status": "completed"
    },
    "tags": []
   },
   "outputs": [],
   "source": [
    "data['https'] = data['url'].apply(lambda i: httpSecure(i))"
   ]
  },
  {
   "cell_type": "code",
   "execution_count": 20,
   "id": "538f1a0e",
   "metadata": {
    "execution": {
     "iopub.execute_input": "2022-02-11T19:49:47.490945Z",
     "iopub.status.busy": "2022-02-11T19:49:47.489913Z",
     "iopub.status.idle": "2022-02-11T19:49:47.717615Z",
     "shell.execute_reply": "2022-02-11T19:49:47.718266Z",
     "shell.execute_reply.started": "2022-02-11T19:15:17.889722Z"
    },
    "papermill": {
     "duration": 0.27332,
     "end_time": "2022-02-11T19:49:47.718454",
     "exception": false,
     "start_time": "2022-02-11T19:49:47.445134",
     "status": "completed"
    },
    "tags": []
   },
   "outputs": [
    {
     "data": {
      "image/png": "[encoded data removed]",
      "text/plain": [
       "<Figure size 432x288 with 1 Axes>"
      ]
     },
     "metadata": {
      "needs_background": "light"
     },
     "output_type": "display_data"
    }
   ],
   "source": [
    "sns.countplot(x='https', data=data);"
   ]
  },
  {
   "cell_type": "markdown",
   "id": "c43831b8",
   "metadata": {
    "papermill": {
     "duration": 0.042336,
     "end_time": "2022-02-11T19:49:47.804423",
     "exception": false,
     "start_time": "2022-02-11T19:49:47.762087",
     "status": "completed"
    },
    "tags": []
   },
   "source": [
    "# Training the model for realtime use #"
   ]
  },
  {
   "cell_type": "code",
   "execution_count": 21,
   "id": "0366c3b7",
   "metadata": {
    "execution": {
     "iopub.execute_input": "2022-02-11T19:49:47.892996Z",
     "iopub.status.busy": "2022-02-11T19:49:47.891907Z",
     "iopub.status.idle": "2022-02-11T19:49:47.896850Z",
     "shell.execute_reply": "2022-02-11T19:49:47.897446Z",
     "shell.execute_reply.started": "2022-02-11T19:15:26.058236Z"
    },
    "papermill": {
     "duration": 0.05099,
     "end_time": "2022-02-11T19:49:47.897629",
     "exception": false,
     "start_time": "2022-02-11T19:49:47.846639",
     "status": "completed"
    },
    "tags": []
   },
   "outputs": [],
   "source": [
    "def digit_count(url):\n",
    "    digits = 0\n",
    "    for i in url:\n",
    "        if i.isnumeric():\n",
    "            digits = digits + 1\n",
    "    return digits"
   ]
  },
  {
   "cell_type": "code",
   "execution_count": 22,
   "id": "561931da",
   "metadata": {
    "execution": {
     "iopub.execute_input": "2022-02-11T19:49:47.988736Z",
     "iopub.status.busy": "2022-02-11T19:49:47.987697Z",
     "iopub.status.idle": "2022-02-11T19:49:50.780426Z",
     "shell.execute_reply": "2022-02-11T19:49:50.779767Z",
     "shell.execute_reply.started": "2022-02-11T19:15:33.245671Z"
    },
    "papermill": {
     "duration": 2.839351,
     "end_time": "2022-02-11T19:49:50.780587",
     "exception": false,
     "start_time": "2022-02-11T19:49:47.941236",
     "status": "completed"
    },
    "tags": []
   },
   "outputs": [],
   "source": [
    "data['digits']= data['url'].apply(lambda i: digit_count(i))"
   ]
  },
  {
   "cell_type": "code",
   "execution_count": 23,
   "id": "4599a331",
   "metadata": {
    "execution": {
     "iopub.execute_input": "2022-02-11T19:49:50.871776Z",
     "iopub.status.busy": "2022-02-11T19:49:50.870779Z",
     "iopub.status.idle": "2022-02-11T19:49:50.875653Z",
     "shell.execute_reply": "2022-02-11T19:49:50.876281Z",
     "shell.execute_reply.started": "2022-02-11T19:15:40.748438Z"
    },
    "papermill": {
     "duration": 0.052919,
     "end_time": "2022-02-11T19:49:50.876462",
     "exception": false,
     "start_time": "2022-02-11T19:49:50.823543",
     "status": "completed"
    },
    "tags": []
   },
   "outputs": [],
   "source": [
    "def letter_count(url):\n",
    "    letters = 0\n",
    "    for i in url:\n",
    "        if i.isalpha():\n",
    "            letters = letters + 1\n",
    "    return letters"
   ]
  },
  {
   "cell_type": "code",
   "execution_count": 24,
   "id": "b327d58b",
   "metadata": {
    "execution": {
     "iopub.execute_input": "2022-02-11T19:49:50.965606Z",
     "iopub.status.busy": "2022-02-11T19:49:50.964609Z",
     "iopub.status.idle": "2022-02-11T19:49:55.480069Z",
     "shell.execute_reply": "2022-02-11T19:49:55.478980Z",
     "shell.execute_reply.started": "2022-02-11T19:15:47.922762Z"
    },
    "papermill": {
     "duration": 4.561132,
     "end_time": "2022-02-11T19:49:55.480244",
     "exception": false,
     "start_time": "2022-02-11T19:49:50.919112",
     "status": "completed"
    },
    "tags": []
   },
   "outputs": [],
   "source": [
    "data['letters']= data['url'].apply(lambda i: letter_count(i))"
   ]
  },
  {
   "cell_type": "code",
   "execution_count": 25,
   "id": "e90c4077",
   "metadata": {
    "execution": {
     "iopub.execute_input": "2022-02-11T19:49:55.570111Z",
     "iopub.status.busy": "2022-02-11T19:49:55.569122Z",
     "iopub.status.idle": "2022-02-11T19:49:55.590784Z",
     "shell.execute_reply": "2022-02-11T19:49:55.590082Z",
     "shell.execute_reply.started": "2022-02-11T19:16:01.490809Z"
    },
    "papermill": {
     "duration": 0.067027,
     "end_time": "2022-02-11T19:49:55.590925",
     "exception": false,
     "start_time": "2022-02-11T19:49:55.523898",
     "status": "completed"
    },
    "tags": []
   },
   "outputs": [
    {
     "data": {
      "text/html": [
       "<div>\n",
       "<style scoped>\n",
       "    .dataframe tbody tr th:only-of-type {\n",
       "        vertical-align: middle;\n",
       "    }\n",
       "\n",
       "    .dataframe tbody tr th {\n",
       "        vertical-align: top;\n",
       "    }\n",
       "\n",
       "    .dataframe thead th {\n",
       "        text-align: right;\n",
       "    }\n",
       "</style>\n",
       "<table border=\"1\" class=\"dataframe\">\n",
       "  <thead>\n",
       "    <tr style=\"text-align: right;\">\n",
       "      <th></th>\n",
       "      <th>url</th>\n",
       "      <th>type</th>\n",
       "      <th>Category</th>\n",
       "      <th>url_len</th>\n",
       "      <th>domain</th>\n",
       "      <th>@</th>\n",
       "      <th>?</th>\n",
       "      <th>-</th>\n",
       "      <th>=</th>\n",
       "      <th>.</th>\n",
       "      <th>...</th>\n",
       "      <th>+</th>\n",
       "      <th>$</th>\n",
       "      <th>!</th>\n",
       "      <th>*</th>\n",
       "      <th>,</th>\n",
       "      <th>//</th>\n",
       "      <th>abnormal_url</th>\n",
       "      <th>https</th>\n",
       "      <th>digits</th>\n",
       "      <th>letters</th>\n",
       "    </tr>\n",
       "  </thead>\n",
       "  <tbody>\n",
       "    <tr>\n",
       "      <th>0</th>\n",
       "      <td>br-icloud.com.br</td>\n",
       "      <td>phishing</td>\n",
       "      <td>2</td>\n",
       "      <td>16</td>\n",
       "      <td>br-icloud.com.br</td>\n",
       "      <td>0</td>\n",
       "      <td>0</td>\n",
       "      <td>1</td>\n",
       "      <td>0</td>\n",
       "      <td>2</td>\n",
       "      <td>...</td>\n",
       "      <td>0</td>\n",
       "      <td>0</td>\n",
       "      <td>0</td>\n",
       "      <td>0</td>\n",
       "      <td>0</td>\n",
       "      <td>0</td>\n",
       "      <td>0</td>\n",
       "      <td>0</td>\n",
       "      <td>0</td>\n",
       "      <td>13</td>\n",
       "    </tr>\n",
       "    <tr>\n",
       "      <th>1</th>\n",
       "      <td>mp3raid.com/music/krizz_kaliko.html</td>\n",
       "      <td>benign</td>\n",
       "      <td>0</td>\n",
       "      <td>35</td>\n",
       "      <td>mp3raid.com</td>\n",
       "      <td>0</td>\n",
       "      <td>0</td>\n",
       "      <td>0</td>\n",
       "      <td>0</td>\n",
       "      <td>2</td>\n",
       "      <td>...</td>\n",
       "      <td>0</td>\n",
       "      <td>0</td>\n",
       "      <td>0</td>\n",
       "      <td>0</td>\n",
       "      <td>0</td>\n",
       "      <td>0</td>\n",
       "      <td>0</td>\n",
       "      <td>0</td>\n",
       "      <td>1</td>\n",
       "      <td>29</td>\n",
       "    </tr>\n",
       "    <tr>\n",
       "      <th>2</th>\n",
       "      <td>bopsecrets.org/rexroth/cr/1.htm</td>\n",
       "      <td>benign</td>\n",
       "      <td>0</td>\n",
       "      <td>31</td>\n",
       "      <td>bopsecrets.org</td>\n",
       "      <td>0</td>\n",
       "      <td>0</td>\n",
       "      <td>0</td>\n",
       "      <td>0</td>\n",
       "      <td>2</td>\n",
       "      <td>...</td>\n",
       "      <td>0</td>\n",
       "      <td>0</td>\n",
       "      <td>0</td>\n",
       "      <td>0</td>\n",
       "      <td>0</td>\n",
       "      <td>0</td>\n",
       "      <td>0</td>\n",
       "      <td>0</td>\n",
       "      <td>1</td>\n",
       "      <td>25</td>\n",
       "    </tr>\n",
       "    <tr>\n",
       "      <th>3</th>\n",
       "      <td>http://garage-pirenne.be/index.php?option=com_...</td>\n",
       "      <td>defacement</td>\n",
       "      <td>1</td>\n",
       "      <td>84</td>\n",
       "      <td>garage-pirenne.be</td>\n",
       "      <td>0</td>\n",
       "      <td>1</td>\n",
       "      <td>1</td>\n",
       "      <td>4</td>\n",
       "      <td>2</td>\n",
       "      <td>...</td>\n",
       "      <td>0</td>\n",
       "      <td>0</td>\n",
       "      <td>0</td>\n",
       "      <td>0</td>\n",
       "      <td>0</td>\n",
       "      <td>1</td>\n",
       "      <td>1</td>\n",
       "      <td>0</td>\n",
       "      <td>7</td>\n",
       "      <td>60</td>\n",
       "    </tr>\n",
       "    <tr>\n",
       "      <th>4</th>\n",
       "      <td>http://adventure-nicaragua.net/index.php?optio...</td>\n",
       "      <td>defacement</td>\n",
       "      <td>1</td>\n",
       "      <td>235</td>\n",
       "      <td>adventure-nicaragua.net</td>\n",
       "      <td>0</td>\n",
       "      <td>1</td>\n",
       "      <td>1</td>\n",
       "      <td>3</td>\n",
       "      <td>2</td>\n",
       "      <td>...</td>\n",
       "      <td>0</td>\n",
       "      <td>0</td>\n",
       "      <td>0</td>\n",
       "      <td>0</td>\n",
       "      <td>0</td>\n",
       "      <td>1</td>\n",
       "      <td>1</td>\n",
       "      <td>0</td>\n",
       "      <td>22</td>\n",
       "      <td>199</td>\n",
       "    </tr>\n",
       "  </tbody>\n",
       "</table>\n",
       "<p>5 rows × 22 columns</p>\n",
       "</div>"
      ],
      "text/plain": [
       "                                                 url        type  Category  \\\n",
       "0                                   br-icloud.com.br    phishing         2   \n",
       "1                mp3raid.com/music/krizz_kaliko.html      benign         0   \n",
       "2                    bopsecrets.org/rexroth/cr/1.htm      benign         0   \n",
       "3  http://garage-pirenne.be/index.php?option=com_...  defacement         1   \n",
       "4  http://adventure-nicaragua.net/index.php?optio...  defacement         1   \n",
       "\n",
       "   url_len                   domain  @  ?  -  =  .  ...  +  $  !  *  ,  //  \\\n",
       "0       16         br-icloud.com.br  0  0  1  0  2  ...  0  0  0  0  0   0   \n",
       "1       35              mp3raid.com  0  0  0  0  2  ...  0  0  0  0  0   0   \n",
       "2       31           bopsecrets.org  0  0  0  0  2  ...  0  0  0  0  0   0   \n",
       "3       84        garage-pirenne.be  0  1  1  4  2  ...  0  0  0  0  0   1   \n",
       "4      235  adventure-nicaragua.net  0  1  1  3  2  ...  0  0  0  0  0   1   \n",
       "\n",
       "   abnormal_url  https  digits  letters  \n",
       "0             0      0       0       13  \n",
       "1             0      0       1       29  \n",
       "2             0      0       1       25  \n",
       "3             1      0       7       60  \n",
       "4             1      0      22      199  \n",
       "\n",
       "[5 rows x 22 columns]"
      ]
     },
     "execution_count": 25,
     "metadata": {},
     "output_type": "execute_result"
    }
   ],
   "source": [
    "data.head()"
   ]
  },
  {
   "cell_type": "code",
   "execution_count": 26,
   "id": "3e1fbe0f",
   "metadata": {
    "execution": {
     "iopub.execute_input": "2022-02-11T19:49:55.681485Z",
     "iopub.status.busy": "2022-02-11T19:49:55.680445Z",
     "iopub.status.idle": "2022-02-11T19:49:55.685679Z",
     "shell.execute_reply": "2022-02-11T19:49:55.686150Z",
     "shell.execute_reply.started": "2022-02-11T19:16:10.024492Z"
    },
    "papermill": {
     "duration": 0.051873,
     "end_time": "2022-02-11T19:49:55.686326",
     "exception": false,
     "start_time": "2022-02-11T19:49:55.634453",
     "status": "completed"
    },
    "tags": []
   },
   "outputs": [],
   "source": [
    "def Shortining_Service(url):\n",
    "    match = re.search('bit\\.ly|goo\\.gl|shorte\\.st|go2l\\.ink|x\\.co|ow\\.ly|t\\.co|tinyurl|tr\\.im|is\\.gd|cli\\.gs|'\n",
    "                      'yfrog\\.com|migre\\.me|ff\\.im|tiny\\.cc|url4\\.eu|twit\\.ac|su\\.pr|twurl\\.nl|snipurl\\.com|'\n",
    "                      'short\\.to|BudURL\\.com|ping\\.fm|post\\.ly|Just\\.as|bkite\\.com|snipr\\.com|fic\\.kr|loopt\\.us|'\n",
    "                      'doiop\\.com|short\\.ie|kl\\.am|wp\\.me|rubyurl\\.com|om\\.ly|to\\.ly|bit\\.do|t\\.co|lnkd\\.in|'\n",
    "                      'db\\.tt|qr\\.ae|adf\\.ly|goo\\.gl|bitly\\.com|cur\\.lv|tinyurl\\.com|ow\\.ly|bit\\.ly|ity\\.im|'\n",
    "                      'q\\.gs|is\\.gd|po\\.st|bc\\.vc|twitthis\\.com|u\\.to|j\\.mp|buzurl\\.com|cutt\\.us|u\\.bb|yourls\\.org|'\n",
    "                      'x\\.co|prettylinkpro\\.com|scrnch\\.me|filoops\\.info|vzturl\\.com|qr\\.net|1url\\.com|tweez\\.me|v\\.gd|'\n",
    "                      'tr\\.im|link\\.zip\\.net',\n",
    "                      url)\n",
    "    if match:\n",
    "        return 1\n",
    "    else:\n",
    "        return 0"
   ]
  },
  {
   "cell_type": "code",
   "execution_count": 27,
   "id": "05573a3b",
   "metadata": {
    "execution": {
     "iopub.execute_input": "2022-02-11T19:49:55.778475Z",
     "iopub.status.busy": "2022-02-11T19:49:55.777411Z",
     "iopub.status.idle": "2022-02-11T19:50:04.533960Z",
     "shell.execute_reply": "2022-02-11T19:50:04.533234Z",
     "shell.execute_reply.started": "2022-02-11T19:16:18.621431Z"
    },
    "papermill": {
     "duration": 8.80454,
     "end_time": "2022-02-11T19:50:04.534151",
     "exception": false,
     "start_time": "2022-02-11T19:49:55.729611",
     "status": "completed"
    },
    "tags": []
   },
   "outputs": [],
   "source": [
    "data['Shortining_Service'] = data['url'].apply(lambda x: Shortining_Service(x))"
   ]
  },
  {
   "cell_type": "code",
   "execution_count": 28,
   "id": "fbd6e11f",
   "metadata": {
    "execution": {
     "iopub.execute_input": "2022-02-11T19:50:04.627969Z",
     "iopub.status.busy": "2022-02-11T19:50:04.627286Z",
     "iopub.status.idle": "2022-02-11T19:50:04.859353Z",
     "shell.execute_reply": "2022-02-11T19:50:04.858357Z",
     "shell.execute_reply.started": "2022-02-11T19:16:33.160670Z"
    },
    "papermill": {
     "duration": 0.281423,
     "end_time": "2022-02-11T19:50:04.859511",
     "exception": false,
     "start_time": "2022-02-11T19:50:04.578088",
     "status": "completed"
    },
    "tags": []
   },
   "outputs": [
    {
     "data": {
      "image/png": "[encoded data removed]",
      "text/plain": [
       "<Figure size 432x288 with 1 Axes>"
      ]
     },
     "metadata": {
      "needs_background": "light"
     },
     "output_type": "display_data"
    }
   ],
   "source": [
    "sns.countplot(x='Shortining_Service', data=data);"
   ]
  },
  {
   "cell_type": "code",
   "execution_count": 29,
   "id": "ace41b56",
   "metadata": {
    "execution": {
     "iopub.execute_input": "2022-02-11T19:50:04.951199Z",
     "iopub.status.busy": "2022-02-11T19:50:04.950494Z",
     "iopub.status.idle": "2022-02-11T19:50:04.956257Z",
     "shell.execute_reply": "2022-02-11T19:50:04.955563Z",
     "shell.execute_reply.started": "2022-02-11T19:16:41.366658Z"
    },
    "papermill": {
     "duration": 0.05257,
     "end_time": "2022-02-11T19:50:04.956402",
     "exception": false,
     "start_time": "2022-02-11T19:50:04.903832",
     "status": "completed"
    },
    "tags": []
   },
   "outputs": [],
   "source": [
    "def having_ip_address(url):\n",
    "    match = re.search(\n",
    "        '(([01]?\\\\d\\\\d?|2[0-4]\\\\d|25[0-5])\\\\.([01]?\\\\d\\\\d?|2[0-4]\\\\d|25[0-5])\\\\.([01]?\\\\d\\\\d?|2[0-4]\\\\d|25[0-5])\\\\.'\n",
    "        '([01]?\\\\d\\\\d?|2[0-4]\\\\d|25[0-5])\\\\/)|'  # IPv4\n",
    "        '(([01]?\\\\d\\\\d?|2[0-4]\\\\d|25[0-5])\\\\.([01]?\\\\d\\\\d?|2[0-4]\\\\d|25[0-5])\\\\.([01]?\\\\d\\\\d?|2[0-4]\\\\d|25[0-5])\\\\.'\n",
    "        '([01]?\\\\d\\\\d?|2[0-4]\\\\d|25[0-5])\\\\/)|'  # IPv4 with port\n",
    "        '((0x[0-9a-fA-F]{1,2})\\\\.(0x[0-9a-fA-F]{1,2})\\\\.(0x[0-9a-fA-F]{1,2})\\\\.(0x[0-9a-fA-F]{1,2})\\\\/)' # IPv4 in hexadecimal\n",
    "        '(?:[a-fA-F0-9]{1,4}:){7}[a-fA-F0-9]{1,4}|'\n",
    "        '([0-9]+(?:\\.[0-9]+){3}:[0-9]+)|'\n",
    "        '((?:(?:\\d|[01]?\\d\\d|2[0-4]\\d|25[0-5])\\.){3}(?:25[0-5]|2[0-4]\\d|[01]?\\d\\d|\\d)(?:\\/\\d{1,2})?)', url)  # Ipv6\n",
    "    if match:\n",
    "        return 1\n",
    "    else:\n",
    "        return 0"
   ]
  },
  {
   "cell_type": "code",
   "execution_count": 30,
   "id": "768293c4",
   "metadata": {
    "execution": {
     "iopub.execute_input": "2022-02-11T19:50:05.051065Z",
     "iopub.status.busy": "2022-02-11T19:50:05.050293Z",
     "iopub.status.idle": "2022-02-11T19:50:39.118798Z",
     "shell.execute_reply": "2022-02-11T19:50:39.118203Z",
     "shell.execute_reply.started": "2022-02-11T19:16:49.881916Z"
    },
    "papermill": {
     "duration": 34.118316,
     "end_time": "2022-02-11T19:50:39.118958",
     "exception": false,
     "start_time": "2022-02-11T19:50:05.000642",
     "status": "completed"
    },
    "tags": []
   },
   "outputs": [],
   "source": [
    "data['having_ip_address'] = data['url'].apply(lambda i: having_ip_address(i))"
   ]
  },
  {
   "cell_type": "code",
   "execution_count": 31,
   "id": "dc0881ff",
   "metadata": {
    "execution": {
     "iopub.execute_input": "2022-02-11T19:50:39.210799Z",
     "iopub.status.busy": "2022-02-11T19:50:39.210082Z",
     "iopub.status.idle": "2022-02-11T19:50:39.220809Z",
     "shell.execute_reply": "2022-02-11T19:50:39.221352Z",
     "shell.execute_reply.started": "2022-02-11T19:17:22.396674Z"
    },
    "papermill": {
     "duration": 0.05815,
     "end_time": "2022-02-11T19:50:39.221528",
     "exception": false,
     "start_time": "2022-02-11T19:50:39.163378",
     "status": "completed"
    },
    "tags": []
   },
   "outputs": [
    {
     "data": {
      "text/plain": [
       "0    638703\n",
       "1     12488\n",
       "Name: having_ip_address, dtype: int64"
      ]
     },
     "execution_count": 31,
     "metadata": {},
     "output_type": "execute_result"
    }
   ],
   "source": [
    "data[\"having_ip_address\"].value_counts()"
   ]
  },
  {
   "cell_type": "code",
   "execution_count": 32,
   "id": "d9e6b1f1",
   "metadata": {
    "execution": {
     "iopub.execute_input": "2022-02-11T19:50:39.313189Z",
     "iopub.status.busy": "2022-02-11T19:50:39.312486Z",
     "iopub.status.idle": "2022-02-11T19:50:41.002964Z",
     "shell.execute_reply": "2022-02-11T19:50:41.002242Z",
     "shell.execute_reply.started": "2022-02-11T19:18:00.136304Z"
    },
    "papermill": {
     "duration": 1.737506,
     "end_time": "2022-02-11T19:50:41.003132",
     "exception": false,
     "start_time": "2022-02-11T19:50:39.265626",
     "status": "completed"
    },
    "tags": []
   },
   "outputs": [
    {
     "data": {
      "text/plain": [
       "<AxesSubplot:>"
      ]
     },
     "execution_count": 32,
     "metadata": {},
     "output_type": "execute_result"
    },
    {
     "data": {
      "image/png": "[encoded data removed]",
      "text/plain": [
       "<Figure size 1080x1080 with 2 Axes>"
      ]
     },
     "metadata": {
      "needs_background": "light"
     },
     "output_type": "display_data"
    }
   ],
   "source": [
    "plt.figure(figsize=(15, 15))\n",
    "sns.heatmap(data.corr(), linewidths=.5)"
   ]
  },
  {
   "cell_type": "code",
   "execution_count": 33,
   "id": "aac75599",
   "metadata": {
    "execution": {
     "iopub.execute_input": "2022-02-11T19:50:41.099899Z",
     "iopub.status.busy": "2022-02-11T19:50:41.099157Z",
     "iopub.status.idle": "2022-02-11T19:50:41.275788Z",
     "shell.execute_reply": "2022-02-11T19:50:41.275184Z",
     "shell.execute_reply.started": "2022-02-11T19:18:12.945095Z"
    },
    "papermill": {
     "duration": 0.22635,
     "end_time": "2022-02-11T19:50:41.275929",
     "exception": false,
     "start_time": "2022-02-11T19:50:41.049579",
     "status": "completed"
    },
    "tags": []
   },
   "outputs": [],
   "source": [
    "X = data.drop(['url','type','Category','domain'],axis=1)\n",
    "y = data['Category']"
   ]
  },
  {
   "cell_type": "code",
   "execution_count": 34,
   "id": "f1048d10",
   "metadata": {
    "execution": {
     "iopub.execute_input": "2022-02-11T19:50:41.376354Z",
     "iopub.status.busy": "2022-02-11T19:50:41.375659Z",
     "iopub.status.idle": "2022-02-11T19:50:41.593864Z",
     "shell.execute_reply": "2022-02-11T19:50:41.594422Z",
     "shell.execute_reply.started": "2022-02-11T19:18:20.938709Z"
    },
    "papermill": {
     "duration": 0.271755,
     "end_time": "2022-02-11T19:50:41.594592",
     "exception": false,
     "start_time": "2022-02-11T19:50:41.322837",
     "status": "completed"
    },
    "tags": []
   },
   "outputs": [],
   "source": [
    "X_train, X_test, y_train, y_test = train_test_split(X, y, test_size=0.2, random_state=2)"
   ]
  },
  {
   "cell_type": "code",
   "execution_count": 35,
   "id": "2924dfbd",
   "metadata": {
    "execution": {
     "iopub.execute_input": "2022-02-11T19:50:41.699421Z",
     "iopub.status.busy": "2022-02-11T19:50:41.698697Z",
     "iopub.status.idle": "2022-02-11T19:55:16.032007Z",
     "shell.execute_reply": "2022-02-11T19:55:16.031356Z",
     "shell.execute_reply.started": "2022-02-11T19:22:10.327411Z"
    },
    "papermill": {
     "duration": 274.389785,
     "end_time": "2022-02-11T19:55:16.032179",
     "exception": false,
     "start_time": "2022-02-11T19:50:41.642394",
     "status": "completed"
    },
    "tags": []
   },
   "outputs": [
    {
     "name": "stdout",
     "output_type": "stream",
     "text": [
      "Model =>\u001b[07m <class 'sklearn.tree._classes.DecisionTreeClassifier'> \u001b[0m\n",
      "Test Accuracy :\u001b[32m \u001b[01m 90.93% \u001b[30m \u001b[0m\n",
      "\u001b[01m              Classification_report \u001b[0m\n",
      "              precision    recall  f1-score   support\n",
      "\n",
      "           0       0.92      0.97      0.94     85565\n",
      "           1       0.93      0.96      0.94     19319\n",
      "           2       0.80      0.57      0.66     18805\n",
      "           3       0.94      0.91      0.93      6550\n",
      "\n",
      "    accuracy                           0.91    130239\n",
      "   macro avg       0.90      0.85      0.87    130239\n",
      "weighted avg       0.90      0.91      0.90    130239\n",
      "\n",
      "\u001b[01m             Confusion_matrix \u001b[0m\n"
     ]
    },
    {
     "data": {
      "image/png": "[encoded data removed]",
      "text/plain": [
       "<Figure size 432x288 with 2 Axes>"
      ]
     },
     "metadata": {
      "needs_background": "light"
     },
     "output_type": "display_data"
    },
    {
     "name": "stdout",
     "output_type": "stream",
     "text": [
      "\u001b[31m                  End                        \u001b[0m\n",
      "Model =>\u001b[07m <class 'sklearn.ensemble._forest.RandomForestClassifier'> \u001b[0m\n",
      "Test Accuracy :\u001b[32m \u001b[01m 91.46% \u001b[30m \u001b[0m\n",
      "\u001b[01m              Classification_report \u001b[0m\n",
      "              precision    recall  f1-score   support\n",
      "\n",
      "           0       0.92      0.98      0.95     85565\n",
      "           1       0.94      0.97      0.95     19319\n",
      "           2       0.83      0.57      0.68     18805\n",
      "           3       0.96      0.91      0.93      6550\n",
      "\n",
      "    accuracy                           0.91    130239\n",
      "   macro avg       0.91      0.86      0.88    130239\n",
      "weighted avg       0.91      0.91      0.91    130239\n",
      "\n",
      "\u001b[01m             Confusion_matrix \u001b[0m\n"
     ]
    },
    {
     "data": {
      "image/png": "[encoded data removed]",
      "text/plain": [
       "<Figure size 432x288 with 2 Axes>"
      ]
     },
     "metadata": {
      "needs_background": "light"
     },
     "output_type": "display_data"
    },
    {
     "name": "stdout",
     "output_type": "stream",
     "text": [
      "\u001b[31m                  End                        \u001b[0m\n",
      "Model =>\u001b[07m <class 'sklearn.ensemble._weight_boosting.AdaBoostClassifier'> \u001b[0m\n",
      "Test Accuracy :\u001b[32m \u001b[01m 82.01% \u001b[30m \u001b[0m\n",
      "\u001b[01m              Classification_report \u001b[0m\n",
      "              precision    recall  f1-score   support\n",
      "\n",
      "           0       0.84      0.98      0.90     85565\n",
      "           1       0.82      0.89      0.85     19319\n",
      "           2       0.45      0.15      0.22     18805\n",
      "           3       0.91      0.46      0.61      6550\n",
      "\n",
      "    accuracy                           0.82    130239\n",
      "   macro avg       0.75      0.62      0.65    130239\n",
      "weighted avg       0.78      0.82      0.78    130239\n",
      "\n",
      "\u001b[01m             Confusion_matrix \u001b[0m\n"
     ]
    },
    {
     "data": {
      "image/png": "[encoded data removed]",
      "text/plain": [
       "<Figure size 432x288 with 2 Axes>"
      ]
     },
     "metadata": {
      "needs_background": "light"
     },
     "output_type": "display_data"
    },
    {
     "name": "stdout",
     "output_type": "stream",
     "text": [
      "\u001b[31m                  End                        \u001b[0m\n",
      "Model =>\u001b[07m <class 'sklearn.neighbors._classification.KNeighborsClassifier'> \u001b[0m\n",
      "Test Accuracy :\u001b[32m \u001b[01m 88.96% \u001b[30m \u001b[0m\n",
      "\u001b[01m              Classification_report \u001b[0m\n",
      "              precision    recall  f1-score   support\n",
      "\n",
      "           0       0.91      0.96      0.93     85565\n",
      "           1       0.89      0.95      0.92     19319\n",
      "           2       0.73      0.53      0.62     18805\n",
      "           3       0.94      0.87      0.91      6550\n",
      "\n",
      "    accuracy                           0.89    130239\n",
      "   macro avg       0.87      0.83      0.84    130239\n",
      "weighted avg       0.88      0.89      0.88    130239\n",
      "\n",
      "\u001b[01m             Confusion_matrix \u001b[0m\n"
     ]
    },
    {
     "data": {
      "image/png": "[encoded data removed]",
      "text/plain": [
       "<Figure size 432x288 with 2 Axes>"
      ]
     },
     "metadata": {
      "needs_background": "light"
     },
     "output_type": "display_data"
    },
    {
     "name": "stdout",
     "output_type": "stream",
     "text": [
      "\u001b[31m                  End                        \u001b[0m\n",
      "Model =>\u001b[07m <class 'sklearn.linear_model._stochastic_gradient.SGDClassifier'> \u001b[0m\n",
      "Test Accuracy :\u001b[32m \u001b[01m 81.93% \u001b[30m \u001b[0m\n",
      "\u001b[01m              Classification_report \u001b[0m\n",
      "              precision    recall  f1-score   support\n",
      "\n",
      "           0       0.84      0.97      0.90     85565\n",
      "           1       0.74      0.97      0.84     19319\n",
      "           2       0.57      0.04      0.07     18805\n",
      "           3       0.81      0.70      0.75      6550\n",
      "\n",
      "    accuracy                           0.82    130239\n",
      "   macro avg       0.74      0.67      0.64    130239\n",
      "weighted avg       0.79      0.82      0.76    130239\n",
      "\n",
      "\u001b[01m             Confusion_matrix \u001b[0m\n"
     ]
    },
    {
     "data": {
      "image/png": "[encoded data removed]",
      "text/plain": [
       "<Figure size 432x288 with 2 Axes>"
      ]
     },
     "metadata": {
      "needs_background": "light"
     },
     "output_type": "display_data"
    },
    {
     "name": "stdout",
     "output_type": "stream",
     "text": [
      "\u001b[31m                  End                        \u001b[0m\n",
      "Model =>\u001b[07m <class 'sklearn.ensemble._forest.ExtraTreesClassifier'> \u001b[0m\n",
      "Test Accuracy :\u001b[32m \u001b[01m 91.47% \u001b[30m \u001b[0m\n",
      "\u001b[01m              Classification_report \u001b[0m\n",
      "              precision    recall  f1-score   support\n",
      "\n",
      "           0       0.92      0.98      0.95     85565\n",
      "           1       0.93      0.97      0.95     19319\n",
      "           2       0.83      0.57      0.68     18805\n",
      "           3       0.97      0.91      0.94      6550\n",
      "\n",
      "    accuracy                           0.91    130239\n",
      "   macro avg       0.91      0.86      0.88    130239\n",
      "weighted avg       0.91      0.91      0.91    130239\n",
      "\n",
      "\u001b[01m             Confusion_matrix \u001b[0m\n"
     ]
    },
    {
     "data": {
      "image/png": "[encoded data removed]",
      "text/plain": [
       "<Figure size 432x288 with 2 Axes>"
      ]
     },
     "metadata": {
      "needs_background": "light"
     },
     "output_type": "display_data"
    },
    {
     "name": "stdout",
     "output_type": "stream",
     "text": [
      "\u001b[31m                  End                        \u001b[0m\n",
      "Model =>\u001b[07m <class 'sklearn.naive_bayes.GaussianNB'> \u001b[0m\n",
      "Test Accuracy :\u001b[32m \u001b[01m 78.95% \u001b[30m \u001b[0m\n",
      "\u001b[01m              Classification_report \u001b[0m\n",
      "              precision    recall  f1-score   support\n",
      "\n",
      "           0       0.85      0.92      0.88     85565\n",
      "           1       0.66      1.00      0.79     19319\n",
      "           2       0.60      0.02      0.04     18805\n",
      "           3       0.61      0.70      0.65      6550\n",
      "\n",
      "    accuracy                           0.79    130239\n",
      "   macro avg       0.68      0.66      0.59    130239\n",
      "weighted avg       0.77      0.79      0.74    130239\n",
      "\n",
      "\u001b[01m             Confusion_matrix \u001b[0m\n"
     ]
    },
    {
     "data": {
      "image/png": "[encoded data removed]",
      "text/plain": [
       "<Figure size 432x288 with 2 Axes>"
      ]
     },
     "metadata": {
      "needs_background": "light"
     },
     "output_type": "display_data"
    },
    {
     "name": "stdout",
     "output_type": "stream",
     "text": [
      "\u001b[31m                  End                        \u001b[0m\n"
     ]
    }
   ],
   "source": [
    "models = [DecisionTreeClassifier,RandomForestClassifier,AdaBoostClassifier,KNeighborsClassifier,SGDClassifier,\n",
    "         ExtraTreesClassifier,GaussianNB]\n",
    "accuracy_test=[]\n",
    "for m in models:\n",
    "    print('Model =>\\033[07m {} \\033[0m'.format(m))\n",
    "    model_ = m()\n",
    "    model_.fit(X_train, y_train)\n",
    "    pred = model_.predict(X_test)\n",
    "    acc = accuracy_score(pred, y_test)\n",
    "    accuracy_test.append(acc)\n",
    "    print('Test Accuracy :\\033[32m \\033[01m {:.2f}% \\033[30m \\033[0m'.format(acc*100))\n",
    "    print('\\033[01m              Classification_report \\033[0m')\n",
    "    print(classification_report(y_test, pred))\n",
    "    print('\\033[01m             Confusion_matrix \\033[0m')\n",
    "    cf_matrix = confusion_matrix(y_test, pred)\n",
    "    plot_ = sns.heatmap(cf_matrix/np.sum(cf_matrix), annot=True,fmt= '0.2%')\n",
    "    plt.show()\n",
    "    print('\\033[31m                  End                        \\033[0m')"
   ]
  },
  {
   "cell_type": "code",
   "execution_count": 36,
   "id": "9722cd35",
   "metadata": {
    "execution": {
     "iopub.execute_input": "2022-02-11T19:55:16.154541Z",
     "iopub.status.busy": "2022-02-11T19:55:16.153609Z",
     "iopub.status.idle": "2022-02-11T19:55:16.156807Z",
     "shell.execute_reply": "2022-02-11T19:55:16.156222Z",
     "shell.execute_reply.started": "2022-02-11T19:26:25.414589Z"
    },
    "papermill": {
     "duration": 0.06687,
     "end_time": "2022-02-11T19:55:16.156952",
     "exception": false,
     "start_time": "2022-02-11T19:55:16.090082",
     "status": "completed"
    },
    "tags": []
   },
   "outputs": [],
   "source": [
    "output = pd.DataFrame({\"Model\":['Decision Tree Classifier','Random Forest Classifier',\n",
    "                                'AdaBoost Classifier','KNeighbors Classifier','SGD Classifier',\n",
    "                                'Extra Trees Classifier','Gaussian NB'],\n",
    "                      \"Accuracy\":accuracy_test})\n"
   ]
  },
  {
   "cell_type": "code",
   "execution_count": 37,
   "id": "a48ce295",
   "metadata": {
    "execution": {
     "iopub.execute_input": "2022-02-11T19:55:16.308587Z",
     "iopub.status.busy": "2022-02-11T19:55:16.288416Z",
     "iopub.status.idle": "2022-02-11T19:55:16.489581Z",
     "shell.execute_reply": "2022-02-11T19:55:16.490102Z",
     "shell.execute_reply.started": "2022-02-11T19:26:39.827747Z"
    },
    "papermill": {
     "duration": 0.27489,
     "end_time": "2022-02-11T19:55:16.490284",
     "exception": false,
     "start_time": "2022-02-11T19:55:16.215394",
     "status": "completed"
    },
    "tags": []
   },
   "outputs": [
    {
     "data": {
      "image/png": "[encoded data removed]",
      "text/plain": [
       "<Figure size 720x360 with 1 Axes>"
      ]
     },
     "metadata": {
      "needs_background": "light"
     },
     "output_type": "display_data"
    }
   ],
   "source": [
    "plt.figure(figsize=(10, 5))\n",
    "plots = sns.barplot(x='Model', y='Accuracy', data=output)\n",
    "for bar in plots.patches:\n",
    "    plots.annotate(format(bar.get_height(), '.2f'),\n",
    "                   (bar.get_x() + bar.get_width() / 2,\n",
    "                    bar.get_height()), ha='center', va='center',\n",
    "                   size=15, xytext=(0, 8),\n",
    "                   textcoords='offset points')\n",
    "\n",
    "plt.xlabel(\"Models\", size=14)\n",
    "plt.xticks(rotation=20);\n",
    "plt.ylabel(\"Accuracy\", size=14)\n",
    "plt.show()"
   ]
  }
 ],
 "metadata": {
  "kernelspec": {
   "display_name": "Python 3",
   "language": "python",
   "name": "python3"
  },
  "language_info": {
   "codemirror_mode": {
    "name": "ipython",
    "version": 3
   },
   "file_extension": ".py",
   "mimetype": "text/x-python",
   "name": "python",
   "nbconvert_exporter": "python",
   "pygments_lexer": "ipython3",
   "version": "3.7.12"
  },
  "papermill": {
   "default_parameters": {},
   "duration": 405.966279,
   "end_time": "2022-02-11T19:55:17.570223",
   "environment_variables": {},
   "exception": null,
   "input_path": "__notebook__.ipynb",
   "output_path": "__notebook__.ipynb",
   "parameters": {},
   "start_time": "2022-02-11T19:48:31.603944",
   "version": "2.3.3"
  }
 },
 "nbformat": 4,
 "nbformat_minor": 5
}
